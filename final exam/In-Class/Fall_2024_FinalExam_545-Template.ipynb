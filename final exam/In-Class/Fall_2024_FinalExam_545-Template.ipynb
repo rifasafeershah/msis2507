{
 "cells": [
  {
   "cell_type": "markdown",
   "metadata": {},
   "source": [
    "# Data Analytics /w Python Final Exam, 2024 Fall, Session 5:45 PM"
   ]
  },
  {
   "cell_type": "markdown",
   "metadata": {},
   "source": [
    "<p><b>Instructions</b>\n",
    "<ol>\n",
    "<li>Download all the .csv file into the same folder as the current Jupyter notebook\n",
    "<li>Run the code below and then answer the questions\n",
    "</ol></p>"
   ]
  },
  {
   "cell_type": "markdown",
   "metadata": {},
   "source": [
    "<b>Penalties:</b> You will incur penalties if:\n",
    "<ul>\n",
    "<li>Your answer/code is wrong.</li>\n",
    "<li>Your answer format is different than the question requested.</li>\n",
    "<li>Your code does not work on different data (no hard coding).</li>\n",
    "<li>You use for loops or list comprehension.</li>\n",
    "<li>Your code is directly or indirectly referenced from GenAI tools.</li>\n",
    "<li>Your code is identical or highly similar to that of another student (all parties involved will face penalties).</li>\n",
    "<li>Your code deviates entirely from the concepts and methods taught in the course lectures.</li>\n",
    "</ul>"
   ]
  },
  {
   "cell_type": "code",
   "execution_count": 2,
   "metadata": {},
   "outputs": [],
   "source": [
    "import pandas as pd\n",
    "import numpy as np\n",
    "import seaborn as sns\n",
    "\n",
    "# print all the outputs in a cell\n",
    "from IPython.core.interactiveshell import InteractiveShell\n",
    "InteractiveShell.ast_node_interactivity = \"all\"\n",
    "\n",
    "# suppress all warning\n",
    "#import warnings\n",
    "#warnings.simplefilter(action='ignore')"
   ]
  },
  {
   "cell_type": "code",
   "execution_count": 4,
   "metadata": {},
   "outputs": [],
   "source": [
    "df_2016 = pd.read_csv('US_crime_rate_2016.csv', thousands=',')\n",
    "df_2017 = pd.read_csv('US_crime_rate_2017.csv', thousands=',')"
   ]
  },
  {
   "cell_type": "code",
   "execution_count": 6,
   "metadata": {},
   "outputs": [],
   "source": [
    "pd.set_option('display.max_rows', 500)\n",
    "pd.set_option('display.max_columns', 200)"
   ]
  },
  {
   "cell_type": "markdown",
   "metadata": {},
   "source": [
    "<p>These two data sets report information for year 2016 and year 2017, Offenses Reported to Law Enforcement by State by City 100,000 and over in population.\t\t\t\n",
    "<ul>\n",
    "<li><b>State</b>: \n",
    "<li><b>City</b>:\n",
    "<li><b>Year</b>: \n",
    "<li><b>Population</b>: \n",
    "<li><b>Violent crime</b>: \n",
    "<li><b>Murder</b>: \n",
    "<li><b>Rape</b>: \n",
    "<li><b>Robbery</b>: \n",
    "<li><b>Aggravated assault</b>: \n",
    "<li><b>Property crime</b>: \n",
    "<li><b>Burglary</b>: \n",
    "<li><b>Larceny-theft</b>: \n",
    "<li><b>Motor vehicle theft</b>: \n",
    "<li><b>Arson</b>: \n",
    "</ul></p>\n"
   ]
  },
  {
   "cell_type": "code",
   "execution_count": 9,
   "metadata": {
    "scrolled": true
   },
   "outputs": [
    {
     "data": {
      "text/html": [
       "<div>\n",
       "<style scoped>\n",
       "    .dataframe tbody tr th:only-of-type {\n",
       "        vertical-align: middle;\n",
       "    }\n",
       "\n",
       "    .dataframe tbody tr th {\n",
       "        vertical-align: top;\n",
       "    }\n",
       "\n",
       "    .dataframe thead th {\n",
       "        text-align: right;\n",
       "    }\n",
       "</style>\n",
       "<table border=\"1\" class=\"dataframe\">\n",
       "  <thead>\n",
       "    <tr style=\"text-align: right;\">\n",
       "      <th></th>\n",
       "      <th>State</th>\n",
       "      <th>City</th>\n",
       "      <th>Year</th>\n",
       "      <th>Population</th>\n",
       "      <th>Violent crime</th>\n",
       "      <th>Murder</th>\n",
       "      <th>Rape</th>\n",
       "      <th>Robbery</th>\n",
       "      <th>Aggravated assault</th>\n",
       "      <th>Property crime</th>\n",
       "      <th>Burglary</th>\n",
       "      <th>Larceny-theft</th>\n",
       "      <th>Motor vehicle theft</th>\n",
       "      <th>Arson</th>\n",
       "    </tr>\n",
       "  </thead>\n",
       "  <tbody>\n",
       "    <tr>\n",
       "      <th>0</th>\n",
       "      <td>ALABAMA</td>\n",
       "      <td>BIRMINGHAM</td>\n",
       "      <td>2016</td>\n",
       "      <td>212549</td>\n",
       "      <td>1732</td>\n",
       "      <td>44</td>\n",
       "      <td>75</td>\n",
       "      <td>460</td>\n",
       "      <td>1153</td>\n",
       "      <td>5875</td>\n",
       "      <td>1318</td>\n",
       "      <td>3807</td>\n",
       "      <td>750</td>\n",
       "      <td>76</td>\n",
       "    </tr>\n",
       "    <tr>\n",
       "      <th>1</th>\n",
       "      <td>ALABAMA</td>\n",
       "      <td>MOBILE</td>\n",
       "      <td>2016</td>\n",
       "      <td>249921</td>\n",
       "      <td>793</td>\n",
       "      <td>18</td>\n",
       "      <td>47</td>\n",
       "      <td>181</td>\n",
       "      <td>547</td>\n",
       "      <td>5169</td>\n",
       "      <td>1100</td>\n",
       "      <td>3724</td>\n",
       "      <td>345</td>\n",
       "      <td>45</td>\n",
       "    </tr>\n",
       "    <tr>\n",
       "      <th>2</th>\n",
       "      <td>ALABAMA</td>\n",
       "      <td>MONTGOMERY</td>\n",
       "      <td>2016</td>\n",
       "      <td>199565</td>\n",
       "      <td>563</td>\n",
       "      <td>18</td>\n",
       "      <td>42</td>\n",
       "      <td>187</td>\n",
       "      <td>316</td>\n",
       "      <td>4229</td>\n",
       "      <td>1043</td>\n",
       "      <td>2790</td>\n",
       "      <td>396</td>\n",
       "      <td>35</td>\n",
       "    </tr>\n",
       "    <tr>\n",
       "      <th>3</th>\n",
       "      <td>ALASKA</td>\n",
       "      <td>ANCHORAGE</td>\n",
       "      <td>2016</td>\n",
       "      <td>299097</td>\n",
       "      <td>1692</td>\n",
       "      <td>9</td>\n",
       "      <td>302</td>\n",
       "      <td>326</td>\n",
       "      <td>1055</td>\n",
       "      <td>6853</td>\n",
       "      <td>1031</td>\n",
       "      <td>4901</td>\n",
       "      <td>921</td>\n",
       "      <td>38</td>\n",
       "    </tr>\n",
       "    <tr>\n",
       "      <th>4</th>\n",
       "      <td>ARIZONA</td>\n",
       "      <td>CHANDLER</td>\n",
       "      <td>2016</td>\n",
       "      <td>265922</td>\n",
       "      <td>272</td>\n",
       "      <td>1</td>\n",
       "      <td>61</td>\n",
       "      <td>69</td>\n",
       "      <td>141</td>\n",
       "      <td>2987</td>\n",
       "      <td>453</td>\n",
       "      <td>2373</td>\n",
       "      <td>161</td>\n",
       "      <td>8</td>\n",
       "    </tr>\n",
       "  </tbody>\n",
       "</table>\n",
       "</div>"
      ],
      "text/plain": [
       "     State        City  Year  Population  Violent crime  Murder  Rape  \\\n",
       "0  ALABAMA  BIRMINGHAM  2016      212549           1732      44    75   \n",
       "1  ALABAMA      MOBILE  2016      249921            793      18    47   \n",
       "2  ALABAMA  MONTGOMERY  2016      199565            563      18    42   \n",
       "3   ALASKA   ANCHORAGE  2016      299097           1692       9   302   \n",
       "4  ARIZONA    CHANDLER  2016      265922            272       1    61   \n",
       "\n",
       "   Robbery  Aggravated assault  Property crime  Burglary  Larceny-theft  \\\n",
       "0      460                1153            5875      1318           3807   \n",
       "1      181                 547            5169      1100           3724   \n",
       "2      187                 316            4229      1043           2790   \n",
       "3      326                1055            6853      1031           4901   \n",
       "4       69                 141            2987       453           2373   \n",
       "\n",
       "   Motor vehicle theft  Arson  \n",
       "0                  750     76  \n",
       "1                  345     45  \n",
       "2                  396     35  \n",
       "3                  921     38  \n",
       "4                  161      8  "
      ]
     },
     "execution_count": 9,
     "metadata": {},
     "output_type": "execute_result"
    }
   ],
   "source": [
    "df_2016.head()"
   ]
  },
  {
   "cell_type": "code",
   "execution_count": 11,
   "metadata": {},
   "outputs": [
    {
     "data": {
      "text/html": [
       "<div>\n",
       "<style scoped>\n",
       "    .dataframe tbody tr th:only-of-type {\n",
       "        vertical-align: middle;\n",
       "    }\n",
       "\n",
       "    .dataframe tbody tr th {\n",
       "        vertical-align: top;\n",
       "    }\n",
       "\n",
       "    .dataframe thead th {\n",
       "        text-align: right;\n",
       "    }\n",
       "</style>\n",
       "<table border=\"1\" class=\"dataframe\">\n",
       "  <thead>\n",
       "    <tr style=\"text-align: right;\">\n",
       "      <th></th>\n",
       "      <th>State</th>\n",
       "      <th>City</th>\n",
       "      <th>Year</th>\n",
       "      <th>Population</th>\n",
       "      <th>Violent crime</th>\n",
       "      <th>Murder</th>\n",
       "      <th>Rape</th>\n",
       "      <th>Robbery</th>\n",
       "      <th>Aggravated assault</th>\n",
       "      <th>Property crime</th>\n",
       "      <th>Burglary</th>\n",
       "      <th>Larceny-theft</th>\n",
       "      <th>Motor vehicle theft</th>\n",
       "      <th>Arson</th>\n",
       "    </tr>\n",
       "  </thead>\n",
       "  <tbody>\n",
       "    <tr>\n",
       "      <th>0</th>\n",
       "      <td>ALABAMA</td>\n",
       "      <td>BIRMINGHAM</td>\n",
       "      <td>2017</td>\n",
       "      <td>NaN</td>\n",
       "      <td>1829</td>\n",
       "      <td>42</td>\n",
       "      <td>92</td>\n",
       "      <td>472</td>\n",
       "      <td>1223</td>\n",
       "      <td>6458</td>\n",
       "      <td>1292</td>\n",
       "      <td>4350</td>\n",
       "      <td>816</td>\n",
       "      <td>87</td>\n",
       "    </tr>\n",
       "    <tr>\n",
       "      <th>1</th>\n",
       "      <td>ALABAMA</td>\n",
       "      <td>MOBILE</td>\n",
       "      <td>2017</td>\n",
       "      <td>NaN</td>\n",
       "      <td>925</td>\n",
       "      <td>20</td>\n",
       "      <td>53</td>\n",
       "      <td>235</td>\n",
       "      <td>617</td>\n",
       "      <td>6482</td>\n",
       "      <td>1507</td>\n",
       "      <td>4344</td>\n",
       "      <td>631</td>\n",
       "      <td>51</td>\n",
       "    </tr>\n",
       "    <tr>\n",
       "      <th>2</th>\n",
       "      <td>ALABAMA</td>\n",
       "      <td>MONTGOMERY</td>\n",
       "      <td>2017</td>\n",
       "      <td>NaN</td>\n",
       "      <td>656</td>\n",
       "      <td>19</td>\n",
       "      <td>35</td>\n",
       "      <td>185</td>\n",
       "      <td>417</td>\n",
       "      <td>4246</td>\n",
       "      <td>1031</td>\n",
       "      <td>2797</td>\n",
       "      <td>418</td>\n",
       "      <td>41</td>\n",
       "    </tr>\n",
       "    <tr>\n",
       "      <th>3</th>\n",
       "      <td>ALASKA</td>\n",
       "      <td>ANCHORAGE</td>\n",
       "      <td>2017</td>\n",
       "      <td>NaN</td>\n",
       "      <td>1707</td>\n",
       "      <td>13</td>\n",
       "      <td>196</td>\n",
       "      <td>369</td>\n",
       "      <td>1129</td>\n",
       "      <td>7708</td>\n",
       "      <td>1089</td>\n",
       "      <td>5180</td>\n",
       "      <td>1439</td>\n",
       "      <td>31</td>\n",
       "    </tr>\n",
       "    <tr>\n",
       "      <th>4</th>\n",
       "      <td>ARIZONA</td>\n",
       "      <td>CHANDLER</td>\n",
       "      <td>2017</td>\n",
       "      <td>NaN</td>\n",
       "      <td>303</td>\n",
       "      <td>1</td>\n",
       "      <td>67</td>\n",
       "      <td>72</td>\n",
       "      <td>163</td>\n",
       "      <td>2906</td>\n",
       "      <td>401</td>\n",
       "      <td>2298</td>\n",
       "      <td>207</td>\n",
       "      <td>10</td>\n",
       "    </tr>\n",
       "  </tbody>\n",
       "</table>\n",
       "</div>"
      ],
      "text/plain": [
       "     State        City  Year  Population  Violent crime  Murder  Rape  \\\n",
       "0  ALABAMA  BIRMINGHAM  2017         NaN           1829      42    92   \n",
       "1  ALABAMA      MOBILE  2017         NaN            925      20    53   \n",
       "2  ALABAMA  MONTGOMERY  2017         NaN            656      19    35   \n",
       "3   ALASKA   ANCHORAGE  2017         NaN           1707      13   196   \n",
       "4  ARIZONA    CHANDLER  2017         NaN            303       1    67   \n",
       "\n",
       "   Robbery  Aggravated assault  Property crime  Burglary  Larceny-theft  \\\n",
       "0      472                1223            6458      1292           4350   \n",
       "1      235                 617            6482      1507           4344   \n",
       "2      185                 417            4246      1031           2797   \n",
       "3      369                1129            7708      1089           5180   \n",
       "4       72                 163            2906       401           2298   \n",
       "\n",
       "   Motor vehicle theft  Arson  \n",
       "0                  816     87  \n",
       "1                  631     51  \n",
       "2                  418     41  \n",
       "3                 1439     31  \n",
       "4                  207     10  "
      ]
     },
     "execution_count": 11,
     "metadata": {},
     "output_type": "execute_result"
    }
   ],
   "source": [
    "df_2017.head()"
   ]
  },
  {
   "cell_type": "markdown",
   "metadata": {},
   "source": [
    "## Q1, Let's take a look at some general information. (30 pts) \n",
    "### Hint: Pay attention on 'Year'"
   ]
  },
  {
   "cell_type": "markdown",
   "metadata": {},
   "source": [
    "### **Q1.1:** Are there any NaN values in these two datasets? Respond with 'True' or 'False'. If 'True', also provide the column names where NaN values exist. *(5 pts)*"
   ]
  },
  {
   "cell_type": "code",
   "execution_count": null,
   "metadata": {},
   "outputs": [],
   "source": []
  },
  {
   "cell_type": "markdown",
   "metadata": {},
   "source": [
    "### **Q1.2**, If there are column(s) with NaN in one of the data set, fill in the missing data with the matching column from another data set.  After this step, show both data sets have no missing data anymore. (5 pts)"
   ]
  },
  {
   "cell_type": "code",
   "execution_count": null,
   "metadata": {},
   "outputs": [],
   "source": []
  },
  {
   "cell_type": "markdown",
   "metadata": {},
   "source": [
    "### **Q1.3:** Using the 2016 records, how many cities have names starting with the letter 'M'? *(5 pts)*"
   ]
  },
  {
   "cell_type": "code",
   "execution_count": null,
   "metadata": {},
   "outputs": [],
   "source": []
  },
  {
   "cell_type": "markdown",
   "metadata": {},
   "source": [
    "### **Q1.4:** From the 2017 records, which city has the highest number of aggravated assault cases? Provide the city's name and the case count. *(5 pts)*"
   ]
  },
  {
   "cell_type": "code",
   "execution_count": null,
   "metadata": {},
   "outputs": [],
   "source": []
  },
  {
   "cell_type": "markdown",
   "metadata": {},
   "source": [
    "### **Q1.5:** In the 2016 records, how many cities have a population greater than ten times the average city population across the entire dataset? Additionally, list these cities in a **List** data structure *(5 pts)*"
   ]
  },
  {
   "cell_type": "code",
   "execution_count": null,
   "metadata": {},
   "outputs": [],
   "source": []
  },
  {
   "cell_type": "markdown",
   "metadata": {},
   "source": [
    "### **Q1.6:** Based on the 2017 records:\n",
    "####   Q1.6.1, How many unique cities are present in the dataset? (1 pt)\n",
    "####   Q1.6.2, What is the most frequently appearing city name in the dataset, and how many times does it appear? (2 pts)\n",
    "####   Q1.6.3, List the state names that contain the most frequently appearing city. (2 pts)\n",
    "Hints:\n",
    "\n",
    "1, The same city name in different states should be treated as separate entries.\n",
    "\n",
    "2, Your code should account for potential ties."
   ]
  },
  {
   "cell_type": "markdown",
   "metadata": {},
   "source": [
    "Q1.6.1:"
   ]
  },
  {
   "cell_type": "code",
   "execution_count": null,
   "metadata": {},
   "outputs": [],
   "source": []
  },
  {
   "cell_type": "markdown",
   "metadata": {},
   "source": [
    "Q1.6.2:"
   ]
  },
  {
   "cell_type": "code",
   "execution_count": null,
   "metadata": {},
   "outputs": [],
   "source": []
  },
  {
   "cell_type": "markdown",
   "metadata": {},
   "source": [
    "Q1.6.3:"
   ]
  },
  {
   "cell_type": "code",
   "execution_count": null,
   "metadata": {},
   "outputs": [],
   "source": []
  },
  {
   "cell_type": "markdown",
   "metadata": {},
   "source": [
    "## Q2 Look into crimes in Year 2016 (10 pts)"
   ]
  },
  {
   "cell_type": "markdown",
   "metadata": {},
   "source": [
    "### Q2.1 Based on 2016's record, find the cities that has more than 100 murders and 1000 robberies. List the city names only. (5 pts)"
   ]
  },
  {
   "cell_type": "code",
   "execution_count": null,
   "metadata": {},
   "outputs": [],
   "source": []
  },
  {
   "cell_type": "markdown",
   "metadata": {},
   "source": [
    "### **Q2.2:** According to the 2016 records:\n",
    "###   - Which state(s) have the highest number of cities included in the dataset?\n",
    "###   - Which state(s) have the lowest number of cities included?  \n",
    "###   Provide the state names and their respective city counts. Include all states in the case of a tie. *(5 pts)*"
   ]
  },
  {
   "cell_type": "code",
   "execution_count": null,
   "metadata": {},
   "outputs": [],
   "source": []
  },
  {
   "cell_type": "markdown",
   "metadata": {},
   "source": [
    "## Q3 Combine both years' record into one. (10 pts)"
   ]
  },
  {
   "cell_type": "markdown",
   "metadata": {},
   "source": [
    "### **Q3.1:** Using these two datasets, create a combined dataset with `pd.concat()`. What are the row and column counts for the resulting DataFrame? *(5 pts)*  \n",
    "Hint: Refer to the Pandas documentation for `pd.concat()`"
   ]
  },
  {
   "cell_type": "code",
   "execution_count": null,
   "metadata": {},
   "outputs": [],
   "source": []
  },
  {
   "cell_type": "markdown",
   "metadata": {},
   "source": [
    "### Q3.2, Rearrange this new data set's rows so the same State/City has Year 2016 and 2017's data listed adjacent to each other. After the rearrangement, shows the last 5 rows's State, City, Year and Population. (5 pts)\n",
    "\n",
    "#### Example:\n",
    "\n",
    "<img src=\"df-example.jpg\" />"
   ]
  },
  {
   "cell_type": "code",
   "execution_count": null,
   "metadata": {},
   "outputs": [],
   "source": []
  },
  {
   "cell_type": "markdown",
   "metadata": {},
   "source": [
    "## Q4, More crime investigations  (20 pts)"
   ]
  },
  {
   "cell_type": "markdown",
   "metadata": {},
   "source": [
    "### **Q4.1** Identify the cities where the number of 'Motor vehicle theft' cases exceeds six times the dataset's average. How many such cities are there, and what are their names? (5 pts)"
   ]
  },
  {
   "cell_type": "code",
   "execution_count": null,
   "metadata": {},
   "outputs": [],
   "source": []
  },
  {
   "cell_type": "markdown",
   "metadata": {},
   "source": [
    "### Q4.2, Assume the 'crime_index' is calculated as follows: `crime_index = Violent crime + Aggravated assault + Property crime + Robbery`. Using data from both 2016 and 2017, identify the top 3 cities with the highest combined 'crime_index'. Provide the State, City, and the combined 'crime_index' for these cities.  (5 pts)"
   ]
  },
  {
   "cell_type": "code",
   "execution_count": null,
   "metadata": {},
   "outputs": [],
   "source": []
  },
  {
   "cell_type": "markdown",
   "metadata": {},
   "source": [
    "### Q4.3, Now, let's factor in the 'Population' by defining a 'normalized_crime_index' as: `(crime_index / Population) * 100`. Based on the combined 'crime_index' for 2016 and 2017, identify the top 3 cities with the highest 'normalized_crime_index'. Provide the State, City, and 'normalized_crime_index' for these cities.  (5 pts)"
   ]
  },
  {
   "cell_type": "code",
   "execution_count": null,
   "metadata": {},
   "outputs": [],
   "source": []
  },
  {
   "cell_type": "markdown",
   "metadata": {},
   "source": [
    "### Q4.4, For each state, determine the following: (1) the total number of cities in the dataset (rename this column to 'City_count'), and (2) the maximum population, minimum population, and the difference between them (rename this column to 'Spread_Population') for cities in that state. Display the results in a table, showing only the first 5 states.  (5 pts)\n",
    "\n",
    "Hint: don't double count the city "
   ]
  },
  {
   "cell_type": "code",
   "execution_count": null,
   "metadata": {},
   "outputs": [],
   "source": []
  },
  {
   "cell_type": "markdown",
   "metadata": {},
   "source": [
    "## Q5 Charts, Correlations and Crimes (15 pts)"
   ]
  },
  {
   "cell_type": "markdown",
   "metadata": {},
   "source": [
    "### Q5.1, Plot a bar chart to show the top 10 states with the highest arson count. (5 pts)"
   ]
  },
  {
   "cell_type": "code",
   "execution_count": null,
   "metadata": {},
   "outputs": [],
   "source": []
  },
  {
   "cell_type": "markdown",
   "metadata": {},
   "source": [
    "### Q5.2, Remove all columns that were added by you and restore the DataFrame to its original state. Using correlations, identify the top 3 pairs of crime types with the strongest relationships to each other. (5 pts)"
   ]
  },
  {
   "cell_type": "code",
   "execution_count": null,
   "metadata": {},
   "outputs": [],
   "source": []
  },
  {
   "cell_type": "markdown",
   "metadata": {},
   "source": [
    "### Q5.3, Using data from both 2016 and 2017, compare the *Violent crime* counts for each City between the two years. Identify the top 5 cities with the largest increase in counts (`counts(2017) - counts(2016)`) and name this column 'Vcrime Increase'. Display the State, City, and 'Vcrime Increase' columns only. (5 pts)\n",
    " \n",
    "Hint: Start with **merging** df_2016 and df_2017 as one data frame."
   ]
  },
  {
   "cell_type": "code",
   "execution_count": null,
   "metadata": {},
   "outputs": [],
   "source": []
  },
  {
   "cell_type": "markdown",
   "metadata": {},
   "source": [
    "## Q6 Machine Learning (15 pts)"
   ]
  },
  {
   "cell_type": "code",
   "execution_count": 102,
   "metadata": {},
   "outputs": [],
   "source": [
    "import sklearn as sk\n",
    "import sklearn.tree as tree\n",
    "from IPython.display import Image  \n",
    "import pydotplus"
   ]
  },
  {
   "cell_type": "markdown",
   "metadata": {},
   "source": [
    "### Some preparation works done for you:\n",
    "* Load US_crime_rate_ML.csv as df_ML\n",
    "* Create a 2-levels DecisionTree object as dt"
   ]
  },
  {
   "cell_type": "code",
   "execution_count": 104,
   "metadata": {},
   "outputs": [],
   "source": [
    "df_ML=pd.read_csv('US_crime_rate_ML.csv')"
   ]
  },
  {
   "cell_type": "markdown",
   "metadata": {},
   "source": [
    "Set up a 2-levels Decision Tree Classifier"
   ]
  },
  {
   "cell_type": "code",
   "execution_count": 106,
   "metadata": {},
   "outputs": [],
   "source": [
    "dt = tree.DecisionTreeClassifier(max_depth=2)"
   ]
  },
  {
   "cell_type": "markdown",
   "metadata": {},
   "source": [
    "### Q6.1, Using `df_ML`, define a 'Safe City' as a city where 'Violent crime' is less than or equal to 50% of the national average for 'Violent crime'. Treat 'Safe City' as the target variable (Y) and build a two-level Decision Tree. \n",
    "\n",
    "### Q6.1.1: First, display the Decision Tree graph *(5 pts)*, \n",
    "\n",
    "### Q6.1.2: Interpret the graph by explaining the characteristics of the 4 different end nodes.   (5 pts)"
   ]
  },
  {
   "cell_type": "markdown",
   "metadata": {},
   "source": [
    "Q6.1.1:"
   ]
  },
  {
   "cell_type": "code",
   "execution_count": null,
   "metadata": {},
   "outputs": [],
   "source": []
  },
  {
   "cell_type": "markdown",
   "metadata": {},
   "source": [
    "#### Q6.1.2, Conclusion:\n",
    "Node 1(the leftmost): fill-in-the-blank\n",
    "\n",
    "Node 2(the 2nd from left): fill-in-the-blank\n",
    "\n",
    "Node 3(the 2nd from right): fill-in-the-blank\n",
    "\n",
    "Node 4(the rightmost): fill-in-the-blank"
   ]
  },
  {
   "cell_type": "markdown",
   "metadata": {},
   "source": [
    "### Q6.2, Use two bar charts to prove the DecisionTree made a good choice on selecting those criterias. Provide a oneliner conclusion for each graph. (5 pts)\n",
    "\n",
    "Hint: Use discretization."
   ]
  },
  {
   "cell_type": "markdown",
   "metadata": {},
   "source": [
    "### Graph 1, Focus on  *Aggravated assult* only.  (2.5 pts)"
   ]
  },
  {
   "cell_type": "code",
   "execution_count": null,
   "metadata": {},
   "outputs": [],
   "source": []
  },
  {
   "cell_type": "markdown",
   "metadata": {},
   "source": [
    "**conclusion 1**:  fill-in-the-blank"
   ]
  },
  {
   "cell_type": "markdown",
   "metadata": {},
   "source": [
    "### Graph 2, Focus on *Robbery* only. (2.5 pts)"
   ]
  },
  {
   "cell_type": "code",
   "execution_count": null,
   "metadata": {},
   "outputs": [],
   "source": []
  },
  {
   "cell_type": "markdown",
   "metadata": {},
   "source": [
    "**Conclusion 2:** fill-in-the-blank"
   ]
  },
  {
   "cell_type": "code",
   "execution_count": null,
   "metadata": {},
   "outputs": [],
   "source": []
  }
 ],
 "metadata": {
  "kernelspec": {
   "display_name": "Python 3 (ipykernel)",
   "language": "python",
   "name": "python3"
  },
  "language_info": {
   "codemirror_mode": {
    "name": "ipython",
    "version": 3
   },
   "file_extension": ".py",
   "mimetype": "text/x-python",
   "name": "python",
   "nbconvert_exporter": "python",
   "pygments_lexer": "ipython3",
   "version": "3.12.2"
  }
 },
 "nbformat": 4,
 "nbformat_minor": 4
}
