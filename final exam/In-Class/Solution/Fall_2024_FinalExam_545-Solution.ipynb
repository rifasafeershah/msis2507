{
 "cells": [
  {
   "cell_type": "markdown",
   "metadata": {},
   "source": [
    "# Data Analytics /w Python Final Exam, 2024 Fall, Session 5:45 PM"
   ]
  },
  {
   "cell_type": "markdown",
   "metadata": {},
   "source": [
    "<p><b>Instructions</b>\n",
    "<ol>\n",
    "<li>Download all the .csv file into the same folder as the current Jupyter notebook\n",
    "<li>Run the code below and then answer the questions\n",
    "</ol></p>"
   ]
  },
  {
   "cell_type": "markdown",
   "metadata": {},
   "source": [
    "<b>Penalties:</b> You will incur penalties if:\n",
    "<ul>\n",
    "<li>Your answer/code is wrong.</li>\n",
    "<li>Your answer format is different than the question requested.</li>\n",
    "<li>Your code does not work on different data (no hard coding).</li>\n",
    "<li>You use for loops or list comprehension.</li>\n",
    "<li>Your code is directly or indirectly referenced from GenAI tools.</li>\n",
    "<li>Your code is identical or highly similar to that of another student (all parties involved will face penalties).</li>\n",
    "<li>Your code deviates entirely from the concepts and methods taught in the course lectures.</li>\n",
    "</ul>"
   ]
  },
  {
   "cell_type": "code",
   "execution_count": 4,
   "metadata": {},
   "outputs": [],
   "source": [
    "import pandas as pd\n",
    "import numpy as np\n",
    "import seaborn as sns\n",
    "\n",
    "# print all the outputs in a cell\n",
    "from IPython.core.interactiveshell import InteractiveShell\n",
    "InteractiveShell.ast_node_interactivity = \"all\"\n",
    "\n",
    "# suppress all warning\n",
    "#import warnings\n",
    "#warnings.simplefilter(action='ignore')"
   ]
  },
  {
   "cell_type": "code",
   "execution_count": 5,
   "metadata": {},
   "outputs": [],
   "source": [
    "df_2016 = pd.read_csv('US_crime_rate_2016.csv', thousands=',')\n",
    "df_2017 = pd.read_csv('US_crime_rate_2017.csv', thousands=',')"
   ]
  },
  {
   "cell_type": "code",
   "execution_count": 6,
   "metadata": {},
   "outputs": [],
   "source": [
    "pd.set_option('display.max_rows', 500)\n",
    "pd.set_option('display.max_columns', 200)"
   ]
  },
  {
   "cell_type": "markdown",
   "metadata": {},
   "source": [
    "<p>These two data sets report information for year 2016 and year 2017, Offenses Reported to Law Enforcement by State by City 100,000 and over in population.\t\t\t\n",
    "<ul>\n",
    "<li><b>State</b>: \n",
    "<li><b>City</b>:\n",
    "<li><b>Year</b>: \n",
    "<li><b>Population</b>: \n",
    "<li><b>Violent crime</b>: \n",
    "<li><b>Murder</b>: \n",
    "<li><b>Rape</b>: \n",
    "<li><b>Robbery</b>: \n",
    "<li><b>Aggravated assault</b>: \n",
    "<li><b>Property crime</b>: \n",
    "<li><b>Burglary</b>: \n",
    "<li><b>Larceny-theft</b>: \n",
    "<li><b>Motor vehicle theft</b>: \n",
    "<li><b>Arson</b>: \n",
    "</ul></p>\n"
   ]
  },
  {
   "cell_type": "code",
   "execution_count": 8,
   "metadata": {
    "scrolled": true
   },
   "outputs": [
    {
     "data": {
      "text/html": [
       "<div>\n",
       "<style scoped>\n",
       "    .dataframe tbody tr th:only-of-type {\n",
       "        vertical-align: middle;\n",
       "    }\n",
       "\n",
       "    .dataframe tbody tr th {\n",
       "        vertical-align: top;\n",
       "    }\n",
       "\n",
       "    .dataframe thead th {\n",
       "        text-align: right;\n",
       "    }\n",
       "</style>\n",
       "<table border=\"1\" class=\"dataframe\">\n",
       "  <thead>\n",
       "    <tr style=\"text-align: right;\">\n",
       "      <th></th>\n",
       "      <th>State</th>\n",
       "      <th>City</th>\n",
       "      <th>Year</th>\n",
       "      <th>Population</th>\n",
       "      <th>Violent crime</th>\n",
       "      <th>Murder</th>\n",
       "      <th>Rape</th>\n",
       "      <th>Robbery</th>\n",
       "      <th>Aggravated assault</th>\n",
       "      <th>Property crime</th>\n",
       "      <th>Burglary</th>\n",
       "      <th>Larceny-theft</th>\n",
       "      <th>Motor vehicle theft</th>\n",
       "      <th>Arson</th>\n",
       "    </tr>\n",
       "  </thead>\n",
       "  <tbody>\n",
       "    <tr>\n",
       "      <th>0</th>\n",
       "      <td>ALABAMA</td>\n",
       "      <td>BIRMINGHAM</td>\n",
       "      <td>2016</td>\n",
       "      <td>212549</td>\n",
       "      <td>1732</td>\n",
       "      <td>44</td>\n",
       "      <td>75</td>\n",
       "      <td>460</td>\n",
       "      <td>1153</td>\n",
       "      <td>5875</td>\n",
       "      <td>1318</td>\n",
       "      <td>3807</td>\n",
       "      <td>750</td>\n",
       "      <td>76</td>\n",
       "    </tr>\n",
       "    <tr>\n",
       "      <th>1</th>\n",
       "      <td>ALABAMA</td>\n",
       "      <td>MOBILE</td>\n",
       "      <td>2016</td>\n",
       "      <td>249921</td>\n",
       "      <td>793</td>\n",
       "      <td>18</td>\n",
       "      <td>47</td>\n",
       "      <td>181</td>\n",
       "      <td>547</td>\n",
       "      <td>5169</td>\n",
       "      <td>1100</td>\n",
       "      <td>3724</td>\n",
       "      <td>345</td>\n",
       "      <td>45</td>\n",
       "    </tr>\n",
       "    <tr>\n",
       "      <th>2</th>\n",
       "      <td>ALABAMA</td>\n",
       "      <td>MONTGOMERY</td>\n",
       "      <td>2016</td>\n",
       "      <td>199565</td>\n",
       "      <td>563</td>\n",
       "      <td>18</td>\n",
       "      <td>42</td>\n",
       "      <td>187</td>\n",
       "      <td>316</td>\n",
       "      <td>4229</td>\n",
       "      <td>1043</td>\n",
       "      <td>2790</td>\n",
       "      <td>396</td>\n",
       "      <td>35</td>\n",
       "    </tr>\n",
       "    <tr>\n",
       "      <th>3</th>\n",
       "      <td>ALASKA</td>\n",
       "      <td>ANCHORAGE</td>\n",
       "      <td>2016</td>\n",
       "      <td>299097</td>\n",
       "      <td>1692</td>\n",
       "      <td>9</td>\n",
       "      <td>302</td>\n",
       "      <td>326</td>\n",
       "      <td>1055</td>\n",
       "      <td>6853</td>\n",
       "      <td>1031</td>\n",
       "      <td>4901</td>\n",
       "      <td>921</td>\n",
       "      <td>38</td>\n",
       "    </tr>\n",
       "    <tr>\n",
       "      <th>4</th>\n",
       "      <td>ARIZONA</td>\n",
       "      <td>CHANDLER</td>\n",
       "      <td>2016</td>\n",
       "      <td>265922</td>\n",
       "      <td>272</td>\n",
       "      <td>1</td>\n",
       "      <td>61</td>\n",
       "      <td>69</td>\n",
       "      <td>141</td>\n",
       "      <td>2987</td>\n",
       "      <td>453</td>\n",
       "      <td>2373</td>\n",
       "      <td>161</td>\n",
       "      <td>8</td>\n",
       "    </tr>\n",
       "  </tbody>\n",
       "</table>\n",
       "</div>"
      ],
      "text/plain": [
       "     State        City  Year  Population  Violent crime  Murder  Rape  \\\n",
       "0  ALABAMA  BIRMINGHAM  2016      212549           1732      44    75   \n",
       "1  ALABAMA      MOBILE  2016      249921            793      18    47   \n",
       "2  ALABAMA  MONTGOMERY  2016      199565            563      18    42   \n",
       "3   ALASKA   ANCHORAGE  2016      299097           1692       9   302   \n",
       "4  ARIZONA    CHANDLER  2016      265922            272       1    61   \n",
       "\n",
       "   Robbery  Aggravated assault  Property crime  Burglary  Larceny-theft  \\\n",
       "0      460                1153            5875      1318           3807   \n",
       "1      181                 547            5169      1100           3724   \n",
       "2      187                 316            4229      1043           2790   \n",
       "3      326                1055            6853      1031           4901   \n",
       "4       69                 141            2987       453           2373   \n",
       "\n",
       "   Motor vehicle theft  Arson  \n",
       "0                  750     76  \n",
       "1                  345     45  \n",
       "2                  396     35  \n",
       "3                  921     38  \n",
       "4                  161      8  "
      ]
     },
     "execution_count": 8,
     "metadata": {},
     "output_type": "execute_result"
    }
   ],
   "source": [
    "df_2016.head()"
   ]
  },
  {
   "cell_type": "code",
   "execution_count": 9,
   "metadata": {},
   "outputs": [
    {
     "data": {
      "text/html": [
       "<div>\n",
       "<style scoped>\n",
       "    .dataframe tbody tr th:only-of-type {\n",
       "        vertical-align: middle;\n",
       "    }\n",
       "\n",
       "    .dataframe tbody tr th {\n",
       "        vertical-align: top;\n",
       "    }\n",
       "\n",
       "    .dataframe thead th {\n",
       "        text-align: right;\n",
       "    }\n",
       "</style>\n",
       "<table border=\"1\" class=\"dataframe\">\n",
       "  <thead>\n",
       "    <tr style=\"text-align: right;\">\n",
       "      <th></th>\n",
       "      <th>State</th>\n",
       "      <th>City</th>\n",
       "      <th>Year</th>\n",
       "      <th>Population</th>\n",
       "      <th>Violent crime</th>\n",
       "      <th>Murder</th>\n",
       "      <th>Rape</th>\n",
       "      <th>Robbery</th>\n",
       "      <th>Aggravated assault</th>\n",
       "      <th>Property crime</th>\n",
       "      <th>Burglary</th>\n",
       "      <th>Larceny-theft</th>\n",
       "      <th>Motor vehicle theft</th>\n",
       "      <th>Arson</th>\n",
       "    </tr>\n",
       "  </thead>\n",
       "  <tbody>\n",
       "    <tr>\n",
       "      <th>0</th>\n",
       "      <td>ALABAMA</td>\n",
       "      <td>BIRMINGHAM</td>\n",
       "      <td>2017</td>\n",
       "      <td>NaN</td>\n",
       "      <td>1829</td>\n",
       "      <td>42</td>\n",
       "      <td>92</td>\n",
       "      <td>472</td>\n",
       "      <td>1223</td>\n",
       "      <td>6458</td>\n",
       "      <td>1292</td>\n",
       "      <td>4350</td>\n",
       "      <td>816</td>\n",
       "      <td>87</td>\n",
       "    </tr>\n",
       "    <tr>\n",
       "      <th>1</th>\n",
       "      <td>ALABAMA</td>\n",
       "      <td>MOBILE</td>\n",
       "      <td>2017</td>\n",
       "      <td>NaN</td>\n",
       "      <td>925</td>\n",
       "      <td>20</td>\n",
       "      <td>53</td>\n",
       "      <td>235</td>\n",
       "      <td>617</td>\n",
       "      <td>6482</td>\n",
       "      <td>1507</td>\n",
       "      <td>4344</td>\n",
       "      <td>631</td>\n",
       "      <td>51</td>\n",
       "    </tr>\n",
       "    <tr>\n",
       "      <th>2</th>\n",
       "      <td>ALABAMA</td>\n",
       "      <td>MONTGOMERY</td>\n",
       "      <td>2017</td>\n",
       "      <td>NaN</td>\n",
       "      <td>656</td>\n",
       "      <td>19</td>\n",
       "      <td>35</td>\n",
       "      <td>185</td>\n",
       "      <td>417</td>\n",
       "      <td>4246</td>\n",
       "      <td>1031</td>\n",
       "      <td>2797</td>\n",
       "      <td>418</td>\n",
       "      <td>41</td>\n",
       "    </tr>\n",
       "    <tr>\n",
       "      <th>3</th>\n",
       "      <td>ALASKA</td>\n",
       "      <td>ANCHORAGE</td>\n",
       "      <td>2017</td>\n",
       "      <td>NaN</td>\n",
       "      <td>1707</td>\n",
       "      <td>13</td>\n",
       "      <td>196</td>\n",
       "      <td>369</td>\n",
       "      <td>1129</td>\n",
       "      <td>7708</td>\n",
       "      <td>1089</td>\n",
       "      <td>5180</td>\n",
       "      <td>1439</td>\n",
       "      <td>31</td>\n",
       "    </tr>\n",
       "    <tr>\n",
       "      <th>4</th>\n",
       "      <td>ARIZONA</td>\n",
       "      <td>CHANDLER</td>\n",
       "      <td>2017</td>\n",
       "      <td>NaN</td>\n",
       "      <td>303</td>\n",
       "      <td>1</td>\n",
       "      <td>67</td>\n",
       "      <td>72</td>\n",
       "      <td>163</td>\n",
       "      <td>2906</td>\n",
       "      <td>401</td>\n",
       "      <td>2298</td>\n",
       "      <td>207</td>\n",
       "      <td>10</td>\n",
       "    </tr>\n",
       "  </tbody>\n",
       "</table>\n",
       "</div>"
      ],
      "text/plain": [
       "     State        City  Year  Population  Violent crime  Murder  Rape  \\\n",
       "0  ALABAMA  BIRMINGHAM  2017         NaN           1829      42    92   \n",
       "1  ALABAMA      MOBILE  2017         NaN            925      20    53   \n",
       "2  ALABAMA  MONTGOMERY  2017         NaN            656      19    35   \n",
       "3   ALASKA   ANCHORAGE  2017         NaN           1707      13   196   \n",
       "4  ARIZONA    CHANDLER  2017         NaN            303       1    67   \n",
       "\n",
       "   Robbery  Aggravated assault  Property crime  Burglary  Larceny-theft  \\\n",
       "0      472                1223            6458      1292           4350   \n",
       "1      235                 617            6482      1507           4344   \n",
       "2      185                 417            4246      1031           2797   \n",
       "3      369                1129            7708      1089           5180   \n",
       "4       72                 163            2906       401           2298   \n",
       "\n",
       "   Motor vehicle theft  Arson  \n",
       "0                  816     87  \n",
       "1                  631     51  \n",
       "2                  418     41  \n",
       "3                 1439     31  \n",
       "4                  207     10  "
      ]
     },
     "execution_count": 9,
     "metadata": {},
     "output_type": "execute_result"
    }
   ],
   "source": [
    "df_2017.head()"
   ]
  },
  {
   "cell_type": "markdown",
   "metadata": {},
   "source": [
    "## Q1, Let's take a look at some general information. (30 pts) \n",
    "### Hint: Pay attention on 'Year'"
   ]
  },
  {
   "cell_type": "markdown",
   "metadata": {},
   "source": [
    "### **Q1.1:** Are there any NaN values in these two datasets? Respond with 'True' or 'False'. If 'True', also provide the column names where NaN values exist. *(5 pts)*"
   ]
  },
  {
   "cell_type": "code",
   "execution_count": 12,
   "metadata": {},
   "outputs": [
    {
     "data": {
      "text/plain": [
       "False"
      ]
     },
     "execution_count": 12,
     "metadata": {},
     "output_type": "execute_result"
    }
   ],
   "source": [
    "df_2016.isna().any().any()"
   ]
  },
  {
   "cell_type": "code",
   "execution_count": 13,
   "metadata": {},
   "outputs": [
    {
     "data": {
      "text/plain": [
       "True"
      ]
     },
     "execution_count": 13,
     "metadata": {},
     "output_type": "execute_result"
    }
   ],
   "source": [
    "df_2017.isna().any().any()"
   ]
  },
  {
   "cell_type": "code",
   "execution_count": 14,
   "metadata": {},
   "outputs": [
    {
     "data": {
      "text/plain": [
       "'Population'"
      ]
     },
     "execution_count": 14,
     "metadata": {},
     "output_type": "execute_result"
    }
   ],
   "source": [
    "df_2017.isna().any()[df_2017.isna().any()==True].index[0]"
   ]
  },
  {
   "cell_type": "markdown",
   "metadata": {},
   "source": [
    "### **Q1.2**, If there are column(s) with NaN in one of the data set, fill in the missing data with the matching column from another data set.  After this step, show both data sets have no missing data anymore. (5 pts)"
   ]
  },
  {
   "cell_type": "code",
   "execution_count": 16,
   "metadata": {},
   "outputs": [],
   "source": [
    "df_2017.Population = df_2016.Population"
   ]
  },
  {
   "cell_type": "markdown",
   "metadata": {},
   "source": [
    "or.."
   ]
  },
  {
   "cell_type": "code",
   "execution_count": 18,
   "metadata": {},
   "outputs": [],
   "source": [
    "#df_2017.Population.fillna(df_2016.Population, inplace=True)"
   ]
  },
  {
   "cell_type": "code",
   "execution_count": 19,
   "metadata": {},
   "outputs": [
    {
     "data": {
      "text/plain": [
       "False"
      ]
     },
     "execution_count": 19,
     "metadata": {},
     "output_type": "execute_result"
    },
    {
     "data": {
      "text/plain": [
       "False"
      ]
     },
     "execution_count": 19,
     "metadata": {},
     "output_type": "execute_result"
    }
   ],
   "source": [
    "df_2016.isna().any().any()\n",
    "df_2017.isna().any().any()"
   ]
  },
  {
   "cell_type": "markdown",
   "metadata": {},
   "source": [
    "### **Q1.3:** Using the 2016 records, how many cities have names starting with the letter 'M'? *(5 pts)*"
   ]
  },
  {
   "cell_type": "code",
   "execution_count": 21,
   "metadata": {},
   "outputs": [
    {
     "data": {
      "text/plain": [
       "array(['MOBILE', 'MONTGOMERY', 'MESA', 'MODESTO', 'MORENO VALLEY',\n",
       "       'MURRIETA', 'MIAMI', 'MIAMI GARDENS', 'MIRAMAR', 'MINNEAPOLIS',\n",
       "       'MANCHESTER', 'MEMPHIS', 'MURFREESBORO', 'MADISON', 'MILWAUKEE'],\n",
       "      dtype=object)"
      ]
     },
     "execution_count": 21,
     "metadata": {},
     "output_type": "execute_result"
    }
   ],
   "source": [
    "df_2016.City[df_2016.City.apply(lambda x: True if x.startswith('M') else False)].unique()"
   ]
  },
  {
   "cell_type": "code",
   "execution_count": 22,
   "metadata": {},
   "outputs": [
    {
     "data": {
      "text/plain": [
       "15"
      ]
     },
     "execution_count": 22,
     "metadata": {},
     "output_type": "execute_result"
    }
   ],
   "source": [
    "df_2016.City[df_2016.City.apply(lambda x: True if x.startswith('M') else False)].nunique()"
   ]
  },
  {
   "cell_type": "markdown",
   "metadata": {},
   "source": [
    "### **Q1.4:** From the 2017 records, which city has the highest number of aggravated assault cases? Provide the city's name and the case count. *(5 pts)*"
   ]
  },
  {
   "cell_type": "code",
   "execution_count": 24,
   "metadata": {},
   "outputs": [
    {
     "data": {
      "text/html": [
       "<div>\n",
       "<style scoped>\n",
       "    .dataframe tbody tr th:only-of-type {\n",
       "        vertical-align: middle;\n",
       "    }\n",
       "\n",
       "    .dataframe tbody tr th {\n",
       "        vertical-align: top;\n",
       "    }\n",
       "\n",
       "    .dataframe thead th {\n",
       "        text-align: right;\n",
       "    }\n",
       "</style>\n",
       "<table border=\"1\" class=\"dataframe\">\n",
       "  <thead>\n",
       "    <tr style=\"text-align: right;\">\n",
       "      <th></th>\n",
       "      <th>City</th>\n",
       "      <th>Aggravated assault</th>\n",
       "    </tr>\n",
       "  </thead>\n",
       "  <tbody>\n",
       "    <tr>\n",
       "      <th>179</th>\n",
       "      <td>NEW YORK</td>\n",
       "      <td>14509</td>\n",
       "    </tr>\n",
       "  </tbody>\n",
       "</table>\n",
       "</div>"
      ],
      "text/plain": [
       "         City  Aggravated assault\n",
       "179  NEW YORK               14509"
      ]
     },
     "execution_count": 24,
     "metadata": {},
     "output_type": "execute_result"
    }
   ],
   "source": [
    "df_2017.sort_values('Aggravated assault', \\\n",
    "            ascending=False).head(1)[['City','Aggravated assault']]"
   ]
  },
  {
   "cell_type": "markdown",
   "metadata": {},
   "source": [
    "or..."
   ]
  },
  {
   "cell_type": "code",
   "execution_count": 26,
   "metadata": {},
   "outputs": [
    {
     "data": {
      "text/plain": [
       "179"
      ]
     },
     "execution_count": 26,
     "metadata": {},
     "output_type": "execute_result"
    }
   ],
   "source": [
    "Aggr_max_iloc = df_2017['Aggravated assault'].nlargest().index[0]\n",
    "Aggr_max_iloc"
   ]
  },
  {
   "cell_type": "code",
   "execution_count": 27,
   "metadata": {},
   "outputs": [
    {
     "data": {
      "text/html": [
       "<div>\n",
       "<style scoped>\n",
       "    .dataframe tbody tr th:only-of-type {\n",
       "        vertical-align: middle;\n",
       "    }\n",
       "\n",
       "    .dataframe tbody tr th {\n",
       "        vertical-align: top;\n",
       "    }\n",
       "\n",
       "    .dataframe thead th {\n",
       "        text-align: right;\n",
       "    }\n",
       "</style>\n",
       "<table border=\"1\" class=\"dataframe\">\n",
       "  <thead>\n",
       "    <tr style=\"text-align: right;\">\n",
       "      <th></th>\n",
       "      <th>City</th>\n",
       "      <th>Aggravated assault</th>\n",
       "    </tr>\n",
       "  </thead>\n",
       "  <tbody>\n",
       "    <tr>\n",
       "      <th>179</th>\n",
       "      <td>NEW YORK</td>\n",
       "      <td>14509</td>\n",
       "    </tr>\n",
       "  </tbody>\n",
       "</table>\n",
       "</div>"
      ],
      "text/plain": [
       "         City  Aggravated assault\n",
       "179  NEW YORK               14509"
      ]
     },
     "execution_count": 27,
     "metadata": {},
     "output_type": "execute_result"
    }
   ],
   "source": [
    "df_2017.iloc[Aggr_max_iloc:Aggr_max_iloc+1][['City','Aggravated assault']]"
   ]
  },
  {
   "cell_type": "markdown",
   "metadata": {},
   "source": [
    "### **Q1.5:** In the 2016 records, how many cities have a population greater than ten times the average city population across the entire dataset? Additionally, list these cities in a list data structure *(5 pts)*"
   ]
  },
  {
   "cell_type": "code",
   "execution_count": 29,
   "metadata": {},
   "outputs": [
    {
     "data": {
      "text/plain": [
       "2"
      ]
     },
     "execution_count": 29,
     "metadata": {},
     "output_type": "execute_result"
    }
   ],
   "source": [
    "(df_2016.Population > (10* df_2016.Population.mean() )).sum()"
   ]
  },
  {
   "cell_type": "code",
   "execution_count": 30,
   "metadata": {},
   "outputs": [
    {
     "data": {
      "text/plain": [
       "['LOS ANGELES', 'NEW YORK']"
      ]
     },
     "execution_count": 30,
     "metadata": {},
     "output_type": "execute_result"
    }
   ],
   "source": [
    "df_2016[df_2016.Population > (10* df_2016.Population.mean())]['City'].values.tolist()"
   ]
  },
  {
   "cell_type": "markdown",
   "metadata": {},
   "source": [
    "### **Q1.6:** Based on the 2017 records:\n",
    "####   Q1.6.1, How many unique cities are present in the dataset? (1 pt)\n",
    "####   Q1.6.2, What is the most frequently appearing city name in the dataset, and how many times does it appear? (2 pts)\n",
    "####   Q1.6.3, List the state names that contain the most frequently appearing city. (2 pts)\n",
    "\n",
    "Hints:\n",
    "\n",
    "1, The same city name in different states should be treated as separate entries.\n",
    "\n",
    "2, Your code should account for potential ties."
   ]
  },
  {
   "cell_type": "markdown",
   "metadata": {},
   "source": [
    "Q1.6.1:"
   ]
  },
  {
   "cell_type": "code",
   "execution_count": 33,
   "metadata": {},
   "outputs": [
    {
     "data": {
      "text/plain": [
       "223"
      ]
     },
     "execution_count": 33,
     "metadata": {},
     "output_type": "execute_result"
    }
   ],
   "source": [
    "df_2017['City'].nunique()"
   ]
  },
  {
   "cell_type": "markdown",
   "metadata": {},
   "source": [
    "Q1.6.2:"
   ]
  },
  {
   "cell_type": "code",
   "execution_count": 35,
   "metadata": {},
   "outputs": [
    {
     "data": {
      "text/plain": [
       "City\n",
       "SPRINGFIELD    3\n",
       "COLUMBUS       2\n",
       "GLENDALE       2\n",
       "AURORA         2\n",
       "COLUMBIA       2\n",
       "Name: count, dtype: int64"
      ]
     },
     "execution_count": 35,
     "metadata": {},
     "output_type": "execute_result"
    }
   ],
   "source": [
    "City_Counts = df_2017['City'].value_counts()\n",
    "City_Counts.head()"
   ]
  },
  {
   "cell_type": "code",
   "execution_count": 36,
   "metadata": {},
   "outputs": [],
   "source": [
    "Max_City_Count = City_Counts.max()"
   ]
  },
  {
   "cell_type": "code",
   "execution_count": 37,
   "metadata": {
    "scrolled": true
   },
   "outputs": [
    {
     "data": {
      "text/plain": [
       "City\n",
       "SPRINGFIELD    3\n",
       "Name: count, dtype: int64"
      ]
     },
     "execution_count": 37,
     "metadata": {},
     "output_type": "execute_result"
    }
   ],
   "source": [
    "City_Counts[City_Counts == Max_City_Count]"
   ]
  },
  {
   "cell_type": "markdown",
   "metadata": {},
   "source": [
    "Q1.6.3:"
   ]
  },
  {
   "cell_type": "code",
   "execution_count": 39,
   "metadata": {},
   "outputs": [],
   "source": [
    "Max_City_Name = City_Counts[City_Counts == Max_City_Count].index[0]"
   ]
  },
  {
   "cell_type": "code",
   "execution_count": 40,
   "metadata": {},
   "outputs": [
    {
     "data": {
      "text/plain": [
       "array(['ILLINOIS', 'MASSACHUSETTS', 'MISSOURI'], dtype=object)"
      ]
     },
     "execution_count": 40,
     "metadata": {},
     "output_type": "execute_result"
    }
   ],
   "source": [
    "df_2017[df_2017['City']== Max_City_Name]['State'].values"
   ]
  },
  {
   "cell_type": "markdown",
   "metadata": {},
   "source": [
    "or.."
   ]
  },
  {
   "cell_type": "code",
   "execution_count": 42,
   "metadata": {},
   "outputs": [
    {
     "data": {
      "text/plain": [
       "['ILLINOIS', 'MASSACHUSETTS', 'MISSOURI']"
      ]
     },
     "execution_count": 42,
     "metadata": {},
     "output_type": "execute_result"
    }
   ],
   "source": [
    "df_2017[df_2017['City']== Max_City_Name]['State'].values.tolist()"
   ]
  },
  {
   "cell_type": "markdown",
   "metadata": {},
   "source": [
    "## Q2 Look into crimes in Year 2016 (10 pts)"
   ]
  },
  {
   "cell_type": "markdown",
   "metadata": {},
   "source": [
    "### Q2.1 Based on 2016's record, find the cities that has more than 100 murders and 1000 robberies. List the city names only. (5 pts)"
   ]
  },
  {
   "cell_type": "code",
   "execution_count": 45,
   "metadata": {},
   "outputs": [
    {
     "data": {
      "text/plain": [
       "array(['LOS ANGELES', 'CHICAGO', 'BALTIMORE', 'NEW YORK', 'PHILADELPHIA'],\n",
       "      dtype=object)"
      ]
     },
     "execution_count": 45,
     "metadata": {},
     "output_type": "execute_result"
    }
   ],
   "source": [
    "df_2016[(df_2016.Murder > 100) & (df_2016.Robbery > 1000)]['City'].values"
   ]
  },
  {
   "cell_type": "markdown",
   "metadata": {},
   "source": [
    "### **Q2.2:** According to the 2016 records:\n",
    "###   - Which state(s) have the highest number of cities included in the dataset?\n",
    "###   - Which state(s) have the lowest number of cities included?  \n",
    "###   Provide the state names and their respective city counts. Include all states in the case of a tie. *(5 pts)*"
   ]
  },
  {
   "cell_type": "code",
   "execution_count": 47,
   "metadata": {},
   "outputs": [
    {
     "data": {
      "text/plain": [
       "State\n",
       "ALABAMA        3\n",
       "ALASKA         1\n",
       "ARIZONA        6\n",
       "ARKANSAS       1\n",
       "CALIFORNIA    73\n",
       "Name: City, dtype: int64"
      ]
     },
     "execution_count": 47,
     "metadata": {},
     "output_type": "execute_result"
    }
   ],
   "source": [
    "city_count = df_2016.groupby('State')['City'].count()\n",
    "city_count.head()"
   ]
  },
  {
   "cell_type": "code",
   "execution_count": 48,
   "metadata": {},
   "outputs": [
    {
     "data": {
      "text/plain": [
       "State\n",
       "CALIFORNIA    73\n",
       "Name: City, dtype: int64"
      ]
     },
     "execution_count": 48,
     "metadata": {},
     "output_type": "execute_result"
    }
   ],
   "source": [
    "city_count[city_count.values==city_count.max()]"
   ]
  },
  {
   "cell_type": "code",
   "execution_count": 49,
   "metadata": {},
   "outputs": [
    {
     "data": {
      "text/plain": [
       "State\n",
       "ALASKA                  1\n",
       "ARKANSAS                1\n",
       "DISTRICT OF COLUMBIA    1\n",
       "HAWAII                  1\n",
       "MARYLAND                1\n",
       "MISSISSIPPI             1\n",
       "MONTANA                 1\n",
       "NEW HAMPSHIRE           1\n",
       "NEW MEXICO              1\n",
       "NORTH DAKOTA            1\n",
       "RHODE ISLAND            1\n",
       "SOUTH DAKOTA            1\n",
       "Name: City, dtype: int64"
      ]
     },
     "execution_count": 49,
     "metadata": {},
     "output_type": "execute_result"
    }
   ],
   "source": [
    "city_count[city_count.values==city_count.min()]"
   ]
  },
  {
   "cell_type": "markdown",
   "metadata": {},
   "source": [
    "## Q3 Combine both years' record into one. (10 pts)"
   ]
  },
  {
   "cell_type": "markdown",
   "metadata": {},
   "source": [
    "### **Q3.1:** Using these two datasets, create a combined dataset with `pd.concat()`. What are the row and column counts for the resulting DataFrame? *(5 pts)*  \n",
    "Hint: Refer to the Pandas documentation for `pd.concat()`"
   ]
  },
  {
   "cell_type": "code",
   "execution_count": 52,
   "metadata": {},
   "outputs": [],
   "source": [
    "df = pd.concat([df_2016, df_2017])"
   ]
  },
  {
   "cell_type": "code",
   "execution_count": 53,
   "metadata": {},
   "outputs": [
    {
     "data": {
      "text/html": [
       "<div>\n",
       "<style scoped>\n",
       "    .dataframe tbody tr th:only-of-type {\n",
       "        vertical-align: middle;\n",
       "    }\n",
       "\n",
       "    .dataframe tbody tr th {\n",
       "        vertical-align: top;\n",
       "    }\n",
       "\n",
       "    .dataframe thead th {\n",
       "        text-align: right;\n",
       "    }\n",
       "</style>\n",
       "<table border=\"1\" class=\"dataframe\">\n",
       "  <thead>\n",
       "    <tr style=\"text-align: right;\">\n",
       "      <th></th>\n",
       "      <th>State</th>\n",
       "      <th>City</th>\n",
       "      <th>Year</th>\n",
       "      <th>Population</th>\n",
       "      <th>Violent crime</th>\n",
       "      <th>Murder</th>\n",
       "      <th>Rape</th>\n",
       "      <th>Robbery</th>\n",
       "      <th>Aggravated assault</th>\n",
       "      <th>Property crime</th>\n",
       "      <th>Burglary</th>\n",
       "      <th>Larceny-theft</th>\n",
       "      <th>Motor vehicle theft</th>\n",
       "      <th>Arson</th>\n",
       "    </tr>\n",
       "  </thead>\n",
       "  <tbody>\n",
       "    <tr>\n",
       "      <th>0</th>\n",
       "      <td>ALABAMA</td>\n",
       "      <td>BIRMINGHAM</td>\n",
       "      <td>2016</td>\n",
       "      <td>212549</td>\n",
       "      <td>1732</td>\n",
       "      <td>44</td>\n",
       "      <td>75</td>\n",
       "      <td>460</td>\n",
       "      <td>1153</td>\n",
       "      <td>5875</td>\n",
       "      <td>1318</td>\n",
       "      <td>3807</td>\n",
       "      <td>750</td>\n",
       "      <td>76</td>\n",
       "    </tr>\n",
       "    <tr>\n",
       "      <th>1</th>\n",
       "      <td>ALABAMA</td>\n",
       "      <td>MOBILE</td>\n",
       "      <td>2016</td>\n",
       "      <td>249921</td>\n",
       "      <td>793</td>\n",
       "      <td>18</td>\n",
       "      <td>47</td>\n",
       "      <td>181</td>\n",
       "      <td>547</td>\n",
       "      <td>5169</td>\n",
       "      <td>1100</td>\n",
       "      <td>3724</td>\n",
       "      <td>345</td>\n",
       "      <td>45</td>\n",
       "    </tr>\n",
       "    <tr>\n",
       "      <th>2</th>\n",
       "      <td>ALABAMA</td>\n",
       "      <td>MONTGOMERY</td>\n",
       "      <td>2016</td>\n",
       "      <td>199565</td>\n",
       "      <td>563</td>\n",
       "      <td>18</td>\n",
       "      <td>42</td>\n",
       "      <td>187</td>\n",
       "      <td>316</td>\n",
       "      <td>4229</td>\n",
       "      <td>1043</td>\n",
       "      <td>2790</td>\n",
       "      <td>396</td>\n",
       "      <td>35</td>\n",
       "    </tr>\n",
       "    <tr>\n",
       "      <th>3</th>\n",
       "      <td>ALASKA</td>\n",
       "      <td>ANCHORAGE</td>\n",
       "      <td>2016</td>\n",
       "      <td>299097</td>\n",
       "      <td>1692</td>\n",
       "      <td>9</td>\n",
       "      <td>302</td>\n",
       "      <td>326</td>\n",
       "      <td>1055</td>\n",
       "      <td>6853</td>\n",
       "      <td>1031</td>\n",
       "      <td>4901</td>\n",
       "      <td>921</td>\n",
       "      <td>38</td>\n",
       "    </tr>\n",
       "    <tr>\n",
       "      <th>4</th>\n",
       "      <td>ARIZONA</td>\n",
       "      <td>CHANDLER</td>\n",
       "      <td>2016</td>\n",
       "      <td>265922</td>\n",
       "      <td>272</td>\n",
       "      <td>1</td>\n",
       "      <td>61</td>\n",
       "      <td>69</td>\n",
       "      <td>141</td>\n",
       "      <td>2987</td>\n",
       "      <td>453</td>\n",
       "      <td>2373</td>\n",
       "      <td>161</td>\n",
       "      <td>8</td>\n",
       "    </tr>\n",
       "  </tbody>\n",
       "</table>\n",
       "</div>"
      ],
      "text/plain": [
       "     State        City  Year  Population  Violent crime  Murder  Rape  \\\n",
       "0  ALABAMA  BIRMINGHAM  2016      212549           1732      44    75   \n",
       "1  ALABAMA      MOBILE  2016      249921            793      18    47   \n",
       "2  ALABAMA  MONTGOMERY  2016      199565            563      18    42   \n",
       "3   ALASKA   ANCHORAGE  2016      299097           1692       9   302   \n",
       "4  ARIZONA    CHANDLER  2016      265922            272       1    61   \n",
       "\n",
       "   Robbery  Aggravated assault  Property crime  Burglary  Larceny-theft  \\\n",
       "0      460                1153            5875      1318           3807   \n",
       "1      181                 547            5169      1100           3724   \n",
       "2      187                 316            4229      1043           2790   \n",
       "3      326                1055            6853      1031           4901   \n",
       "4       69                 141            2987       453           2373   \n",
       "\n",
       "   Motor vehicle theft  Arson  \n",
       "0                  750     76  \n",
       "1                  345     45  \n",
       "2                  396     35  \n",
       "3                  921     38  \n",
       "4                  161      8  "
      ]
     },
     "execution_count": 53,
     "metadata": {},
     "output_type": "execute_result"
    }
   ],
   "source": [
    "df.head()"
   ]
  },
  {
   "cell_type": "code",
   "execution_count": 54,
   "metadata": {},
   "outputs": [
    {
     "data": {
      "text/plain": [
       "(460, 14)"
      ]
     },
     "execution_count": 54,
     "metadata": {},
     "output_type": "execute_result"
    }
   ],
   "source": [
    "df.shape"
   ]
  },
  {
   "cell_type": "markdown",
   "metadata": {},
   "source": [
    "### Q3.2, Rearrange this new data set's rows so the same State/City has Year 2016 and 2017's data listed adjacent to each other. After the rearrangement, shows the last 5 rows's State, City, Year and Population. (5 pts)\n",
    "\n",
    "#### Example:\n",
    "\n",
    "<img src=\"df-example.jpg\" />"
   ]
  },
  {
   "cell_type": "code",
   "execution_count": 56,
   "metadata": {},
   "outputs": [],
   "source": [
    "df.sort_values(by=['State','City'], inplace=True)"
   ]
  },
  {
   "cell_type": "code",
   "execution_count": 57,
   "metadata": {},
   "outputs": [
    {
     "data": {
      "text/html": [
       "<div>\n",
       "<style scoped>\n",
       "    .dataframe tbody tr th:only-of-type {\n",
       "        vertical-align: middle;\n",
       "    }\n",
       "\n",
       "    .dataframe tbody tr th {\n",
       "        vertical-align: top;\n",
       "    }\n",
       "\n",
       "    .dataframe thead th {\n",
       "        text-align: right;\n",
       "    }\n",
       "</style>\n",
       "<table border=\"1\" class=\"dataframe\">\n",
       "  <thead>\n",
       "    <tr style=\"text-align: right;\">\n",
       "      <th></th>\n",
       "      <th>State</th>\n",
       "      <th>City</th>\n",
       "      <th>Year</th>\n",
       "      <th>Population</th>\n",
       "    </tr>\n",
       "  </thead>\n",
       "  <tbody>\n",
       "    <tr>\n",
       "      <th>227</th>\n",
       "      <td>WISCONSIN</td>\n",
       "      <td>KENOSHA</td>\n",
       "      <td>2017</td>\n",
       "      <td>99954</td>\n",
       "    </tr>\n",
       "    <tr>\n",
       "      <th>228</th>\n",
       "      <td>WISCONSIN</td>\n",
       "      <td>MADISON</td>\n",
       "      <td>2016</td>\n",
       "      <td>252136</td>\n",
       "    </tr>\n",
       "    <tr>\n",
       "      <th>228</th>\n",
       "      <td>WISCONSIN</td>\n",
       "      <td>MADISON</td>\n",
       "      <td>2017</td>\n",
       "      <td>252136</td>\n",
       "    </tr>\n",
       "    <tr>\n",
       "      <th>229</th>\n",
       "      <td>WISCONSIN</td>\n",
       "      <td>MILWAUKEE</td>\n",
       "      <td>2016</td>\n",
       "      <td>600193</td>\n",
       "    </tr>\n",
       "    <tr>\n",
       "      <th>229</th>\n",
       "      <td>WISCONSIN</td>\n",
       "      <td>MILWAUKEE</td>\n",
       "      <td>2017</td>\n",
       "      <td>600193</td>\n",
       "    </tr>\n",
       "  </tbody>\n",
       "</table>\n",
       "</div>"
      ],
      "text/plain": [
       "         State       City  Year  Population\n",
       "227  WISCONSIN    KENOSHA  2017       99954\n",
       "228  WISCONSIN    MADISON  2016      252136\n",
       "228  WISCONSIN    MADISON  2017      252136\n",
       "229  WISCONSIN  MILWAUKEE  2016      600193\n",
       "229  WISCONSIN  MILWAUKEE  2017      600193"
      ]
     },
     "execution_count": 57,
     "metadata": {},
     "output_type": "execute_result"
    }
   ],
   "source": [
    "df.tail()[['State','City','Year','Population']]"
   ]
  },
  {
   "cell_type": "markdown",
   "metadata": {},
   "source": [
    "## Q4, More crime investigations  (20 pts)"
   ]
  },
  {
   "cell_type": "markdown",
   "metadata": {},
   "source": [
    "### **Q4.1** Identify the cities where the number of 'Motor vehicle theft' cases exceeds six times the dataset's average. How many such cities are there, and what are their names? (5 pts)"
   ]
  },
  {
   "cell_type": "code",
   "execution_count": 60,
   "metadata": {},
   "outputs": [
    {
     "data": {
      "text/plain": [
       "611.3695652173913"
      ]
     },
     "execution_count": 60,
     "metadata": {},
     "output_type": "execute_result"
    }
   ],
   "source": [
    "Motor_theft_mean = df[\"Motor vehicle theft\"].mean()\n",
    "Motor_theft_mean"
   ]
  },
  {
   "cell_type": "code",
   "execution_count": 61,
   "metadata": {},
   "outputs": [
    {
     "data": {
      "text/plain": [
       "7"
      ]
     },
     "execution_count": 61,
     "metadata": {},
     "output_type": "execute_result"
    }
   ],
   "source": [
    "(df['Motor vehicle theft'] > 6*Motor_theft_mean).sum()"
   ]
  },
  {
   "cell_type": "code",
   "execution_count": 62,
   "metadata": {},
   "outputs": [],
   "source": [
    "df_Motor_theft_6times = df[df['Motor vehicle theft'] > 6*Motor_theft_mean]"
   ]
  },
  {
   "cell_type": "code",
   "execution_count": 63,
   "metadata": {},
   "outputs": [
    {
     "data": {
      "text/html": [
       "<div>\n",
       "<style scoped>\n",
       "    .dataframe tbody tr th:only-of-type {\n",
       "        vertical-align: middle;\n",
       "    }\n",
       "\n",
       "    .dataframe tbody tr th {\n",
       "        vertical-align: top;\n",
       "    }\n",
       "\n",
       "    .dataframe thead th {\n",
       "        text-align: right;\n",
       "    }\n",
       "</style>\n",
       "<table border=\"1\" class=\"dataframe\">\n",
       "  <thead>\n",
       "    <tr style=\"text-align: right;\">\n",
       "      <th></th>\n",
       "      <th>State</th>\n",
       "      <th>City</th>\n",
       "      <th>Year</th>\n",
       "      <th>Population</th>\n",
       "      <th>Violent crime</th>\n",
       "      <th>Murder</th>\n",
       "      <th>Rape</th>\n",
       "      <th>Robbery</th>\n",
       "      <th>Aggravated assault</th>\n",
       "      <th>Property crime</th>\n",
       "      <th>Burglary</th>\n",
       "      <th>Larceny-theft</th>\n",
       "      <th>Motor vehicle theft</th>\n",
       "      <th>Arson</th>\n",
       "    </tr>\n",
       "  </thead>\n",
       "  <tbody>\n",
       "    <tr>\n",
       "      <th>42</th>\n",
       "      <td>CALIFORNIA</td>\n",
       "      <td>LOS ANGELES</td>\n",
       "      <td>2016</td>\n",
       "      <td>4007905</td>\n",
       "      <td>14212</td>\n",
       "      <td>135</td>\n",
       "      <td>1176</td>\n",
       "      <td>4943</td>\n",
       "      <td>7958</td>\n",
       "      <td>48381</td>\n",
       "      <td>7779</td>\n",
       "      <td>31665</td>\n",
       "      <td>8937</td>\n",
       "      <td>639</td>\n",
       "    </tr>\n",
       "    <tr>\n",
       "      <th>42</th>\n",
       "      <td>CALIFORNIA</td>\n",
       "      <td>LOS ANGELES</td>\n",
       "      <td>2017</td>\n",
       "      <td>4007905</td>\n",
       "      <td>14440</td>\n",
       "      <td>138</td>\n",
       "      <td>1212</td>\n",
       "      <td>5165</td>\n",
       "      <td>7925</td>\n",
       "      <td>50122</td>\n",
       "      <td>8252</td>\n",
       "      <td>32363</td>\n",
       "      <td>9507</td>\n",
       "      <td>651</td>\n",
       "    </tr>\n",
       "    <tr>\n",
       "      <th>65</th>\n",
       "      <td>CALIFORNIA</td>\n",
       "      <td>SAN JOSE</td>\n",
       "      <td>2017</td>\n",
       "      <td>1041844</td>\n",
       "      <td>1916</td>\n",
       "      <td>15</td>\n",
       "      <td>299</td>\n",
       "      <td>604</td>\n",
       "      <td>998</td>\n",
       "      <td>12528</td>\n",
       "      <td>1973</td>\n",
       "      <td>6463</td>\n",
       "      <td>4092</td>\n",
       "      <td>84</td>\n",
       "    </tr>\n",
       "    <tr>\n",
       "      <th>126</th>\n",
       "      <td>ILLINOIS</td>\n",
       "      <td>CHICAGO</td>\n",
       "      <td>2016</td>\n",
       "      <td>2725153</td>\n",
       "      <td>13810</td>\n",
       "      <td>323</td>\n",
       "      <td>819</td>\n",
       "      <td>5164</td>\n",
       "      <td>7504</td>\n",
       "      <td>39442</td>\n",
       "      <td>6198</td>\n",
       "      <td>28077</td>\n",
       "      <td>5167</td>\n",
       "      <td>284</td>\n",
       "    </tr>\n",
       "    <tr>\n",
       "      <th>126</th>\n",
       "      <td>ILLINOIS</td>\n",
       "      <td>CHICAGO</td>\n",
       "      <td>2017</td>\n",
       "      <td>2725153</td>\n",
       "      <td>14007</td>\n",
       "      <td>328</td>\n",
       "      <td>808</td>\n",
       "      <td>5385</td>\n",
       "      <td>7486</td>\n",
       "      <td>41298</td>\n",
       "      <td>6262</td>\n",
       "      <td>29423</td>\n",
       "      <td>5613</td>\n",
       "      <td>262</td>\n",
       "    </tr>\n",
       "    <tr>\n",
       "      <th>167</th>\n",
       "      <td>NEVADA</td>\n",
       "      <td>LAS VEGAS</td>\n",
       "      <td>2016</td>\n",
       "      <td>1592178</td>\n",
       "      <td>7174</td>\n",
       "      <td>83</td>\n",
       "      <td>632</td>\n",
       "      <td>2537</td>\n",
       "      <td>3922</td>\n",
       "      <td>22234</td>\n",
       "      <td>6115</td>\n",
       "      <td>11881</td>\n",
       "      <td>4238</td>\n",
       "      <td>49</td>\n",
       "    </tr>\n",
       "    <tr>\n",
       "      <th>167</th>\n",
       "      <td>NEVADA</td>\n",
       "      <td>LAS VEGAS</td>\n",
       "      <td>2017</td>\n",
       "      <td>1592178</td>\n",
       "      <td>4906</td>\n",
       "      <td>70</td>\n",
       "      <td>629</td>\n",
       "      <td>1660</td>\n",
       "      <td>2547</td>\n",
       "      <td>22888</td>\n",
       "      <td>6269</td>\n",
       "      <td>12692</td>\n",
       "      <td>3927</td>\n",
       "      <td>62</td>\n",
       "    </tr>\n",
       "  </tbody>\n",
       "</table>\n",
       "</div>"
      ],
      "text/plain": [
       "          State         City  Year  Population  Violent crime  Murder  Rape  \\\n",
       "42   CALIFORNIA  LOS ANGELES  2016     4007905          14212     135  1176   \n",
       "42   CALIFORNIA  LOS ANGELES  2017     4007905          14440     138  1212   \n",
       "65   CALIFORNIA     SAN JOSE  2017     1041844           1916      15   299   \n",
       "126    ILLINOIS      CHICAGO  2016     2725153          13810     323   819   \n",
       "126    ILLINOIS      CHICAGO  2017     2725153          14007     328   808   \n",
       "167      NEVADA    LAS VEGAS  2016     1592178           7174      83   632   \n",
       "167      NEVADA    LAS VEGAS  2017     1592178           4906      70   629   \n",
       "\n",
       "     Robbery  Aggravated assault  Property crime  Burglary  Larceny-theft  \\\n",
       "42      4943                7958           48381      7779          31665   \n",
       "42      5165                7925           50122      8252          32363   \n",
       "65       604                 998           12528      1973           6463   \n",
       "126     5164                7504           39442      6198          28077   \n",
       "126     5385                7486           41298      6262          29423   \n",
       "167     2537                3922           22234      6115          11881   \n",
       "167     1660                2547           22888      6269          12692   \n",
       "\n",
       "     Motor vehicle theft  Arson  \n",
       "42                  8937    639  \n",
       "42                  9507    651  \n",
       "65                  4092     84  \n",
       "126                 5167    284  \n",
       "126                 5613    262  \n",
       "167                 4238     49  \n",
       "167                 3927     62  "
      ]
     },
     "execution_count": 63,
     "metadata": {},
     "output_type": "execute_result"
    }
   ],
   "source": [
    "df_Motor_theft_6times"
   ]
  },
  {
   "cell_type": "code",
   "execution_count": 64,
   "metadata": {},
   "outputs": [
    {
     "data": {
      "text/plain": [
       "4"
      ]
     },
     "execution_count": 64,
     "metadata": {},
     "output_type": "execute_result"
    }
   ],
   "source": [
    "df_Motor_theft_6times.City.nunique()"
   ]
  },
  {
   "cell_type": "code",
   "execution_count": 65,
   "metadata": {},
   "outputs": [
    {
     "data": {
      "text/plain": [
       "array(['LOS ANGELES', 'SAN JOSE', 'CHICAGO', 'LAS VEGAS'], dtype=object)"
      ]
     },
     "execution_count": 65,
     "metadata": {},
     "output_type": "execute_result"
    }
   ],
   "source": [
    "df_Motor_theft_6times.City.unique()"
   ]
  },
  {
   "cell_type": "markdown",
   "metadata": {},
   "source": [
    "### Q4.2, Assume the 'crime_index' is calculated as follows: `crime_index = Violent crime + Aggravated assault + Property crime + Robbery`. Using data from both 2016 and 2017, identify the top 3 cities with the highest combined 'crime_index'. Provide the State, City, and the combined 'crime_index' for these cities.  (5 pts)"
   ]
  },
  {
   "cell_type": "code",
   "execution_count": 67,
   "metadata": {},
   "outputs": [],
   "source": [
    "df['crime_index'] = (df['Violent crime'] + df['Aggravated assault'] + df['Property crime'] + df['Robbery'])"
   ]
  },
  {
   "cell_type": "code",
   "execution_count": 68,
   "metadata": {},
   "outputs": [
    {
     "data": {
      "text/html": [
       "<div>\n",
       "<style scoped>\n",
       "    .dataframe tbody tr th:only-of-type {\n",
       "        vertical-align: middle;\n",
       "    }\n",
       "\n",
       "    .dataframe tbody tr th {\n",
       "        vertical-align: top;\n",
       "    }\n",
       "\n",
       "    .dataframe thead th {\n",
       "        text-align: right;\n",
       "    }\n",
       "</style>\n",
       "<table border=\"1\" class=\"dataframe\">\n",
       "  <thead>\n",
       "    <tr style=\"text-align: right;\">\n",
       "      <th></th>\n",
       "      <th>State</th>\n",
       "      <th>City</th>\n",
       "      <th>Year</th>\n",
       "      <th>Population</th>\n",
       "      <th>Violent crime</th>\n",
       "      <th>Murder</th>\n",
       "      <th>Rape</th>\n",
       "      <th>Robbery</th>\n",
       "      <th>Aggravated assault</th>\n",
       "      <th>Property crime</th>\n",
       "      <th>Burglary</th>\n",
       "      <th>Larceny-theft</th>\n",
       "      <th>Motor vehicle theft</th>\n",
       "      <th>Arson</th>\n",
       "      <th>crime_index</th>\n",
       "    </tr>\n",
       "  </thead>\n",
       "  <tbody>\n",
       "    <tr>\n",
       "      <th>0</th>\n",
       "      <td>ALABAMA</td>\n",
       "      <td>BIRMINGHAM</td>\n",
       "      <td>2016</td>\n",
       "      <td>212549</td>\n",
       "      <td>1732</td>\n",
       "      <td>44</td>\n",
       "      <td>75</td>\n",
       "      <td>460</td>\n",
       "      <td>1153</td>\n",
       "      <td>5875</td>\n",
       "      <td>1318</td>\n",
       "      <td>3807</td>\n",
       "      <td>750</td>\n",
       "      <td>76</td>\n",
       "      <td>9220</td>\n",
       "    </tr>\n",
       "    <tr>\n",
       "      <th>0</th>\n",
       "      <td>ALABAMA</td>\n",
       "      <td>BIRMINGHAM</td>\n",
       "      <td>2017</td>\n",
       "      <td>212549</td>\n",
       "      <td>1829</td>\n",
       "      <td>42</td>\n",
       "      <td>92</td>\n",
       "      <td>472</td>\n",
       "      <td>1223</td>\n",
       "      <td>6458</td>\n",
       "      <td>1292</td>\n",
       "      <td>4350</td>\n",
       "      <td>816</td>\n",
       "      <td>87</td>\n",
       "      <td>9982</td>\n",
       "    </tr>\n",
       "    <tr>\n",
       "      <th>1</th>\n",
       "      <td>ALABAMA</td>\n",
       "      <td>MOBILE</td>\n",
       "      <td>2016</td>\n",
       "      <td>249921</td>\n",
       "      <td>793</td>\n",
       "      <td>18</td>\n",
       "      <td>47</td>\n",
       "      <td>181</td>\n",
       "      <td>547</td>\n",
       "      <td>5169</td>\n",
       "      <td>1100</td>\n",
       "      <td>3724</td>\n",
       "      <td>345</td>\n",
       "      <td>45</td>\n",
       "      <td>6690</td>\n",
       "    </tr>\n",
       "    <tr>\n",
       "      <th>1</th>\n",
       "      <td>ALABAMA</td>\n",
       "      <td>MOBILE</td>\n",
       "      <td>2017</td>\n",
       "      <td>249921</td>\n",
       "      <td>925</td>\n",
       "      <td>20</td>\n",
       "      <td>53</td>\n",
       "      <td>235</td>\n",
       "      <td>617</td>\n",
       "      <td>6482</td>\n",
       "      <td>1507</td>\n",
       "      <td>4344</td>\n",
       "      <td>631</td>\n",
       "      <td>51</td>\n",
       "      <td>8259</td>\n",
       "    </tr>\n",
       "    <tr>\n",
       "      <th>2</th>\n",
       "      <td>ALABAMA</td>\n",
       "      <td>MONTGOMERY</td>\n",
       "      <td>2016</td>\n",
       "      <td>199565</td>\n",
       "      <td>563</td>\n",
       "      <td>18</td>\n",
       "      <td>42</td>\n",
       "      <td>187</td>\n",
       "      <td>316</td>\n",
       "      <td>4229</td>\n",
       "      <td>1043</td>\n",
       "      <td>2790</td>\n",
       "      <td>396</td>\n",
       "      <td>35</td>\n",
       "      <td>5295</td>\n",
       "    </tr>\n",
       "  </tbody>\n",
       "</table>\n",
       "</div>"
      ],
      "text/plain": [
       "     State        City  Year  Population  Violent crime  Murder  Rape  \\\n",
       "0  ALABAMA  BIRMINGHAM  2016      212549           1732      44    75   \n",
       "0  ALABAMA  BIRMINGHAM  2017      212549           1829      42    92   \n",
       "1  ALABAMA      MOBILE  2016      249921            793      18    47   \n",
       "1  ALABAMA      MOBILE  2017      249921            925      20    53   \n",
       "2  ALABAMA  MONTGOMERY  2016      199565            563      18    42   \n",
       "\n",
       "   Robbery  Aggravated assault  Property crime  Burglary  Larceny-theft  \\\n",
       "0      460                1153            5875      1318           3807   \n",
       "0      472                1223            6458      1292           4350   \n",
       "1      181                 547            5169      1100           3724   \n",
       "1      235                 617            6482      1507           4344   \n",
       "2      187                 316            4229      1043           2790   \n",
       "\n",
       "   Motor vehicle theft  Arson  crime_index  \n",
       "0                  750     76         9220  \n",
       "0                  816     87         9982  \n",
       "1                  345     45         6690  \n",
       "1                  631     51         8259  \n",
       "2                  396     35         5295  "
      ]
     },
     "execution_count": 68,
     "metadata": {},
     "output_type": "execute_result"
    }
   ],
   "source": [
    "df.head()"
   ]
  },
  {
   "cell_type": "code",
   "execution_count": 69,
   "metadata": {},
   "outputs": [
    {
     "data": {
      "text/plain": [
       "State    City      \n",
       "ALABAMA  BIRMINGHAM    19202\n",
       "         MOBILE        14949\n",
       "         MONTGOMERY    10799\n",
       "ALASKA   ANCHORAGE     20839\n",
       "ARIZONA  CHANDLER       6913\n",
       "Name: crime_index, dtype: int64"
      ]
     },
     "execution_count": 69,
     "metadata": {},
     "output_type": "execute_result"
    }
   ],
   "source": [
    "df_Crime_Index = df.groupby(['State','City'])['crime_index'].sum()\n",
    "df_Crime_Index.head()"
   ]
  },
  {
   "cell_type": "code",
   "execution_count": 70,
   "metadata": {},
   "outputs": [
    {
     "data": {
      "text/html": [
       "<div>\n",
       "<style scoped>\n",
       "    .dataframe tbody tr th:only-of-type {\n",
       "        vertical-align: middle;\n",
       "    }\n",
       "\n",
       "    .dataframe tbody tr th {\n",
       "        vertical-align: top;\n",
       "    }\n",
       "\n",
       "    .dataframe thead th {\n",
       "        text-align: right;\n",
       "    }\n",
       "</style>\n",
       "<table border=\"1\" class=\"dataframe\">\n",
       "  <thead>\n",
       "    <tr style=\"text-align: right;\">\n",
       "      <th></th>\n",
       "      <th>State</th>\n",
       "      <th>City</th>\n",
       "      <th>crime_index</th>\n",
       "    </tr>\n",
       "  </thead>\n",
       "  <tbody>\n",
       "    <tr>\n",
       "      <th>0</th>\n",
       "      <td>ALABAMA</td>\n",
       "      <td>BIRMINGHAM</td>\n",
       "      <td>19202</td>\n",
       "    </tr>\n",
       "    <tr>\n",
       "      <th>1</th>\n",
       "      <td>ALABAMA</td>\n",
       "      <td>MOBILE</td>\n",
       "      <td>14949</td>\n",
       "    </tr>\n",
       "    <tr>\n",
       "      <th>2</th>\n",
       "      <td>ALABAMA</td>\n",
       "      <td>MONTGOMERY</td>\n",
       "      <td>10799</td>\n",
       "    </tr>\n",
       "    <tr>\n",
       "      <th>3</th>\n",
       "      <td>ALASKA</td>\n",
       "      <td>ANCHORAGE</td>\n",
       "      <td>20839</td>\n",
       "    </tr>\n",
       "    <tr>\n",
       "      <th>4</th>\n",
       "      <td>ARIZONA</td>\n",
       "      <td>CHANDLER</td>\n",
       "      <td>6913</td>\n",
       "    </tr>\n",
       "  </tbody>\n",
       "</table>\n",
       "</div>"
      ],
      "text/plain": [
       "     State        City  crime_index\n",
       "0  ALABAMA  BIRMINGHAM        19202\n",
       "1  ALABAMA      MOBILE        14949\n",
       "2  ALABAMA  MONTGOMERY        10799\n",
       "3   ALASKA   ANCHORAGE        20839\n",
       "4  ARIZONA    CHANDLER         6913"
      ]
     },
     "execution_count": 70,
     "metadata": {},
     "output_type": "execute_result"
    }
   ],
   "source": [
    "df_Crime_Index = df_Crime_Index.reset_index()\n",
    "df_Crime_Index.head()"
   ]
  },
  {
   "cell_type": "code",
   "execution_count": 71,
   "metadata": {},
   "outputs": [
    {
     "data": {
      "text/html": [
       "<div>\n",
       "<style scoped>\n",
       "    .dataframe tbody tr th:only-of-type {\n",
       "        vertical-align: middle;\n",
       "    }\n",
       "\n",
       "    .dataframe tbody tr th {\n",
       "        vertical-align: top;\n",
       "    }\n",
       "\n",
       "    .dataframe thead th {\n",
       "        text-align: right;\n",
       "    }\n",
       "</style>\n",
       "<table border=\"1\" class=\"dataframe\">\n",
       "  <thead>\n",
       "    <tr style=\"text-align: right;\">\n",
       "      <th></th>\n",
       "      <th>State</th>\n",
       "      <th>City</th>\n",
       "      <th>crime_index</th>\n",
       "    </tr>\n",
       "  </thead>\n",
       "  <tbody>\n",
       "    <tr>\n",
       "      <th>179</th>\n",
       "      <td>NEW YORK</td>\n",
       "      <td>NEW YORK</td>\n",
       "      <td>206718</td>\n",
       "    </tr>\n",
       "    <tr>\n",
       "      <th>42</th>\n",
       "      <td>CALIFORNIA</td>\n",
       "      <td>LOS ANGELES</td>\n",
       "      <td>153146</td>\n",
       "    </tr>\n",
       "    <tr>\n",
       "      <th>126</th>\n",
       "      <td>ILLINOIS</td>\n",
       "      <td>CHICAGO</td>\n",
       "      <td>134096</td>\n",
       "    </tr>\n",
       "  </tbody>\n",
       "</table>\n",
       "</div>"
      ],
      "text/plain": [
       "          State         City  crime_index\n",
       "179    NEW YORK     NEW YORK       206718\n",
       "42   CALIFORNIA  LOS ANGELES       153146\n",
       "126    ILLINOIS      CHICAGO       134096"
      ]
     },
     "execution_count": 71,
     "metadata": {},
     "output_type": "execute_result"
    }
   ],
   "source": [
    "df_Crime_Index.sort_values(by='crime_index',ascending=False).head(3)"
   ]
  },
  {
   "cell_type": "markdown",
   "metadata": {},
   "source": [
    "### Q4.3, Now, let's factor in the 'Population' by defining a 'normalized_crime_index' as: `(crime_index / Population) * 100`. Based on the combined 'crime_index' for 2016 and 2017, identify the top 3 cities with the highest 'normalized_crime_index'. Provide the State, City, and 'normalized_crime_index' for these cities.  (5 pts)"
   ]
  },
  {
   "cell_type": "code",
   "execution_count": 73,
   "metadata": {},
   "outputs": [
    {
     "data": {
      "text/html": [
       "<div>\n",
       "<style scoped>\n",
       "    .dataframe tbody tr th:only-of-type {\n",
       "        vertical-align: middle;\n",
       "    }\n",
       "\n",
       "    .dataframe tbody tr th {\n",
       "        vertical-align: top;\n",
       "    }\n",
       "\n",
       "    .dataframe thead th {\n",
       "        text-align: right;\n",
       "    }\n",
       "</style>\n",
       "<table border=\"1\" class=\"dataframe\">\n",
       "  <thead>\n",
       "    <tr style=\"text-align: right;\">\n",
       "      <th></th>\n",
       "      <th>State</th>\n",
       "      <th>City</th>\n",
       "      <th>Year</th>\n",
       "      <th>Population</th>\n",
       "      <th>Violent crime</th>\n",
       "      <th>Murder</th>\n",
       "      <th>Rape</th>\n",
       "      <th>Robbery</th>\n",
       "      <th>Aggravated assault</th>\n",
       "      <th>Property crime</th>\n",
       "      <th>Burglary</th>\n",
       "      <th>Larceny-theft</th>\n",
       "      <th>Motor vehicle theft</th>\n",
       "      <th>Arson</th>\n",
       "      <th>crime_index</th>\n",
       "    </tr>\n",
       "  </thead>\n",
       "  <tbody>\n",
       "    <tr>\n",
       "      <th>0</th>\n",
       "      <td>ALABAMA</td>\n",
       "      <td>BIRMINGHAM</td>\n",
       "      <td>2016</td>\n",
       "      <td>212549</td>\n",
       "      <td>1732</td>\n",
       "      <td>44</td>\n",
       "      <td>75</td>\n",
       "      <td>460</td>\n",
       "      <td>1153</td>\n",
       "      <td>5875</td>\n",
       "      <td>1318</td>\n",
       "      <td>3807</td>\n",
       "      <td>750</td>\n",
       "      <td>76</td>\n",
       "      <td>9220</td>\n",
       "    </tr>\n",
       "  </tbody>\n",
       "</table>\n",
       "</div>"
      ],
      "text/plain": [
       "     State        City  Year  Population  Violent crime  Murder  Rape  \\\n",
       "0  ALABAMA  BIRMINGHAM  2016      212549           1732      44    75   \n",
       "\n",
       "   Robbery  Aggravated assault  Property crime  Burglary  Larceny-theft  \\\n",
       "0      460                1153            5875      1318           3807   \n",
       "\n",
       "   Motor vehicle theft  Arson  crime_index  \n",
       "0                  750     76         9220  "
      ]
     },
     "execution_count": 73,
     "metadata": {},
     "output_type": "execute_result"
    }
   ],
   "source": [
    "df.head(1)"
   ]
  },
  {
   "cell_type": "code",
   "execution_count": 74,
   "metadata": {},
   "outputs": [],
   "source": [
    "df_Crime_Index_with_Population = df.groupby(['State','City']).agg({'crime_index':'sum','Population':'mean'})"
   ]
  },
  {
   "cell_type": "code",
   "execution_count": 75,
   "metadata": {},
   "outputs": [
    {
     "data": {
      "text/html": [
       "<div>\n",
       "<style scoped>\n",
       "    .dataframe tbody tr th:only-of-type {\n",
       "        vertical-align: middle;\n",
       "    }\n",
       "\n",
       "    .dataframe tbody tr th {\n",
       "        vertical-align: top;\n",
       "    }\n",
       "\n",
       "    .dataframe thead th {\n",
       "        text-align: right;\n",
       "    }\n",
       "</style>\n",
       "<table border=\"1\" class=\"dataframe\">\n",
       "  <thead>\n",
       "    <tr style=\"text-align: right;\">\n",
       "      <th></th>\n",
       "      <th></th>\n",
       "      <th>crime_index</th>\n",
       "      <th>Population</th>\n",
       "    </tr>\n",
       "    <tr>\n",
       "      <th>State</th>\n",
       "      <th>City</th>\n",
       "      <th></th>\n",
       "      <th></th>\n",
       "    </tr>\n",
       "  </thead>\n",
       "  <tbody>\n",
       "    <tr>\n",
       "      <th rowspan=\"3\" valign=\"top\">ALABAMA</th>\n",
       "      <th>BIRMINGHAM</th>\n",
       "      <td>19202</td>\n",
       "      <td>212549.0</td>\n",
       "    </tr>\n",
       "    <tr>\n",
       "      <th>MOBILE</th>\n",
       "      <td>14949</td>\n",
       "      <td>249921.0</td>\n",
       "    </tr>\n",
       "    <tr>\n",
       "      <th>MONTGOMERY</th>\n",
       "      <td>10799</td>\n",
       "      <td>199565.0</td>\n",
       "    </tr>\n",
       "    <tr>\n",
       "      <th>ALASKA</th>\n",
       "      <th>ANCHORAGE</th>\n",
       "      <td>20839</td>\n",
       "      <td>299097.0</td>\n",
       "    </tr>\n",
       "    <tr>\n",
       "      <th>ARIZONA</th>\n",
       "      <th>CHANDLER</th>\n",
       "      <td>6913</td>\n",
       "      <td>265922.0</td>\n",
       "    </tr>\n",
       "  </tbody>\n",
       "</table>\n",
       "</div>"
      ],
      "text/plain": [
       "                    crime_index  Population\n",
       "State   City                               \n",
       "ALABAMA BIRMINGHAM        19202    212549.0\n",
       "        MOBILE            14949    249921.0\n",
       "        MONTGOMERY        10799    199565.0\n",
       "ALASKA  ANCHORAGE         20839    299097.0\n",
       "ARIZONA CHANDLER           6913    265922.0"
      ]
     },
     "execution_count": 75,
     "metadata": {},
     "output_type": "execute_result"
    }
   ],
   "source": [
    "df_Crime_Index_with_Population.head()"
   ]
  },
  {
   "cell_type": "code",
   "execution_count": 76,
   "metadata": {},
   "outputs": [],
   "source": [
    "df_Crime_Index_with_Population = df_Crime_Index_with_Population.reset_index()"
   ]
  },
  {
   "cell_type": "code",
   "execution_count": 77,
   "metadata": {},
   "outputs": [],
   "source": [
    "df_Crime_Index_with_Population['normalized_crime_index'] =  \\\n",
    "        (df_Crime_Index_with_Population['crime_index'] / df_Crime_Index_with_Population['Population'] )*100"
   ]
  },
  {
   "cell_type": "code",
   "execution_count": 78,
   "metadata": {},
   "outputs": [
    {
     "data": {
      "text/html": [
       "<div>\n",
       "<style scoped>\n",
       "    .dataframe tbody tr th:only-of-type {\n",
       "        vertical-align: middle;\n",
       "    }\n",
       "\n",
       "    .dataframe tbody tr th {\n",
       "        vertical-align: top;\n",
       "    }\n",
       "\n",
       "    .dataframe thead th {\n",
       "        text-align: right;\n",
       "    }\n",
       "</style>\n",
       "<table border=\"1\" class=\"dataframe\">\n",
       "  <thead>\n",
       "    <tr style=\"text-align: right;\">\n",
       "      <th></th>\n",
       "      <th>State</th>\n",
       "      <th>City</th>\n",
       "      <th>crime_index</th>\n",
       "      <th>Population</th>\n",
       "      <th>normalized_crime_index</th>\n",
       "    </tr>\n",
       "  </thead>\n",
       "  <tbody>\n",
       "    <tr>\n",
       "      <th>0</th>\n",
       "      <td>ALABAMA</td>\n",
       "      <td>BIRMINGHAM</td>\n",
       "      <td>19202</td>\n",
       "      <td>212549.0</td>\n",
       "      <td>9.034152</td>\n",
       "    </tr>\n",
       "    <tr>\n",
       "      <th>1</th>\n",
       "      <td>ALABAMA</td>\n",
       "      <td>MOBILE</td>\n",
       "      <td>14949</td>\n",
       "      <td>249921.0</td>\n",
       "      <td>5.981490</td>\n",
       "    </tr>\n",
       "    <tr>\n",
       "      <th>2</th>\n",
       "      <td>ALABAMA</td>\n",
       "      <td>MONTGOMERY</td>\n",
       "      <td>10799</td>\n",
       "      <td>199565.0</td>\n",
       "      <td>5.411270</td>\n",
       "    </tr>\n",
       "    <tr>\n",
       "      <th>3</th>\n",
       "      <td>ALASKA</td>\n",
       "      <td>ANCHORAGE</td>\n",
       "      <td>20839</td>\n",
       "      <td>299097.0</td>\n",
       "      <td>6.967305</td>\n",
       "    </tr>\n",
       "    <tr>\n",
       "      <th>4</th>\n",
       "      <td>ARIZONA</td>\n",
       "      <td>CHANDLER</td>\n",
       "      <td>6913</td>\n",
       "      <td>265922.0</td>\n",
       "      <td>2.599634</td>\n",
       "    </tr>\n",
       "  </tbody>\n",
       "</table>\n",
       "</div>"
      ],
      "text/plain": [
       "     State        City  crime_index  Population  normalized_crime_index\n",
       "0  ALABAMA  BIRMINGHAM        19202    212549.0                9.034152\n",
       "1  ALABAMA      MOBILE        14949    249921.0                5.981490\n",
       "2  ALABAMA  MONTGOMERY        10799    199565.0                5.411270\n",
       "3   ALASKA   ANCHORAGE        20839    299097.0                6.967305\n",
       "4  ARIZONA    CHANDLER         6913    265922.0                2.599634"
      ]
     },
     "execution_count": 78,
     "metadata": {},
     "output_type": "execute_result"
    }
   ],
   "source": [
    "df_Crime_Index_with_Population.head()"
   ]
  },
  {
   "cell_type": "code",
   "execution_count": 79,
   "metadata": {
    "scrolled": true
   },
   "outputs": [
    {
     "data": {
      "text/html": [
       "<div>\n",
       "<style scoped>\n",
       "    .dataframe tbody tr th:only-of-type {\n",
       "        vertical-align: middle;\n",
       "    }\n",
       "\n",
       "    .dataframe tbody tr th {\n",
       "        vertical-align: top;\n",
       "    }\n",
       "\n",
       "    .dataframe thead th {\n",
       "        text-align: right;\n",
       "    }\n",
       "</style>\n",
       "<table border=\"1\" class=\"dataframe\">\n",
       "  <thead>\n",
       "    <tr style=\"text-align: right;\">\n",
       "      <th></th>\n",
       "      <th>State</th>\n",
       "      <th>City</th>\n",
       "      <th>normalized_crime_index</th>\n",
       "    </tr>\n",
       "  </thead>\n",
       "  <tbody>\n",
       "    <tr>\n",
       "      <th>162</th>\n",
       "      <td>MISSOURI</td>\n",
       "      <td>SPRINGFIELD</td>\n",
       "      <td>10.660282</td>\n",
       "    </tr>\n",
       "    <tr>\n",
       "      <th>211</th>\n",
       "      <td>UTAH</td>\n",
       "      <td>SALT LAKE CITY</td>\n",
       "      <td>9.886137</td>\n",
       "    </tr>\n",
       "    <tr>\n",
       "      <th>10</th>\n",
       "      <td>ARKANSAS</td>\n",
       "      <td>LITTLE ROCK</td>\n",
       "      <td>9.852113</td>\n",
       "    </tr>\n",
       "  </tbody>\n",
       "</table>\n",
       "</div>"
      ],
      "text/plain": [
       "        State            City  normalized_crime_index\n",
       "162  MISSOURI     SPRINGFIELD               10.660282\n",
       "211      UTAH  SALT LAKE CITY                9.886137\n",
       "10   ARKANSAS     LITTLE ROCK                9.852113"
      ]
     },
     "execution_count": 79,
     "metadata": {},
     "output_type": "execute_result"
    }
   ],
   "source": [
    "df_Crime_Index_with_Population.sort_values('normalized_crime_index',ascending=False)\\\n",
    "        [['State','City','normalized_crime_index']].head(3)"
   ]
  },
  {
   "cell_type": "markdown",
   "metadata": {},
   "source": [
    "### Q4.4, For each state, determine the following: (1) the total number of cities in the dataset (rename this column to 'City_count'), and (2) the maximum population, minimum population, and the difference between them (rename this column to 'Spread_Population') for cities in that state. Display the results in a table, showing only the first 5 states.  (5 pts)\n",
    "\n",
    "Hint: don't double count the city "
   ]
  },
  {
   "cell_type": "code",
   "execution_count": 81,
   "metadata": {},
   "outputs": [
    {
     "data": {
      "text/plain": [
       "Index(['State', 'City', 'Year', 'Population', 'Violent crime', 'Murder',\n",
       "       'Rape', 'Robbery', 'Aggravated assault', 'Property crime', 'Burglary',\n",
       "       'Larceny-theft', 'Motor vehicle theft', 'Arson', 'crime_index'],\n",
       "      dtype='object')"
      ]
     },
     "execution_count": 81,
     "metadata": {},
     "output_type": "execute_result"
    }
   ],
   "source": [
    "df.columns"
   ]
  },
  {
   "cell_type": "code",
   "execution_count": 82,
   "metadata": {},
   "outputs": [
    {
     "data": {
      "text/html": [
       "<div>\n",
       "<style scoped>\n",
       "    .dataframe tbody tr th:only-of-type {\n",
       "        vertical-align: middle;\n",
       "    }\n",
       "\n",
       "    .dataframe tbody tr th {\n",
       "        vertical-align: top;\n",
       "    }\n",
       "\n",
       "    .dataframe thead tr th {\n",
       "        text-align: left;\n",
       "    }\n",
       "\n",
       "    .dataframe thead tr:last-of-type th {\n",
       "        text-align: right;\n",
       "    }\n",
       "</style>\n",
       "<table border=\"1\" class=\"dataframe\">\n",
       "  <thead>\n",
       "    <tr>\n",
       "      <th></th>\n",
       "      <th>City</th>\n",
       "      <th colspan=\"3\" halign=\"left\">Population</th>\n",
       "    </tr>\n",
       "    <tr>\n",
       "      <th></th>\n",
       "      <th>City_count</th>\n",
       "      <th>max</th>\n",
       "      <th>min</th>\n",
       "      <th>Spread_Population</th>\n",
       "    </tr>\n",
       "    <tr>\n",
       "      <th>State</th>\n",
       "      <th></th>\n",
       "      <th></th>\n",
       "      <th></th>\n",
       "      <th></th>\n",
       "    </tr>\n",
       "  </thead>\n",
       "  <tbody>\n",
       "    <tr>\n",
       "      <th>ALABAMA</th>\n",
       "      <td>3</td>\n",
       "      <td>249921</td>\n",
       "      <td>199565</td>\n",
       "      <td>50356</td>\n",
       "    </tr>\n",
       "    <tr>\n",
       "      <th>ALASKA</th>\n",
       "      <td>1</td>\n",
       "      <td>299097</td>\n",
       "      <td>299097</td>\n",
       "      <td>0</td>\n",
       "    </tr>\n",
       "    <tr>\n",
       "      <th>ARIZONA</th>\n",
       "      <td>6</td>\n",
       "      <td>478277</td>\n",
       "      <td>130679</td>\n",
       "      <td>347598</td>\n",
       "    </tr>\n",
       "    <tr>\n",
       "      <th>ARKANSAS</th>\n",
       "      <td>1</td>\n",
       "      <td>198800</td>\n",
       "      <td>198800</td>\n",
       "      <td>0</td>\n",
       "    </tr>\n",
       "    <tr>\n",
       "      <th>CALIFORNIA</th>\n",
       "      <td>73</td>\n",
       "      <td>4007905</td>\n",
       "      <td>101316</td>\n",
       "      <td>3906589</td>\n",
       "    </tr>\n",
       "  </tbody>\n",
       "</table>\n",
       "</div>"
      ],
      "text/plain": [
       "                 City Population                          \n",
       "           City_count        max     min Spread_Population\n",
       "State                                                     \n",
       "ALABAMA             3     249921  199565             50356\n",
       "ALASKA              1     299097  299097                 0\n",
       "ARIZONA             6     478277  130679            347598\n",
       "ARKANSAS            1     198800  198800                 0\n",
       "CALIFORNIA         73    4007905  101316           3906589"
      ]
     },
     "execution_count": 82,
     "metadata": {},
     "output_type": "execute_result"
    }
   ],
   "source": [
    "df.groupby('State').agg({'City':'nunique','Population':['max', 'min', \\\n",
    "        lambda x: x.max()-x.min()]}).rename(columns=\\\n",
    "        {'nunique':'City_count','<lambda_0>' :'Spread_Population'}).head()"
   ]
  },
  {
   "cell_type": "markdown",
   "metadata": {},
   "source": [
    "## Q5 Charts, Correlations and Crimes (15 pts)"
   ]
  },
  {
   "cell_type": "markdown",
   "metadata": {},
   "source": [
    "### Q5.1, Plot a bar chart to show the top 10 states with the highest arson count. (5 pts)"
   ]
  },
  {
   "cell_type": "code",
   "execution_count": 85,
   "metadata": {},
   "outputs": [
    {
     "data": {
      "text/html": [
       "<div>\n",
       "<style scoped>\n",
       "    .dataframe tbody tr th:only-of-type {\n",
       "        vertical-align: middle;\n",
       "    }\n",
       "\n",
       "    .dataframe tbody tr th {\n",
       "        vertical-align: top;\n",
       "    }\n",
       "\n",
       "    .dataframe thead th {\n",
       "        text-align: right;\n",
       "    }\n",
       "</style>\n",
       "<table border=\"1\" class=\"dataframe\">\n",
       "  <thead>\n",
       "    <tr style=\"text-align: right;\">\n",
       "      <th></th>\n",
       "      <th>Arson</th>\n",
       "    </tr>\n",
       "    <tr>\n",
       "      <th>State</th>\n",
       "      <th></th>\n",
       "    </tr>\n",
       "  </thead>\n",
       "  <tbody>\n",
       "    <tr>\n",
       "      <th>CALIFORNIA</th>\n",
       "      <td>4326</td>\n",
       "    </tr>\n",
       "    <tr>\n",
       "      <th>NEW YORK</th>\n",
       "      <td>2189</td>\n",
       "    </tr>\n",
       "    <tr>\n",
       "      <th>OHIO</th>\n",
       "      <td>1320</td>\n",
       "    </tr>\n",
       "    <tr>\n",
       "      <th>ILLINOIS</th>\n",
       "      <td>787</td>\n",
       "    </tr>\n",
       "    <tr>\n",
       "      <th>MISSOURI</th>\n",
       "      <td>519</td>\n",
       "    </tr>\n",
       "    <tr>\n",
       "      <th>FLORIDA</th>\n",
       "      <td>504</td>\n",
       "    </tr>\n",
       "    <tr>\n",
       "      <th>TENNESSEE</th>\n",
       "      <td>489</td>\n",
       "    </tr>\n",
       "    <tr>\n",
       "      <th>PENNSYLVANIA</th>\n",
       "      <td>426</td>\n",
       "    </tr>\n",
       "    <tr>\n",
       "      <th>COLORADO</th>\n",
       "      <td>399</td>\n",
       "    </tr>\n",
       "    <tr>\n",
       "      <th>ALABAMA</th>\n",
       "      <td>335</td>\n",
       "    </tr>\n",
       "  </tbody>\n",
       "</table>\n",
       "</div>"
      ],
      "text/plain": [
       "              Arson\n",
       "State              \n",
       "CALIFORNIA     4326\n",
       "NEW YORK       2189\n",
       "OHIO           1320\n",
       "ILLINOIS        787\n",
       "MISSOURI        519\n",
       "FLORIDA         504\n",
       "TENNESSEE       489\n",
       "PENNSYLVANIA    426\n",
       "COLORADO        399\n",
       "ALABAMA         335"
      ]
     },
     "execution_count": 85,
     "metadata": {},
     "output_type": "execute_result"
    }
   ],
   "source": [
    "df_Arson = df.groupby('State')[['Arson']].sum().\\\n",
    "            sort_values(by='Arson',ascending=False).head(10)\n",
    "df_Arson"
   ]
  },
  {
   "cell_type": "code",
   "execution_count": 86,
   "metadata": {},
   "outputs": [
    {
     "data": {
      "text/plain": [
       "<Axes: xlabel='State'>"
      ]
     },
     "execution_count": 86,
     "metadata": {},
     "output_type": "execute_result"
    },
    {
     "data": {
      "image/png": "[encoded data removed]",
      "text/plain": [
       "<Figure size 640x480 with 1 Axes>"
      ]
     },
     "metadata": {},
     "output_type": "display_data"
    }
   ],
   "source": [
    "df_Arson.plot.bar()"
   ]
  },
  {
   "cell_type": "markdown",
   "metadata": {},
   "source": [
    "Or .."
   ]
  },
  {
   "cell_type": "code",
   "execution_count": 88,
   "metadata": {},
   "outputs": [
    {
     "data": {
      "text/html": [
       "<div>\n",
       "<style scoped>\n",
       "    .dataframe tbody tr th:only-of-type {\n",
       "        vertical-align: middle;\n",
       "    }\n",
       "\n",
       "    .dataframe tbody tr th {\n",
       "        vertical-align: top;\n",
       "    }\n",
       "\n",
       "    .dataframe thead th {\n",
       "        text-align: right;\n",
       "    }\n",
       "</style>\n",
       "<table border=\"1\" class=\"dataframe\">\n",
       "  <thead>\n",
       "    <tr style=\"text-align: right;\">\n",
       "      <th></th>\n",
       "      <th>State</th>\n",
       "      <th>Arson</th>\n",
       "    </tr>\n",
       "  </thead>\n",
       "  <tbody>\n",
       "    <tr>\n",
       "      <th>4</th>\n",
       "      <td>CALIFORNIA</td>\n",
       "      <td>4326</td>\n",
       "    </tr>\n",
       "    <tr>\n",
       "      <th>28</th>\n",
       "      <td>NEW YORK</td>\n",
       "      <td>2189</td>\n",
       "    </tr>\n",
       "    <tr>\n",
       "      <th>30</th>\n",
       "      <td>OHIO</td>\n",
       "      <td>1320</td>\n",
       "    </tr>\n",
       "    <tr>\n",
       "      <th>11</th>\n",
       "      <td>ILLINOIS</td>\n",
       "      <td>787</td>\n",
       "    </tr>\n",
       "    <tr>\n",
       "      <th>21</th>\n",
       "      <td>MISSOURI</td>\n",
       "      <td>519</td>\n",
       "    </tr>\n",
       "    <tr>\n",
       "      <th>8</th>\n",
       "      <td>FLORIDA</td>\n",
       "      <td>504</td>\n",
       "    </tr>\n",
       "    <tr>\n",
       "      <th>37</th>\n",
       "      <td>TENNESSEE</td>\n",
       "      <td>489</td>\n",
       "    </tr>\n",
       "    <tr>\n",
       "      <th>33</th>\n",
       "      <td>PENNSYLVANIA</td>\n",
       "      <td>426</td>\n",
       "    </tr>\n",
       "    <tr>\n",
       "      <th>5</th>\n",
       "      <td>COLORADO</td>\n",
       "      <td>399</td>\n",
       "    </tr>\n",
       "    <tr>\n",
       "      <th>0</th>\n",
       "      <td>ALABAMA</td>\n",
       "      <td>335</td>\n",
       "    </tr>\n",
       "  </tbody>\n",
       "</table>\n",
       "</div>"
      ],
      "text/plain": [
       "           State  Arson\n",
       "4     CALIFORNIA   4326\n",
       "28      NEW YORK   2189\n",
       "30          OHIO   1320\n",
       "11      ILLINOIS    787\n",
       "21      MISSOURI    519\n",
       "8        FLORIDA    504\n",
       "37     TENNESSEE    489\n",
       "33  PENNSYLVANIA    426\n",
       "5       COLORADO    399\n",
       "0        ALABAMA    335"
      ]
     },
     "execution_count": 88,
     "metadata": {},
     "output_type": "execute_result"
    }
   ],
   "source": [
    "df_Arson_10 = df.groupby('State',as_index=False)['Arson'].sum().\\\n",
    "            sort_values('Arson',ascending=False).head(10)\n",
    "df_Arson_10"
   ]
  },
  {
   "cell_type": "code",
   "execution_count": 89,
   "metadata": {},
   "outputs": [
    {
     "data": {
      "text/plain": [
       "<seaborn.axisgrid.FacetGrid at 0x142e1c2f0>"
      ]
     },
     "execution_count": 89,
     "metadata": {},
     "output_type": "execute_result"
    },
    {
     "data": {
      "text/plain": [
       "<seaborn.axisgrid.FacetGrid at 0x142dcd370>"
      ]
     },
     "execution_count": 89,
     "metadata": {},
     "output_type": "execute_result"
    },
    {
     "data": {
      "image/png": "[encoded data removed]",
      "text/plain": [
       "<Figure size 511.111x500 with 1 Axes>"
      ]
     },
     "metadata": {},
     "output_type": "display_data"
    },
    {
     "data": {
      "image/png": "[encoded data removed]",
      "text/plain": [
       "<Figure size 1011.11x500 with 1 Axes>"
      ]
     },
     "metadata": {},
     "output_type": "display_data"
    }
   ],
   "source": [
    "sns.catplot(x='Arson', y='State', data=df_Arson_10, kind='bar')\n",
    "# or ..\n",
    "sns.catplot(x='State', y='Arson', data=df_Arson_10, kind='bar',aspect=2)"
   ]
  },
  {
   "cell_type": "markdown",
   "metadata": {},
   "source": [
    "### Q5.2, Remove all columns that were added by you and restore the DataFrame to its original state. Using correlations, identify the top 3 pairs of crime types with the strongest relationships to each other. (5 pts)\n",
    "Hint: use .corr() "
   ]
  },
  {
   "cell_type": "code",
   "execution_count": 91,
   "metadata": {},
   "outputs": [
    {
     "data": {
      "text/plain": [
       "Index(['State', 'City', 'Year', 'Population', 'Violent crime', 'Murder',\n",
       "       'Rape', 'Robbery', 'Aggravated assault', 'Property crime', 'Burglary',\n",
       "       'Larceny-theft', 'Motor vehicle theft', 'Arson', 'crime_index'],\n",
       "      dtype='object')"
      ]
     },
     "execution_count": 91,
     "metadata": {},
     "output_type": "execute_result"
    }
   ],
   "source": [
    "df.columns"
   ]
  },
  {
   "cell_type": "code",
   "execution_count": 92,
   "metadata": {},
   "outputs": [],
   "source": [
    "df.drop(columns=['crime_index'],inplace=True)"
   ]
  },
  {
   "cell_type": "code",
   "execution_count": 93,
   "metadata": {},
   "outputs": [
    {
     "data": {
      "text/plain": [
       "Index(['State', 'City', 'Year', 'Population', 'Violent crime', 'Murder',\n",
       "       'Rape', 'Robbery', 'Aggravated assault', 'Property crime', 'Burglary',\n",
       "       'Larceny-theft', 'Motor vehicle theft', 'Arson'],\n",
       "      dtype='object')"
      ]
     },
     "execution_count": 93,
     "metadata": {},
     "output_type": "execute_result"
    }
   ],
   "source": [
    "df.columns"
   ]
  },
  {
   "cell_type": "code",
   "execution_count": 94,
   "metadata": {},
   "outputs": [
    {
     "data": {
      "text/html": [
       "<div>\n",
       "<style scoped>\n",
       "    .dataframe tbody tr th:only-of-type {\n",
       "        vertical-align: middle;\n",
       "    }\n",
       "\n",
       "    .dataframe tbody tr th {\n",
       "        vertical-align: top;\n",
       "    }\n",
       "\n",
       "    .dataframe thead th {\n",
       "        text-align: right;\n",
       "    }\n",
       "</style>\n",
       "<table border=\"1\" class=\"dataframe\">\n",
       "  <thead>\n",
       "    <tr style=\"text-align: right;\">\n",
       "      <th></th>\n",
       "      <th>State</th>\n",
       "      <th>City</th>\n",
       "      <th>Year</th>\n",
       "      <th>Population</th>\n",
       "      <th>Violent crime</th>\n",
       "      <th>Murder</th>\n",
       "      <th>Rape</th>\n",
       "      <th>Robbery</th>\n",
       "      <th>Aggravated assault</th>\n",
       "      <th>Property crime</th>\n",
       "      <th>Burglary</th>\n",
       "      <th>Larceny-theft</th>\n",
       "      <th>Motor vehicle theft</th>\n",
       "      <th>Arson</th>\n",
       "    </tr>\n",
       "  </thead>\n",
       "  <tbody>\n",
       "    <tr>\n",
       "      <th>0</th>\n",
       "      <td>ALABAMA</td>\n",
       "      <td>BIRMINGHAM</td>\n",
       "      <td>2016</td>\n",
       "      <td>212549</td>\n",
       "      <td>1732</td>\n",
       "      <td>44</td>\n",
       "      <td>75</td>\n",
       "      <td>460</td>\n",
       "      <td>1153</td>\n",
       "      <td>5875</td>\n",
       "      <td>1318</td>\n",
       "      <td>3807</td>\n",
       "      <td>750</td>\n",
       "      <td>76</td>\n",
       "    </tr>\n",
       "    <tr>\n",
       "      <th>0</th>\n",
       "      <td>ALABAMA</td>\n",
       "      <td>BIRMINGHAM</td>\n",
       "      <td>2017</td>\n",
       "      <td>212549</td>\n",
       "      <td>1829</td>\n",
       "      <td>42</td>\n",
       "      <td>92</td>\n",
       "      <td>472</td>\n",
       "      <td>1223</td>\n",
       "      <td>6458</td>\n",
       "      <td>1292</td>\n",
       "      <td>4350</td>\n",
       "      <td>816</td>\n",
       "      <td>87</td>\n",
       "    </tr>\n",
       "    <tr>\n",
       "      <th>1</th>\n",
       "      <td>ALABAMA</td>\n",
       "      <td>MOBILE</td>\n",
       "      <td>2016</td>\n",
       "      <td>249921</td>\n",
       "      <td>793</td>\n",
       "      <td>18</td>\n",
       "      <td>47</td>\n",
       "      <td>181</td>\n",
       "      <td>547</td>\n",
       "      <td>5169</td>\n",
       "      <td>1100</td>\n",
       "      <td>3724</td>\n",
       "      <td>345</td>\n",
       "      <td>45</td>\n",
       "    </tr>\n",
       "    <tr>\n",
       "      <th>1</th>\n",
       "      <td>ALABAMA</td>\n",
       "      <td>MOBILE</td>\n",
       "      <td>2017</td>\n",
       "      <td>249921</td>\n",
       "      <td>925</td>\n",
       "      <td>20</td>\n",
       "      <td>53</td>\n",
       "      <td>235</td>\n",
       "      <td>617</td>\n",
       "      <td>6482</td>\n",
       "      <td>1507</td>\n",
       "      <td>4344</td>\n",
       "      <td>631</td>\n",
       "      <td>51</td>\n",
       "    </tr>\n",
       "    <tr>\n",
       "      <th>2</th>\n",
       "      <td>ALABAMA</td>\n",
       "      <td>MONTGOMERY</td>\n",
       "      <td>2016</td>\n",
       "      <td>199565</td>\n",
       "      <td>563</td>\n",
       "      <td>18</td>\n",
       "      <td>42</td>\n",
       "      <td>187</td>\n",
       "      <td>316</td>\n",
       "      <td>4229</td>\n",
       "      <td>1043</td>\n",
       "      <td>2790</td>\n",
       "      <td>396</td>\n",
       "      <td>35</td>\n",
       "    </tr>\n",
       "  </tbody>\n",
       "</table>\n",
       "</div>"
      ],
      "text/plain": [
       "     State        City  Year  Population  Violent crime  Murder  Rape  \\\n",
       "0  ALABAMA  BIRMINGHAM  2016      212549           1732      44    75   \n",
       "0  ALABAMA  BIRMINGHAM  2017      212549           1829      42    92   \n",
       "1  ALABAMA      MOBILE  2016      249921            793      18    47   \n",
       "1  ALABAMA      MOBILE  2017      249921            925      20    53   \n",
       "2  ALABAMA  MONTGOMERY  2016      199565            563      18    42   \n",
       "\n",
       "   Robbery  Aggravated assault  Property crime  Burglary  Larceny-theft  \\\n",
       "0      460                1153            5875      1318           3807   \n",
       "0      472                1223            6458      1292           4350   \n",
       "1      181                 547            5169      1100           3724   \n",
       "1      235                 617            6482      1507           4344   \n",
       "2      187                 316            4229      1043           2790   \n",
       "\n",
       "   Motor vehicle theft  Arson  \n",
       "0                  750     76  \n",
       "0                  816     87  \n",
       "1                  345     45  \n",
       "1                  631     51  \n",
       "2                  396     35  "
      ]
     },
     "execution_count": 94,
     "metadata": {},
     "output_type": "execute_result"
    }
   ],
   "source": [
    "df.head()"
   ]
  },
  {
   "cell_type": "code",
   "execution_count": 95,
   "metadata": {},
   "outputs": [],
   "source": [
    "df_dummies = pd.get_dummies(data=df, columns=['State','City'] )"
   ]
  },
  {
   "cell_type": "code",
   "execution_count": 96,
   "metadata": {},
   "outputs": [
    {
     "data": {
      "text/html": [
       "<div>\n",
       "<style scoped>\n",
       "    .dataframe tbody tr th:only-of-type {\n",
       "        vertical-align: middle;\n",
       "    }\n",
       "\n",
       "    .dataframe tbody tr th {\n",
       "        vertical-align: top;\n",
       "    }\n",
       "\n",
       "    .dataframe thead th {\n",
       "        text-align: right;\n",
       "    }\n",
       "</style>\n",
       "<table border=\"1\" class=\"dataframe\">\n",
       "  <thead>\n",
       "    <tr style=\"text-align: right;\">\n",
       "      <th></th>\n",
       "      <th>Year</th>\n",
       "      <th>Population</th>\n",
       "      <th>Violent crime</th>\n",
       "      <th>Murder</th>\n",
       "      <th>Rape</th>\n",
       "      <th>Robbery</th>\n",
       "      <th>Aggravated assault</th>\n",
       "      <th>Property crime</th>\n",
       "      <th>Burglary</th>\n",
       "      <th>Larceny-theft</th>\n",
       "      <th>Motor vehicle theft</th>\n",
       "      <th>Arson</th>\n",
       "      <th>State_ALABAMA</th>\n",
       "      <th>State_ALASKA</th>\n",
       "      <th>State_ARIZONA</th>\n",
       "      <th>State_ARKANSAS</th>\n",
       "      <th>State_CALIFORNIA</th>\n",
       "      <th>State_COLORADO</th>\n",
       "      <th>State_CONNECTICUT</th>\n",
       "      <th>State_DISTRICT OF COLUMBIA</th>\n",
       "      <th>State_FLORIDA</th>\n",
       "      <th>State_GEORGIA</th>\n",
       "      <th>State_HAWAII</th>\n",
       "      <th>State_ILLINOIS</th>\n",
       "      <th>State_INDIANA</th>\n",
       "      <th>State_KANSAS</th>\n",
       "      <th>State_KENTUCKY</th>\n",
       "      <th>State_LOUISIANA</th>\n",
       "      <th>State_MARYLAND</th>\n",
       "      <th>State_MASSACHUSETTS</th>\n",
       "      <th>State_MICHIGAN</th>\n",
       "      <th>State_MINNESOTA</th>\n",
       "      <th>State_MISSISSIPPI</th>\n",
       "      <th>State_MISSOURI</th>\n",
       "      <th>State_MONTANA</th>\n",
       "      <th>State_NEBRASKA</th>\n",
       "      <th>State_NEVADA</th>\n",
       "      <th>State_NEW HAMPSHIRE</th>\n",
       "      <th>State_NEW JERSEY</th>\n",
       "      <th>State_NEW MEXICO</th>\n",
       "      <th>State_NEW YORK</th>\n",
       "      <th>State_NORTH DAKOTA</th>\n",
       "      <th>State_OHIO</th>\n",
       "      <th>State_OKLAHOMA</th>\n",
       "      <th>State_OREGON</th>\n",
       "      <th>State_PENNSYLVANIA</th>\n",
       "      <th>State_RHODE ISLAND</th>\n",
       "      <th>State_SOUTH CAROLINA</th>\n",
       "      <th>State_SOUTH DAKOTA</th>\n",
       "      <th>State_TENNESSEE</th>\n",
       "      <th>State_UTAH</th>\n",
       "      <th>State_VIRGINIA</th>\n",
       "      <th>State_WASHINGTON</th>\n",
       "      <th>State_WISCONSIN</th>\n",
       "      <th>City_AKRON</th>\n",
       "      <th>City_ALLENTOWN</th>\n",
       "      <th>City_AMHERST TOWN</th>\n",
       "      <th>City_ANAHEIM</th>\n",
       "      <th>City_ANCHORAGE</th>\n",
       "      <th>City_ANN ARBOR</th>\n",
       "      <th>City_ANTIOCH</th>\n",
       "      <th>City_ATHENS-CLARKE COUNTY</th>\n",
       "      <th>City_ATLANTA</th>\n",
       "      <th>City_AURORA</th>\n",
       "      <th>City_BAKERSFIELD</th>\n",
       "      <th>City_BALTIMORE</th>\n",
       "      <th>City_BATON ROUGE</th>\n",
       "      <th>City_BELLEVUE</th>\n",
       "      <th>City_BERKELEY</th>\n",
       "      <th>City_BILLINGS</th>\n",
       "      <th>City_BIRMINGHAM</th>\n",
       "      <th>City_BRIDGEPORT</th>\n",
       "      <th>City_BROKEN ARROW</th>\n",
       "      <th>City_BUFFALO</th>\n",
       "      <th>City_BURBANK</th>\n",
       "      <th>City_CAMBRIDGE</th>\n",
       "      <th>City_CAPE CORAL</th>\n",
       "      <th>City_CARLSBAD</th>\n",
       "      <th>City_CENTENNIAL</th>\n",
       "      <th>City_CHANDLER</th>\n",
       "      <th>City_CHARLESTON</th>\n",
       "      <th>City_CHATTANOOGA</th>\n",
       "      <th>City_CHESAPEAKE</th>\n",
       "      <th>City_CHICAGO</th>\n",
       "      <th>City_CHULA VISTA</th>\n",
       "      <th>City_CINCINNATI</th>\n",
       "      <th>City_CLARKSVILLE</th>\n",
       "      <th>City_CLEARWATER</th>\n",
       "      <th>City_CLEVELAND</th>\n",
       "      <th>City_CLINTON TOWNSHIP</th>\n",
       "      <th>City_CLOVIS</th>\n",
       "      <th>City_COLORADO SPRINGS</th>\n",
       "      <th>City_COLUMBIA</th>\n",
       "      <th>City_COLUMBUS</th>\n",
       "      <th>City_CONCORD</th>\n",
       "      <th>City_CORAL SPRINGS</th>\n",
       "      <th>City_CORONA</th>\n",
       "      <th>City_COSTA MESA</th>\n",
       "      <th>City_DALY CITY</th>\n",
       "      <th>City_DAVIE</th>\n",
       "      <th>...</th>\n",
       "      <th>City_NAPERVILLE</th>\n",
       "      <th>City_NASHVILLE</th>\n",
       "      <th>City_NEW ORLEANS</th>\n",
       "      <th>City_NEW YORK</th>\n",
       "      <th>City_NEWARK</th>\n",
       "      <th>City_NEWPORT NEWS</th>\n",
       "      <th>City_NORFOLK</th>\n",
       "      <th>City_NORMAN</th>\n",
       "      <th>City_NORTH CHARLESTON</th>\n",
       "      <th>City_NORWALK</th>\n",
       "      <th>City_OAKLAND</th>\n",
       "      <th>City_OCEANSIDE</th>\n",
       "      <th>City_OKLAHOMA CITY</th>\n",
       "      <th>City_OLATHE</th>\n",
       "      <th>City_OMAHA</th>\n",
       "      <th>City_ONTARIO</th>\n",
       "      <th>City_ORANGE</th>\n",
       "      <th>City_ORLANDO5</th>\n",
       "      <th>City_OVERLAND PARK</th>\n",
       "      <th>City_OXNARD</th>\n",
       "      <th>City_PALM BAY</th>\n",
       "      <th>City_PALMDALE</th>\n",
       "      <th>City_PASADENA</th>\n",
       "      <th>City_PATERSON</th>\n",
       "      <th>City_PEMBROKE PINES</th>\n",
       "      <th>City_PEORIA</th>\n",
       "      <th>City_PHILADELPHIA</th>\n",
       "      <th>City_POMONA</th>\n",
       "      <th>City_POMPANO BEACH</th>\n",
       "      <th>City_PORT ST. LUCIE</th>\n",
       "      <th>City_PORTLAND</th>\n",
       "      <th>City_PROVIDENCE</th>\n",
       "      <th>City_PUEBLO</th>\n",
       "      <th>City_RANCHO CUCAMONGA</th>\n",
       "      <th>City_RENO</th>\n",
       "      <th>City_RENTON</th>\n",
       "      <th>City_RIALTO</th>\n",
       "      <th>City_RICHMOND</th>\n",
       "      <th>City_RIVERSIDE</th>\n",
       "      <th>City_ROCHESTER</th>\n",
       "      <th>City_ROCKFORD</th>\n",
       "      <th>City_ROSEVILLE</th>\n",
       "      <th>City_SACRAMENTO</th>\n",
       "      <th>City_SALEM</th>\n",
       "      <th>City_SALINAS</th>\n",
       "      <th>City_SALT LAKE CITY</th>\n",
       "      <th>City_SAN BERNARDINO</th>\n",
       "      <th>City_SAN DIEGO</th>\n",
       "      <th>City_SAN FRANCISCO</th>\n",
       "      <th>City_SAN JOSE</th>\n",
       "      <th>City_SAN MATEO</th>\n",
       "      <th>City_SANDY SPRINGS</th>\n",
       "      <th>City_SANTA ANA</th>\n",
       "      <th>City_SANTA CLARA</th>\n",
       "      <th>City_SANTA CLARITA</th>\n",
       "      <th>City_SANTA MARIA</th>\n",
       "      <th>City_SANTA ROSA</th>\n",
       "      <th>City_SAVANNAH-CHATHAM METROPOLITAN</th>\n",
       "      <th>City_SCOTTSDALE</th>\n",
       "      <th>City_SEATTLE</th>\n",
       "      <th>City_SIMI VALLEY</th>\n",
       "      <th>City_SIOUX FALLS</th>\n",
       "      <th>City_SOUTH BEND</th>\n",
       "      <th>City_SPRINGFIELD</th>\n",
       "      <th>City_ST. LOUIS</th>\n",
       "      <th>City_ST. PAUL</th>\n",
       "      <th>City_ST. PETERSBURG</th>\n",
       "      <th>City_STAMFORD</th>\n",
       "      <th>City_STERLING HEIGHTS</th>\n",
       "      <th>City_STOCKTON</th>\n",
       "      <th>City_SUNNYVALE</th>\n",
       "      <th>City_SURPRISE</th>\n",
       "      <th>City_SYRACUSE</th>\n",
       "      <th>City_TACOMA</th>\n",
       "      <th>City_TALLAHASSEE</th>\n",
       "      <th>City_TAMPA</th>\n",
       "      <th>City_TEMECULA</th>\n",
       "      <th>City_TEMPE</th>\n",
       "      <th>City_THOUSAND OAKS</th>\n",
       "      <th>City_TOLEDO</th>\n",
       "      <th>City_TOPEKA</th>\n",
       "      <th>City_TORRANCE</th>\n",
       "      <th>City_TULSA</th>\n",
       "      <th>City_VALLEJO</th>\n",
       "      <th>City_VANCOUVER</th>\n",
       "      <th>City_VENTURA</th>\n",
       "      <th>City_VICTORVILLE</th>\n",
       "      <th>City_VIRGINIA BEACH</th>\n",
       "      <th>City_VISALIA</th>\n",
       "      <th>City_VISTA</th>\n",
       "      <th>City_WARREN</th>\n",
       "      <th>City_WASHINGTON</th>\n",
       "      <th>City_WATERBURY</th>\n",
       "      <th>City_WEST COVINA</th>\n",
       "      <th>City_WEST JORDAN</th>\n",
       "      <th>City_WEST PALM BEACH</th>\n",
       "      <th>City_WEST VALLEY</th>\n",
       "      <th>City_WOODBRIDGE TOWNSHIP</th>\n",
       "      <th>City_WORCESTER</th>\n",
       "      <th>City_YONKERS</th>\n",
       "    </tr>\n",
       "  </thead>\n",
       "  <tbody>\n",
       "    <tr>\n",
       "      <th>0</th>\n",
       "      <td>2016</td>\n",
       "      <td>212549</td>\n",
       "      <td>1732</td>\n",
       "      <td>44</td>\n",
       "      <td>75</td>\n",
       "      <td>460</td>\n",
       "      <td>1153</td>\n",
       "      <td>5875</td>\n",
       "      <td>1318</td>\n",
       "      <td>3807</td>\n",
       "      <td>750</td>\n",
       "      <td>76</td>\n",
       "      <td>True</td>\n",
       "      <td>False</td>\n",
       "      <td>False</td>\n",
       "      <td>False</td>\n",
       "      <td>False</td>\n",
       "      <td>False</td>\n",
       "      <td>False</td>\n",
       "      <td>False</td>\n",
       "      <td>False</td>\n",
       "      <td>False</td>\n",
       "      <td>False</td>\n",
       "      <td>False</td>\n",
       "      <td>False</td>\n",
       "      <td>False</td>\n",
       "      <td>False</td>\n",
       "      <td>False</td>\n",
       "      <td>False</td>\n",
       "      <td>False</td>\n",
       "      <td>False</td>\n",
       "      <td>False</td>\n",
       "      <td>False</td>\n",
       "      <td>False</td>\n",
       "      <td>False</td>\n",
       "      <td>False</td>\n",
       "      <td>False</td>\n",
       "      <td>False</td>\n",
       "      <td>False</td>\n",
       "      <td>False</td>\n",
       "      <td>False</td>\n",
       "      <td>False</td>\n",
       "      <td>False</td>\n",
       "      <td>False</td>\n",
       "      <td>False</td>\n",
       "      <td>False</td>\n",
       "      <td>False</td>\n",
       "      <td>False</td>\n",
       "      <td>False</td>\n",
       "      <td>False</td>\n",
       "      <td>False</td>\n",
       "      <td>False</td>\n",
       "      <td>False</td>\n",
       "      <td>False</td>\n",
       "      <td>False</td>\n",
       "      <td>False</td>\n",
       "      <td>False</td>\n",
       "      <td>False</td>\n",
       "      <td>False</td>\n",
       "      <td>False</td>\n",
       "      <td>False</td>\n",
       "      <td>False</td>\n",
       "      <td>False</td>\n",
       "      <td>False</td>\n",
       "      <td>False</td>\n",
       "      <td>False</td>\n",
       "      <td>False</td>\n",
       "      <td>False</td>\n",
       "      <td>False</td>\n",
       "      <td>False</td>\n",
       "      <td>True</td>\n",
       "      <td>False</td>\n",
       "      <td>False</td>\n",
       "      <td>False</td>\n",
       "      <td>False</td>\n",
       "      <td>False</td>\n",
       "      <td>False</td>\n",
       "      <td>False</td>\n",
       "      <td>False</td>\n",
       "      <td>False</td>\n",
       "      <td>False</td>\n",
       "      <td>False</td>\n",
       "      <td>False</td>\n",
       "      <td>False</td>\n",
       "      <td>False</td>\n",
       "      <td>False</td>\n",
       "      <td>False</td>\n",
       "      <td>False</td>\n",
       "      <td>False</td>\n",
       "      <td>False</td>\n",
       "      <td>False</td>\n",
       "      <td>False</td>\n",
       "      <td>False</td>\n",
       "      <td>False</td>\n",
       "      <td>False</td>\n",
       "      <td>False</td>\n",
       "      <td>False</td>\n",
       "      <td>False</td>\n",
       "      <td>False</td>\n",
       "      <td>False</td>\n",
       "      <td>...</td>\n",
       "      <td>False</td>\n",
       "      <td>False</td>\n",
       "      <td>False</td>\n",
       "      <td>False</td>\n",
       "      <td>False</td>\n",
       "      <td>False</td>\n",
       "      <td>False</td>\n",
       "      <td>False</td>\n",
       "      <td>False</td>\n",
       "      <td>False</td>\n",
       "      <td>False</td>\n",
       "      <td>False</td>\n",
       "      <td>False</td>\n",
       "      <td>False</td>\n",
       "      <td>False</td>\n",
       "      <td>False</td>\n",
       "      <td>False</td>\n",
       "      <td>False</td>\n",
       "      <td>False</td>\n",
       "      <td>False</td>\n",
       "      <td>False</td>\n",
       "      <td>False</td>\n",
       "      <td>False</td>\n",
       "      <td>False</td>\n",
       "      <td>False</td>\n",
       "      <td>False</td>\n",
       "      <td>False</td>\n",
       "      <td>False</td>\n",
       "      <td>False</td>\n",
       "      <td>False</td>\n",
       "      <td>False</td>\n",
       "      <td>False</td>\n",
       "      <td>False</td>\n",
       "      <td>False</td>\n",
       "      <td>False</td>\n",
       "      <td>False</td>\n",
       "      <td>False</td>\n",
       "      <td>False</td>\n",
       "      <td>False</td>\n",
       "      <td>False</td>\n",
       "      <td>False</td>\n",
       "      <td>False</td>\n",
       "      <td>False</td>\n",
       "      <td>False</td>\n",
       "      <td>False</td>\n",
       "      <td>False</td>\n",
       "      <td>False</td>\n",
       "      <td>False</td>\n",
       "      <td>False</td>\n",
       "      <td>False</td>\n",
       "      <td>False</td>\n",
       "      <td>False</td>\n",
       "      <td>False</td>\n",
       "      <td>False</td>\n",
       "      <td>False</td>\n",
       "      <td>False</td>\n",
       "      <td>False</td>\n",
       "      <td>False</td>\n",
       "      <td>False</td>\n",
       "      <td>False</td>\n",
       "      <td>False</td>\n",
       "      <td>False</td>\n",
       "      <td>False</td>\n",
       "      <td>False</td>\n",
       "      <td>False</td>\n",
       "      <td>False</td>\n",
       "      <td>False</td>\n",
       "      <td>False</td>\n",
       "      <td>False</td>\n",
       "      <td>False</td>\n",
       "      <td>False</td>\n",
       "      <td>False</td>\n",
       "      <td>False</td>\n",
       "      <td>False</td>\n",
       "      <td>False</td>\n",
       "      <td>False</td>\n",
       "      <td>False</td>\n",
       "      <td>False</td>\n",
       "      <td>False</td>\n",
       "      <td>False</td>\n",
       "      <td>False</td>\n",
       "      <td>False</td>\n",
       "      <td>False</td>\n",
       "      <td>False</td>\n",
       "      <td>False</td>\n",
       "      <td>False</td>\n",
       "      <td>False</td>\n",
       "      <td>False</td>\n",
       "      <td>False</td>\n",
       "      <td>False</td>\n",
       "      <td>False</td>\n",
       "      <td>False</td>\n",
       "      <td>False</td>\n",
       "      <td>False</td>\n",
       "      <td>False</td>\n",
       "      <td>False</td>\n",
       "      <td>False</td>\n",
       "      <td>False</td>\n",
       "      <td>False</td>\n",
       "      <td>False</td>\n",
       "    </tr>\n",
       "  </tbody>\n",
       "</table>\n",
       "<p>1 rows × 277 columns</p>\n",
       "</div>"
      ],
      "text/plain": [
       "   Year  Population  Violent crime  Murder  Rape  Robbery  Aggravated assault  \\\n",
       "0  2016      212549           1732      44    75      460                1153   \n",
       "\n",
       "   Property crime  Burglary  Larceny-theft  Motor vehicle theft  Arson  \\\n",
       "0            5875      1318           3807                  750     76   \n",
       "\n",
       "   State_ALABAMA  State_ALASKA  State_ARIZONA  State_ARKANSAS  \\\n",
       "0           True         False          False           False   \n",
       "\n",
       "   State_CALIFORNIA  State_COLORADO  State_CONNECTICUT  \\\n",
       "0             False           False              False   \n",
       "\n",
       "   State_DISTRICT OF COLUMBIA  State_FLORIDA  State_GEORGIA  State_HAWAII  \\\n",
       "0                       False          False          False         False   \n",
       "\n",
       "   State_ILLINOIS  State_INDIANA  State_KANSAS  State_KENTUCKY  \\\n",
       "0           False          False         False           False   \n",
       "\n",
       "   State_LOUISIANA  State_MARYLAND  State_MASSACHUSETTS  State_MICHIGAN  \\\n",
       "0            False           False                False           False   \n",
       "\n",
       "   State_MINNESOTA  State_MISSISSIPPI  State_MISSOURI  State_MONTANA  \\\n",
       "0            False              False           False          False   \n",
       "\n",
       "   State_NEBRASKA  State_NEVADA  State_NEW HAMPSHIRE  State_NEW JERSEY  \\\n",
       "0           False         False                False             False   \n",
       "\n",
       "   State_NEW MEXICO  State_NEW YORK  State_NORTH DAKOTA  State_OHIO  \\\n",
       "0             False           False               False       False   \n",
       "\n",
       "   State_OKLAHOMA  State_OREGON  State_PENNSYLVANIA  State_RHODE ISLAND  \\\n",
       "0           False         False               False               False   \n",
       "\n",
       "   State_SOUTH CAROLINA  State_SOUTH DAKOTA  State_TENNESSEE  State_UTAH  \\\n",
       "0                 False               False            False       False   \n",
       "\n",
       "   State_VIRGINIA  State_WASHINGTON  State_WISCONSIN  City_AKRON  \\\n",
       "0           False             False            False       False   \n",
       "\n",
       "   City_ALLENTOWN  City_AMHERST TOWN  City_ANAHEIM  City_ANCHORAGE  \\\n",
       "0           False              False         False           False   \n",
       "\n",
       "   City_ANN ARBOR  City_ANTIOCH  City_ATHENS-CLARKE COUNTY  City_ATLANTA  \\\n",
       "0           False         False                      False         False   \n",
       "\n",
       "   City_AURORA  City_BAKERSFIELD  City_BALTIMORE  City_BATON ROUGE  \\\n",
       "0        False             False           False             False   \n",
       "\n",
       "   City_BELLEVUE  City_BERKELEY  City_BILLINGS  City_BIRMINGHAM  \\\n",
       "0          False          False          False             True   \n",
       "\n",
       "   City_BRIDGEPORT  City_BROKEN ARROW  City_BUFFALO  City_BURBANK  \\\n",
       "0            False              False         False         False   \n",
       "\n",
       "   City_CAMBRIDGE  City_CAPE CORAL  City_CARLSBAD  City_CENTENNIAL  \\\n",
       "0           False            False          False            False   \n",
       "\n",
       "   City_CHANDLER  City_CHARLESTON  City_CHATTANOOGA  City_CHESAPEAKE  \\\n",
       "0          False            False             False            False   \n",
       "\n",
       "   City_CHICAGO  City_CHULA VISTA  City_CINCINNATI  City_CLARKSVILLE  \\\n",
       "0         False             False            False             False   \n",
       "\n",
       "   City_CLEARWATER  City_CLEVELAND  City_CLINTON TOWNSHIP  City_CLOVIS  \\\n",
       "0            False           False                  False        False   \n",
       "\n",
       "   City_COLORADO SPRINGS  City_COLUMBIA  City_COLUMBUS  City_CONCORD  \\\n",
       "0                  False          False          False         False   \n",
       "\n",
       "   City_CORAL SPRINGS  City_CORONA  City_COSTA MESA  City_DALY CITY  \\\n",
       "0               False        False            False           False   \n",
       "\n",
       "   City_DAVIE  ...  City_NAPERVILLE  City_NASHVILLE  City_NEW ORLEANS  \\\n",
       "0       False  ...            False           False             False   \n",
       "\n",
       "   City_NEW YORK  City_NEWARK  City_NEWPORT NEWS   City_NORFOLK  City_NORMAN  \\\n",
       "0          False        False               False         False        False   \n",
       "\n",
       "   City_NORTH CHARLESTON  City_NORWALK  City_OAKLAND  City_OCEANSIDE  \\\n",
       "0                  False         False         False           False   \n",
       "\n",
       "   City_OKLAHOMA CITY  City_OLATHE  City_OMAHA  City_ONTARIO  City_ORANGE  \\\n",
       "0               False        False       False         False        False   \n",
       "\n",
       "   City_ORLANDO5  City_OVERLAND PARK  City_OXNARD  City_PALM BAY  \\\n",
       "0          False               False        False          False   \n",
       "\n",
       "   City_PALMDALE  City_PASADENA  City_PATERSON  City_PEMBROKE PINES  \\\n",
       "0          False          False          False                False   \n",
       "\n",
       "   City_PEORIA  City_PHILADELPHIA  City_POMONA  City_POMPANO BEACH  \\\n",
       "0        False              False        False               False   \n",
       "\n",
       "   City_PORT ST. LUCIE  City_PORTLAND  City_PROVIDENCE  City_PUEBLO  \\\n",
       "0                False          False            False        False   \n",
       "\n",
       "   City_RANCHO CUCAMONGA  City_RENO  City_RENTON  City_RIALTO  City_RICHMOND  \\\n",
       "0                  False      False        False        False          False   \n",
       "\n",
       "   City_RIVERSIDE  City_ROCHESTER  City_ROCKFORD  City_ROSEVILLE  \\\n",
       "0           False           False          False           False   \n",
       "\n",
       "   City_SACRAMENTO  City_SALEM  City_SALINAS  City_SALT LAKE CITY  \\\n",
       "0            False       False         False                False   \n",
       "\n",
       "   City_SAN BERNARDINO  City_SAN DIEGO  City_SAN FRANCISCO  City_SAN JOSE  \\\n",
       "0                False           False               False          False   \n",
       "\n",
       "   City_SAN MATEO  City_SANDY SPRINGS  City_SANTA ANA  City_SANTA CLARA  \\\n",
       "0           False               False           False             False   \n",
       "\n",
       "   City_SANTA CLARITA  City_SANTA MARIA  City_SANTA ROSA  \\\n",
       "0               False             False            False   \n",
       "\n",
       "   City_SAVANNAH-CHATHAM METROPOLITAN  City_SCOTTSDALE  City_SEATTLE  \\\n",
       "0                               False            False         False   \n",
       "\n",
       "   City_SIMI VALLEY  City_SIOUX FALLS  City_SOUTH BEND  City_SPRINGFIELD  \\\n",
       "0             False             False            False             False   \n",
       "\n",
       "   City_ST. LOUIS  City_ST. PAUL  City_ST. PETERSBURG  City_STAMFORD  \\\n",
       "0           False          False                False          False   \n",
       "\n",
       "   City_STERLING HEIGHTS  City_STOCKTON  City_SUNNYVALE  City_SURPRISE  \\\n",
       "0                  False          False           False          False   \n",
       "\n",
       "   City_SYRACUSE  City_TACOMA  City_TALLAHASSEE  City_TAMPA  City_TEMECULA  \\\n",
       "0          False        False             False       False          False   \n",
       "\n",
       "   City_TEMPE  City_THOUSAND OAKS  City_TOLEDO  City_TOPEKA  City_TORRANCE  \\\n",
       "0       False               False        False        False          False   \n",
       "\n",
       "   City_TULSA  City_VALLEJO  City_VANCOUVER  City_VENTURA  City_VICTORVILLE  \\\n",
       "0       False         False           False         False             False   \n",
       "\n",
       "   City_VIRGINIA BEACH  City_VISALIA  City_VISTA  City_WARREN  \\\n",
       "0                False         False       False        False   \n",
       "\n",
       "   City_WASHINGTON  City_WATERBURY  City_WEST COVINA  City_WEST JORDAN  \\\n",
       "0            False           False             False             False   \n",
       "\n",
       "   City_WEST PALM BEACH  City_WEST VALLEY  City_WOODBRIDGE TOWNSHIP  \\\n",
       "0                 False             False                     False   \n",
       "\n",
       "   City_WORCESTER  City_YONKERS  \n",
       "0           False         False  \n",
       "\n",
       "[1 rows x 277 columns]"
      ]
     },
     "execution_count": 96,
     "metadata": {},
     "output_type": "execute_result"
    }
   ],
   "source": [
    "df_dummies.head(1)"
   ]
  },
  {
   "cell_type": "code",
   "execution_count": 97,
   "metadata": {},
   "outputs": [],
   "source": [
    "cor = df_dummies.corr()"
   ]
  },
  {
   "cell_type": "code",
   "execution_count": 98,
   "metadata": {},
   "outputs": [
    {
     "data": {
      "text/plain": [
       "Year          Year                        1.000000e+00\n",
       "              Population                  1.678399e-15\n",
       "              Violent crime              -1.330503e-03\n",
       "              Murder                      1.286608e-02\n",
       "              Rape                       -5.309072e-03\n",
       "                                              ...     \n",
       "City_YONKERS  City_WEST PALM BEACH       -4.366812e-03\n",
       "              City_WEST VALLEY           -4.366812e-03\n",
       "              City_WOODBRIDGE TOWNSHIP   -4.366812e-03\n",
       "              City_WORCESTER             -4.366812e-03\n",
       "              City_YONKERS                1.000000e+00\n",
       "Length: 76729, dtype: float64"
      ]
     },
     "execution_count": 98,
     "metadata": {},
     "output_type": "execute_result"
    }
   ],
   "source": [
    "cor.stack()"
   ]
  },
  {
   "cell_type": "code",
   "execution_count": 99,
   "metadata": {},
   "outputs": [
    {
     "data": {
      "text/plain": [
       "Violent crime   Aggravated assault    0.992880\n",
       "Property crime  Larceny-theft         0.987585\n",
       "Violent crime   Robbery               0.984274\n",
       "dtype: float64"
      ]
     },
     "execution_count": 99,
     "metadata": {},
     "output_type": "execute_result"
    }
   ],
   "source": [
    "cor[cor < 1].stack().nlargest(6)[::2]"
   ]
  },
  {
   "cell_type": "markdown",
   "metadata": {},
   "source": [
    "### Q5.3, Using data from both 2016 and 2017, compare the *Violent crime* counts for each City between the two years. Identify the top 5 cities with the largest increase in counts (`counts(2017) - counts(2016)`) and name this column 'Vcrime Increase'. Display the State, City, and 'Vcrime Increase' columns only. (5 pts)\n",
    " \n",
    "Hint: Start with **merging** df_2016 and df_2017 as one data frame."
   ]
  },
  {
   "cell_type": "code",
   "execution_count": 101,
   "metadata": {},
   "outputs": [
    {
     "data": {
      "text/html": [
       "<div>\n",
       "<style scoped>\n",
       "    .dataframe tbody tr th:only-of-type {\n",
       "        vertical-align: middle;\n",
       "    }\n",
       "\n",
       "    .dataframe tbody tr th {\n",
       "        vertical-align: top;\n",
       "    }\n",
       "\n",
       "    .dataframe thead th {\n",
       "        text-align: right;\n",
       "    }\n",
       "</style>\n",
       "<table border=\"1\" class=\"dataframe\">\n",
       "  <thead>\n",
       "    <tr style=\"text-align: right;\">\n",
       "      <th></th>\n",
       "      <th>State</th>\n",
       "      <th>City</th>\n",
       "      <th>Year_x</th>\n",
       "      <th>Population_x</th>\n",
       "      <th>Violent crime_x</th>\n",
       "      <th>Murder_x</th>\n",
       "      <th>Rape_x</th>\n",
       "      <th>Robbery_x</th>\n",
       "      <th>Aggravated assault_x</th>\n",
       "      <th>Property crime_x</th>\n",
       "      <th>Burglary_x</th>\n",
       "      <th>Larceny-theft_x</th>\n",
       "      <th>Motor vehicle theft_x</th>\n",
       "      <th>Arson_x</th>\n",
       "      <th>Year_y</th>\n",
       "      <th>Population_y</th>\n",
       "      <th>Violent crime_y</th>\n",
       "      <th>Murder_y</th>\n",
       "      <th>Rape_y</th>\n",
       "      <th>Robbery_y</th>\n",
       "      <th>Aggravated assault_y</th>\n",
       "      <th>Property crime_y</th>\n",
       "      <th>Burglary_y</th>\n",
       "      <th>Larceny-theft_y</th>\n",
       "      <th>Motor vehicle theft_y</th>\n",
       "      <th>Arson_y</th>\n",
       "    </tr>\n",
       "  </thead>\n",
       "  <tbody>\n",
       "    <tr>\n",
       "      <th>0</th>\n",
       "      <td>ALABAMA</td>\n",
       "      <td>BIRMINGHAM</td>\n",
       "      <td>2016</td>\n",
       "      <td>212549</td>\n",
       "      <td>1732</td>\n",
       "      <td>44</td>\n",
       "      <td>75</td>\n",
       "      <td>460</td>\n",
       "      <td>1153</td>\n",
       "      <td>5875</td>\n",
       "      <td>1318</td>\n",
       "      <td>3807</td>\n",
       "      <td>750</td>\n",
       "      <td>76</td>\n",
       "      <td>2017</td>\n",
       "      <td>212549</td>\n",
       "      <td>1829</td>\n",
       "      <td>42</td>\n",
       "      <td>92</td>\n",
       "      <td>472</td>\n",
       "      <td>1223</td>\n",
       "      <td>6458</td>\n",
       "      <td>1292</td>\n",
       "      <td>4350</td>\n",
       "      <td>816</td>\n",
       "      <td>87</td>\n",
       "    </tr>\n",
       "    <tr>\n",
       "      <th>1</th>\n",
       "      <td>ALABAMA</td>\n",
       "      <td>MOBILE</td>\n",
       "      <td>2016</td>\n",
       "      <td>249921</td>\n",
       "      <td>793</td>\n",
       "      <td>18</td>\n",
       "      <td>47</td>\n",
       "      <td>181</td>\n",
       "      <td>547</td>\n",
       "      <td>5169</td>\n",
       "      <td>1100</td>\n",
       "      <td>3724</td>\n",
       "      <td>345</td>\n",
       "      <td>45</td>\n",
       "      <td>2017</td>\n",
       "      <td>249921</td>\n",
       "      <td>925</td>\n",
       "      <td>20</td>\n",
       "      <td>53</td>\n",
       "      <td>235</td>\n",
       "      <td>617</td>\n",
       "      <td>6482</td>\n",
       "      <td>1507</td>\n",
       "      <td>4344</td>\n",
       "      <td>631</td>\n",
       "      <td>51</td>\n",
       "    </tr>\n",
       "    <tr>\n",
       "      <th>2</th>\n",
       "      <td>ALABAMA</td>\n",
       "      <td>MONTGOMERY</td>\n",
       "      <td>2016</td>\n",
       "      <td>199565</td>\n",
       "      <td>563</td>\n",
       "      <td>18</td>\n",
       "      <td>42</td>\n",
       "      <td>187</td>\n",
       "      <td>316</td>\n",
       "      <td>4229</td>\n",
       "      <td>1043</td>\n",
       "      <td>2790</td>\n",
       "      <td>396</td>\n",
       "      <td>35</td>\n",
       "      <td>2017</td>\n",
       "      <td>199565</td>\n",
       "      <td>656</td>\n",
       "      <td>19</td>\n",
       "      <td>35</td>\n",
       "      <td>185</td>\n",
       "      <td>417</td>\n",
       "      <td>4246</td>\n",
       "      <td>1031</td>\n",
       "      <td>2797</td>\n",
       "      <td>418</td>\n",
       "      <td>41</td>\n",
       "    </tr>\n",
       "    <tr>\n",
       "      <th>3</th>\n",
       "      <td>ALASKA</td>\n",
       "      <td>ANCHORAGE</td>\n",
       "      <td>2016</td>\n",
       "      <td>299097</td>\n",
       "      <td>1692</td>\n",
       "      <td>9</td>\n",
       "      <td>302</td>\n",
       "      <td>326</td>\n",
       "      <td>1055</td>\n",
       "      <td>6853</td>\n",
       "      <td>1031</td>\n",
       "      <td>4901</td>\n",
       "      <td>921</td>\n",
       "      <td>38</td>\n",
       "      <td>2017</td>\n",
       "      <td>299097</td>\n",
       "      <td>1707</td>\n",
       "      <td>13</td>\n",
       "      <td>196</td>\n",
       "      <td>369</td>\n",
       "      <td>1129</td>\n",
       "      <td>7708</td>\n",
       "      <td>1089</td>\n",
       "      <td>5180</td>\n",
       "      <td>1439</td>\n",
       "      <td>31</td>\n",
       "    </tr>\n",
       "    <tr>\n",
       "      <th>4</th>\n",
       "      <td>ARIZONA</td>\n",
       "      <td>CHANDLER</td>\n",
       "      <td>2016</td>\n",
       "      <td>265922</td>\n",
       "      <td>272</td>\n",
       "      <td>1</td>\n",
       "      <td>61</td>\n",
       "      <td>69</td>\n",
       "      <td>141</td>\n",
       "      <td>2987</td>\n",
       "      <td>453</td>\n",
       "      <td>2373</td>\n",
       "      <td>161</td>\n",
       "      <td>8</td>\n",
       "      <td>2017</td>\n",
       "      <td>265922</td>\n",
       "      <td>303</td>\n",
       "      <td>1</td>\n",
       "      <td>67</td>\n",
       "      <td>72</td>\n",
       "      <td>163</td>\n",
       "      <td>2906</td>\n",
       "      <td>401</td>\n",
       "      <td>2298</td>\n",
       "      <td>207</td>\n",
       "      <td>10</td>\n",
       "    </tr>\n",
       "  </tbody>\n",
       "</table>\n",
       "</div>"
      ],
      "text/plain": [
       "     State        City  Year_x  Population_x  Violent crime_x  Murder_x  \\\n",
       "0  ALABAMA  BIRMINGHAM    2016        212549             1732        44   \n",
       "1  ALABAMA      MOBILE    2016        249921              793        18   \n",
       "2  ALABAMA  MONTGOMERY    2016        199565              563        18   \n",
       "3   ALASKA   ANCHORAGE    2016        299097             1692         9   \n",
       "4  ARIZONA    CHANDLER    2016        265922              272         1   \n",
       "\n",
       "   Rape_x  Robbery_x  Aggravated assault_x  Property crime_x  Burglary_x  \\\n",
       "0      75        460                  1153              5875        1318   \n",
       "1      47        181                   547              5169        1100   \n",
       "2      42        187                   316              4229        1043   \n",
       "3     302        326                  1055              6853        1031   \n",
       "4      61         69                   141              2987         453   \n",
       "\n",
       "   Larceny-theft_x  Motor vehicle theft_x  Arson_x  Year_y  Population_y  \\\n",
       "0             3807                    750       76    2017        212549   \n",
       "1             3724                    345       45    2017        249921   \n",
       "2             2790                    396       35    2017        199565   \n",
       "3             4901                    921       38    2017        299097   \n",
       "4             2373                    161        8    2017        265922   \n",
       "\n",
       "   Violent crime_y  Murder_y  Rape_y  Robbery_y  Aggravated assault_y  \\\n",
       "0             1829        42      92        472                  1223   \n",
       "1              925        20      53        235                   617   \n",
       "2              656        19      35        185                   417   \n",
       "3             1707        13     196        369                  1129   \n",
       "4              303         1      67         72                   163   \n",
       "\n",
       "   Property crime_y  Burglary_y  Larceny-theft_y  Motor vehicle theft_y  \\\n",
       "0              6458        1292             4350                    816   \n",
       "1              6482        1507             4344                    631   \n",
       "2              4246        1031             2797                    418   \n",
       "3              7708        1089             5180                   1439   \n",
       "4              2906         401             2298                    207   \n",
       "\n",
       "   Arson_y  \n",
       "0       87  \n",
       "1       51  \n",
       "2       41  \n",
       "3       31  \n",
       "4       10  "
      ]
     },
     "execution_count": 101,
     "metadata": {},
     "output_type": "execute_result"
    }
   ],
   "source": [
    "df_2016.merge(df_2017, on=('State','City')).head()"
   ]
  },
  {
   "cell_type": "code",
   "execution_count": 102,
   "metadata": {},
   "outputs": [],
   "source": [
    "df_2016_2017_VCrime = df_2016.merge(df_2017, on=('State','City'))[['State','City','Violent crime_x','Violent crime_y']]"
   ]
  },
  {
   "cell_type": "code",
   "execution_count": 103,
   "metadata": {},
   "outputs": [
    {
     "data": {
      "text/html": [
       "<div>\n",
       "<style scoped>\n",
       "    .dataframe tbody tr th:only-of-type {\n",
       "        vertical-align: middle;\n",
       "    }\n",
       "\n",
       "    .dataframe tbody tr th {\n",
       "        vertical-align: top;\n",
       "    }\n",
       "\n",
       "    .dataframe thead th {\n",
       "        text-align: right;\n",
       "    }\n",
       "</style>\n",
       "<table border=\"1\" class=\"dataframe\">\n",
       "  <thead>\n",
       "    <tr style=\"text-align: right;\">\n",
       "      <th></th>\n",
       "      <th>State</th>\n",
       "      <th>City</th>\n",
       "      <th>Violent crime_x</th>\n",
       "      <th>Violent crime_y</th>\n",
       "    </tr>\n",
       "  </thead>\n",
       "  <tbody>\n",
       "    <tr>\n",
       "      <th>0</th>\n",
       "      <td>ALABAMA</td>\n",
       "      <td>BIRMINGHAM</td>\n",
       "      <td>1732</td>\n",
       "      <td>1829</td>\n",
       "    </tr>\n",
       "    <tr>\n",
       "      <th>1</th>\n",
       "      <td>ALABAMA</td>\n",
       "      <td>MOBILE</td>\n",
       "      <td>793</td>\n",
       "      <td>925</td>\n",
       "    </tr>\n",
       "  </tbody>\n",
       "</table>\n",
       "</div>"
      ],
      "text/plain": [
       "     State        City  Violent crime_x  Violent crime_y\n",
       "0  ALABAMA  BIRMINGHAM             1732             1829\n",
       "1  ALABAMA      MOBILE              793              925"
      ]
     },
     "execution_count": 103,
     "metadata": {},
     "output_type": "execute_result"
    }
   ],
   "source": [
    "df_2016_2017_VCrime.head(2)"
   ]
  },
  {
   "cell_type": "code",
   "execution_count": 104,
   "metadata": {},
   "outputs": [],
   "source": [
    "df_2016_2017_VCrime['Vcrime Increase'] = df_2016_2017_VCrime['Violent crime_y'] - df_2016_2017_VCrime['Violent crime_x']"
   ]
  },
  {
   "cell_type": "code",
   "execution_count": 105,
   "metadata": {},
   "outputs": [
    {
     "data": {
      "text/html": [
       "<div>\n",
       "<style scoped>\n",
       "    .dataframe tbody tr th:only-of-type {\n",
       "        vertical-align: middle;\n",
       "    }\n",
       "\n",
       "    .dataframe tbody tr th {\n",
       "        vertical-align: top;\n",
       "    }\n",
       "\n",
       "    .dataframe thead th {\n",
       "        text-align: right;\n",
       "    }\n",
       "</style>\n",
       "<table border=\"1\" class=\"dataframe\">\n",
       "  <thead>\n",
       "    <tr style=\"text-align: right;\">\n",
       "      <th></th>\n",
       "      <th>State</th>\n",
       "      <th>City</th>\n",
       "      <th>Vcrime Increase</th>\n",
       "    </tr>\n",
       "  </thead>\n",
       "  <tbody>\n",
       "    <tr>\n",
       "      <th>144</th>\n",
       "      <td>MARYLAND</td>\n",
       "      <td>BALTIMORE</td>\n",
       "      <td>919</td>\n",
       "    </tr>\n",
       "    <tr>\n",
       "      <th>208</th>\n",
       "      <td>TENNESSEE</td>\n",
       "      <td>MEMPHIS</td>\n",
       "      <td>616</td>\n",
       "    </tr>\n",
       "    <tr>\n",
       "      <th>161</th>\n",
       "      <td>MISSOURI</td>\n",
       "      <td>KANSAS CITY</td>\n",
       "      <td>371</td>\n",
       "    </tr>\n",
       "    <tr>\n",
       "      <th>10</th>\n",
       "      <td>ARKANSAS</td>\n",
       "      <td>LITTLE ROCK</td>\n",
       "      <td>316</td>\n",
       "    </tr>\n",
       "    <tr>\n",
       "      <th>166</th>\n",
       "      <td>NEBRASKA</td>\n",
       "      <td>OMAHA</td>\n",
       "      <td>301</td>\n",
       "    </tr>\n",
       "  </tbody>\n",
       "</table>\n",
       "</div>"
      ],
      "text/plain": [
       "         State         City  Vcrime Increase\n",
       "144   MARYLAND    BALTIMORE              919\n",
       "208  TENNESSEE      MEMPHIS              616\n",
       "161   MISSOURI  KANSAS CITY              371\n",
       "10    ARKANSAS  LITTLE ROCK              316\n",
       "166   NEBRASKA        OMAHA              301"
      ]
     },
     "execution_count": 105,
     "metadata": {},
     "output_type": "execute_result"
    }
   ],
   "source": [
    "df_2016_2017_VCrime.sort_values(by=['Vcrime Increase'], ascending=False)[['State','City','Vcrime Increase']].head()"
   ]
  },
  {
   "cell_type": "markdown",
   "metadata": {},
   "source": [
    "## Q6 Machine Learning (15 pts)"
   ]
  },
  {
   "cell_type": "code",
   "execution_count": 107,
   "metadata": {},
   "outputs": [],
   "source": [
    "import sklearn as sk\n",
    "import sklearn.tree as tree\n",
    "from IPython.display import Image  \n",
    "import pydotplus"
   ]
  },
  {
   "cell_type": "markdown",
   "metadata": {},
   "source": [
    "### Some preparation works done for you:\n",
    "* Load US_crime_rate_ML.csv as df_ML\n",
    "* Create a 2-levels DecisionTree object as dt"
   ]
  },
  {
   "cell_type": "code",
   "execution_count": 109,
   "metadata": {},
   "outputs": [],
   "source": [
    "df_ML=pd.read_csv('US_crime_rate_ML.csv')"
   ]
  },
  {
   "cell_type": "markdown",
   "metadata": {},
   "source": [
    "Set up a 2-levels Decision Tree Classifier"
   ]
  },
  {
   "cell_type": "code",
   "execution_count": 111,
   "metadata": {},
   "outputs": [],
   "source": [
    "dt = tree.DecisionTreeClassifier(max_depth=2)"
   ]
  },
  {
   "cell_type": "markdown",
   "metadata": {},
   "source": [
    "### Q6.1, Using `df_ML`, define a 'Safe City' as a city where 'Violent crime' is less than or equal to 50% of the national average for 'Violent crime'. Treat 'Safe City' as the target variable (Y) and build a two-level Decision Tree. \n",
    "\n",
    "### Q6.1.1: First, display the Decision Tree graph *(5 pts)*, \n",
    "\n",
    "### Q6.1.2: Interpret the graph by explaining the characteristics of the 4 different end nodes.   (5 pts)"
   ]
  },
  {
   "cell_type": "code",
   "execution_count": 113,
   "metadata": {},
   "outputs": [
    {
     "data": {
      "text/plain": [
       "981.1565217391304"
      ]
     },
     "execution_count": 113,
     "metadata": {},
     "output_type": "execute_result"
    }
   ],
   "source": [
    "df_ML['Violent crime'].mean()"
   ]
  },
  {
   "cell_type": "code",
   "execution_count": 114,
   "metadata": {},
   "outputs": [
    {
     "data": {
      "text/html": [
       "<div>\n",
       "<style scoped>\n",
       "    .dataframe tbody tr th:only-of-type {\n",
       "        vertical-align: middle;\n",
       "    }\n",
       "\n",
       "    .dataframe tbody tr th {\n",
       "        vertical-align: top;\n",
       "    }\n",
       "\n",
       "    .dataframe thead th {\n",
       "        text-align: right;\n",
       "    }\n",
       "</style>\n",
       "<table border=\"1\" class=\"dataframe\">\n",
       "  <thead>\n",
       "    <tr style=\"text-align: right;\">\n",
       "      <th></th>\n",
       "      <th>State</th>\n",
       "      <th>Population</th>\n",
       "      <th>Violent crime</th>\n",
       "      <th>Murder</th>\n",
       "      <th>Rape</th>\n",
       "      <th>Robbery</th>\n",
       "      <th>Aggravated assault</th>\n",
       "      <th>Property crime</th>\n",
       "      <th>Burglary</th>\n",
       "      <th>Larceny-theft</th>\n",
       "      <th>Motor vehicle theft</th>\n",
       "      <th>Arson</th>\n",
       "    </tr>\n",
       "  </thead>\n",
       "  <tbody>\n",
       "    <tr>\n",
       "      <th>0</th>\n",
       "      <td>ALABAMA</td>\n",
       "      <td>212549</td>\n",
       "      <td>1732</td>\n",
       "      <td>44</td>\n",
       "      <td>75</td>\n",
       "      <td>460</td>\n",
       "      <td>1153</td>\n",
       "      <td>5875</td>\n",
       "      <td>1318</td>\n",
       "      <td>3807</td>\n",
       "      <td>750</td>\n",
       "      <td>76</td>\n",
       "    </tr>\n",
       "    <tr>\n",
       "      <th>1</th>\n",
       "      <td>ALABAMA</td>\n",
       "      <td>249921</td>\n",
       "      <td>793</td>\n",
       "      <td>18</td>\n",
       "      <td>47</td>\n",
       "      <td>181</td>\n",
       "      <td>547</td>\n",
       "      <td>5169</td>\n",
       "      <td>1100</td>\n",
       "      <td>3724</td>\n",
       "      <td>345</td>\n",
       "      <td>45</td>\n",
       "    </tr>\n",
       "    <tr>\n",
       "      <th>2</th>\n",
       "      <td>ALABAMA</td>\n",
       "      <td>199565</td>\n",
       "      <td>563</td>\n",
       "      <td>18</td>\n",
       "      <td>42</td>\n",
       "      <td>187</td>\n",
       "      <td>316</td>\n",
       "      <td>4229</td>\n",
       "      <td>1043</td>\n",
       "      <td>2790</td>\n",
       "      <td>396</td>\n",
       "      <td>35</td>\n",
       "    </tr>\n",
       "    <tr>\n",
       "      <th>3</th>\n",
       "      <td>ALASKA</td>\n",
       "      <td>299097</td>\n",
       "      <td>1692</td>\n",
       "      <td>9</td>\n",
       "      <td>302</td>\n",
       "      <td>326</td>\n",
       "      <td>1055</td>\n",
       "      <td>6853</td>\n",
       "      <td>1031</td>\n",
       "      <td>4901</td>\n",
       "      <td>921</td>\n",
       "      <td>38</td>\n",
       "    </tr>\n",
       "    <tr>\n",
       "      <th>4</th>\n",
       "      <td>ARIZONA</td>\n",
       "      <td>265922</td>\n",
       "      <td>272</td>\n",
       "      <td>1</td>\n",
       "      <td>61</td>\n",
       "      <td>69</td>\n",
       "      <td>141</td>\n",
       "      <td>2987</td>\n",
       "      <td>453</td>\n",
       "      <td>2373</td>\n",
       "      <td>161</td>\n",
       "      <td>8</td>\n",
       "    </tr>\n",
       "  </tbody>\n",
       "</table>\n",
       "</div>"
      ],
      "text/plain": [
       "     State  Population  Violent crime  Murder  Rape  Robbery  \\\n",
       "0  ALABAMA      212549           1732      44    75      460   \n",
       "1  ALABAMA      249921            793      18    47      181   \n",
       "2  ALABAMA      199565            563      18    42      187   \n",
       "3   ALASKA      299097           1692       9   302      326   \n",
       "4  ARIZONA      265922            272       1    61       69   \n",
       "\n",
       "   Aggravated assault  Property crime  Burglary  Larceny-theft  \\\n",
       "0                1153            5875      1318           3807   \n",
       "1                 547            5169      1100           3724   \n",
       "2                 316            4229      1043           2790   \n",
       "3                1055            6853      1031           4901   \n",
       "4                 141            2987       453           2373   \n",
       "\n",
       "   Motor vehicle theft  Arson  \n",
       "0                  750     76  \n",
       "1                  345     45  \n",
       "2                  396     35  \n",
       "3                  921     38  \n",
       "4                  161      8  "
      ]
     },
     "execution_count": 114,
     "metadata": {},
     "output_type": "execute_result"
    }
   ],
   "source": [
    "df_ML.head()"
   ]
  },
  {
   "cell_type": "code",
   "execution_count": 115,
   "metadata": {},
   "outputs": [],
   "source": [
    "df_ML['Safe City'] = (df_ML['Violent crime'] <= \\\n",
    "                        0.5*(df_ML['Violent crime'].mean()) )*1.0"
   ]
  },
  {
   "cell_type": "code",
   "execution_count": 116,
   "metadata": {},
   "outputs": [
    {
     "data": {
      "text/plain": [
       "141"
      ]
     },
     "execution_count": 116,
     "metadata": {},
     "output_type": "execute_result"
    },
    {
     "data": {
      "text/plain": [
       "89"
      ]
     },
     "execution_count": 116,
     "metadata": {},
     "output_type": "execute_result"
    }
   ],
   "source": [
    "(df_ML['Safe City']==1.0).sum()\n",
    "(df_ML['Safe City']==0.0).sum()"
   ]
  },
  {
   "cell_type": "code",
   "execution_count": 117,
   "metadata": {},
   "outputs": [
    {
     "data": {
      "text/plain": [
       "Index(['State', 'Population', 'Violent crime', 'Murder', 'Rape', 'Robbery',\n",
       "       'Aggravated assault', 'Property crime', 'Burglary', 'Larceny-theft',\n",
       "       'Motor vehicle theft', 'Arson', 'Safe City'],\n",
       "      dtype='object')"
      ]
     },
     "execution_count": 117,
     "metadata": {},
     "output_type": "execute_result"
    }
   ],
   "source": [
    "df_ML.columns"
   ]
  },
  {
   "cell_type": "markdown",
   "metadata": {},
   "source": [
    "transform 'State' columns into dummies by pd.get_dummies()"
   ]
  },
  {
   "cell_type": "code",
   "execution_count": 119,
   "metadata": {},
   "outputs": [],
   "source": [
    "df_ML = pd.get_dummies(columns=['State'], data=df_ML)"
   ]
  },
  {
   "cell_type": "code",
   "execution_count": 120,
   "metadata": {},
   "outputs": [
    {
     "data": {
      "text/html": [
       "<div>\n",
       "<style scoped>\n",
       "    .dataframe tbody tr th:only-of-type {\n",
       "        vertical-align: middle;\n",
       "    }\n",
       "\n",
       "    .dataframe tbody tr th {\n",
       "        vertical-align: top;\n",
       "    }\n",
       "\n",
       "    .dataframe thead th {\n",
       "        text-align: right;\n",
       "    }\n",
       "</style>\n",
       "<table border=\"1\" class=\"dataframe\">\n",
       "  <thead>\n",
       "    <tr style=\"text-align: right;\">\n",
       "      <th></th>\n",
       "      <th>Population</th>\n",
       "      <th>Violent crime</th>\n",
       "      <th>Murder</th>\n",
       "      <th>Rape</th>\n",
       "      <th>Robbery</th>\n",
       "      <th>Aggravated assault</th>\n",
       "      <th>Property crime</th>\n",
       "      <th>Burglary</th>\n",
       "      <th>Larceny-theft</th>\n",
       "      <th>Motor vehicle theft</th>\n",
       "      <th>Arson</th>\n",
       "      <th>Safe City</th>\n",
       "      <th>State_ALABAMA</th>\n",
       "      <th>State_ALASKA</th>\n",
       "      <th>State_ARIZONA</th>\n",
       "      <th>State_ARKANSAS</th>\n",
       "      <th>State_CALIFORNIA</th>\n",
       "      <th>State_COLORADO</th>\n",
       "      <th>State_CONNECTICUT</th>\n",
       "      <th>State_DISTRICT OF COLUMBIA</th>\n",
       "      <th>State_FLORIDA</th>\n",
       "      <th>State_GEORGIA</th>\n",
       "      <th>State_HAWAII</th>\n",
       "      <th>State_ILLINOIS</th>\n",
       "      <th>State_INDIANA</th>\n",
       "      <th>State_KANSAS</th>\n",
       "      <th>State_KENTUCKY</th>\n",
       "      <th>State_LOUISIANA</th>\n",
       "      <th>State_MARYLAND</th>\n",
       "      <th>State_MASSACHUSETTS</th>\n",
       "      <th>State_MICHIGAN</th>\n",
       "      <th>State_MINNESOTA</th>\n",
       "      <th>State_MISSISSIPPI</th>\n",
       "      <th>State_MISSOURI</th>\n",
       "      <th>State_MONTANA</th>\n",
       "      <th>State_NEBRASKA</th>\n",
       "      <th>State_NEVADA</th>\n",
       "      <th>State_NEW HAMPSHIRE</th>\n",
       "      <th>State_NEW JERSEY</th>\n",
       "      <th>State_NEW MEXICO</th>\n",
       "      <th>State_NEW YORK</th>\n",
       "      <th>State_NORTH DAKOTA</th>\n",
       "      <th>State_OHIO</th>\n",
       "      <th>State_OKLAHOMA</th>\n",
       "      <th>State_OREGON</th>\n",
       "      <th>State_PENNSYLVANIA</th>\n",
       "      <th>State_RHODE ISLAND</th>\n",
       "      <th>State_SOUTH CAROLINA</th>\n",
       "      <th>State_SOUTH DAKOTA</th>\n",
       "      <th>State_TENNESSEE</th>\n",
       "      <th>State_UTAH</th>\n",
       "      <th>State_VIRGINIA</th>\n",
       "      <th>State_WASHINGTON</th>\n",
       "      <th>State_WISCONSIN</th>\n",
       "    </tr>\n",
       "  </thead>\n",
       "  <tbody>\n",
       "    <tr>\n",
       "      <th>0</th>\n",
       "      <td>212549</td>\n",
       "      <td>1732</td>\n",
       "      <td>44</td>\n",
       "      <td>75</td>\n",
       "      <td>460</td>\n",
       "      <td>1153</td>\n",
       "      <td>5875</td>\n",
       "      <td>1318</td>\n",
       "      <td>3807</td>\n",
       "      <td>750</td>\n",
       "      <td>76</td>\n",
       "      <td>0.0</td>\n",
       "      <td>True</td>\n",
       "      <td>False</td>\n",
       "      <td>False</td>\n",
       "      <td>False</td>\n",
       "      <td>False</td>\n",
       "      <td>False</td>\n",
       "      <td>False</td>\n",
       "      <td>False</td>\n",
       "      <td>False</td>\n",
       "      <td>False</td>\n",
       "      <td>False</td>\n",
       "      <td>False</td>\n",
       "      <td>False</td>\n",
       "      <td>False</td>\n",
       "      <td>False</td>\n",
       "      <td>False</td>\n",
       "      <td>False</td>\n",
       "      <td>False</td>\n",
       "      <td>False</td>\n",
       "      <td>False</td>\n",
       "      <td>False</td>\n",
       "      <td>False</td>\n",
       "      <td>False</td>\n",
       "      <td>False</td>\n",
       "      <td>False</td>\n",
       "      <td>False</td>\n",
       "      <td>False</td>\n",
       "      <td>False</td>\n",
       "      <td>False</td>\n",
       "      <td>False</td>\n",
       "      <td>False</td>\n",
       "      <td>False</td>\n",
       "      <td>False</td>\n",
       "      <td>False</td>\n",
       "      <td>False</td>\n",
       "      <td>False</td>\n",
       "      <td>False</td>\n",
       "      <td>False</td>\n",
       "      <td>False</td>\n",
       "      <td>False</td>\n",
       "      <td>False</td>\n",
       "      <td>False</td>\n",
       "    </tr>\n",
       "  </tbody>\n",
       "</table>\n",
       "</div>"
      ],
      "text/plain": [
       "   Population  Violent crime  Murder  Rape  Robbery  Aggravated assault  \\\n",
       "0      212549           1732      44    75      460                1153   \n",
       "\n",
       "   Property crime  Burglary  Larceny-theft  Motor vehicle theft  Arson  \\\n",
       "0            5875      1318           3807                  750     76   \n",
       "\n",
       "   Safe City  State_ALABAMA  State_ALASKA  State_ARIZONA  State_ARKANSAS  \\\n",
       "0        0.0           True         False          False           False   \n",
       "\n",
       "   State_CALIFORNIA  State_COLORADO  State_CONNECTICUT  \\\n",
       "0             False           False              False   \n",
       "\n",
       "   State_DISTRICT OF COLUMBIA  State_FLORIDA  State_GEORGIA  State_HAWAII  \\\n",
       "0                       False          False          False         False   \n",
       "\n",
       "   State_ILLINOIS  State_INDIANA  State_KANSAS  State_KENTUCKY  \\\n",
       "0           False          False         False           False   \n",
       "\n",
       "   State_LOUISIANA  State_MARYLAND  State_MASSACHUSETTS  State_MICHIGAN  \\\n",
       "0            False           False                False           False   \n",
       "\n",
       "   State_MINNESOTA  State_MISSISSIPPI  State_MISSOURI  State_MONTANA  \\\n",
       "0            False              False           False          False   \n",
       "\n",
       "   State_NEBRASKA  State_NEVADA  State_NEW HAMPSHIRE  State_NEW JERSEY  \\\n",
       "0           False         False                False             False   \n",
       "\n",
       "   State_NEW MEXICO  State_NEW YORK  State_NORTH DAKOTA  State_OHIO  \\\n",
       "0             False           False               False       False   \n",
       "\n",
       "   State_OKLAHOMA  State_OREGON  State_PENNSYLVANIA  State_RHODE ISLAND  \\\n",
       "0           False         False               False               False   \n",
       "\n",
       "   State_SOUTH CAROLINA  State_SOUTH DAKOTA  State_TENNESSEE  State_UTAH  \\\n",
       "0                 False               False            False       False   \n",
       "\n",
       "   State_VIRGINIA  State_WASHINGTON  State_WISCONSIN  \n",
       "0           False             False            False  "
      ]
     },
     "execution_count": 120,
     "metadata": {},
     "output_type": "execute_result"
    }
   ],
   "source": [
    "df_ML.head(1)"
   ]
  },
  {
   "cell_type": "markdown",
   "metadata": {},
   "source": [
    "Now we are ready to train the Decision Tree.. Before training, we ned to set up input X and output Y."
   ]
  },
  {
   "cell_type": "code",
   "execution_count": 122,
   "metadata": {},
   "outputs": [
    {
     "data": {
      "text/html": [
       "<style>#sk-container-id-1 {\n",
       "  /* Definition of color scheme common for light and dark mode */\n",
       "  --sklearn-color-text: black;\n",
       "  --sklearn-color-line: gray;\n",
       "  /* Definition of color scheme for unfitted estimators */\n",
       "  --sklearn-color-unfitted-level-0: #fff5e6;\n",
       "  --sklearn-color-unfitted-level-1: #f6e4d2;\n",
       "  --sklearn-color-unfitted-level-2: #ffe0b3;\n",
       "  --sklearn-color-unfitted-level-3: chocolate;\n",
       "  /* Definition of color scheme for fitted estimators */\n",
       "  --sklearn-color-fitted-level-0: #f0f8ff;\n",
       "  --sklearn-color-fitted-level-1: #d4ebff;\n",
       "  --sklearn-color-fitted-level-2: #b3dbfd;\n",
       "  --sklearn-color-fitted-level-3: cornflowerblue;\n",
       "\n",
       "  /* Specific color for light theme */\n",
       "  --sklearn-color-text-on-default-background: var(--sg-text-color, var(--theme-code-foreground, var(--jp-content-font-color1, black)));\n",
       "  --sklearn-color-background: var(--sg-background-color, var(--theme-background, var(--jp-layout-color0, white)));\n",
       "  --sklearn-color-border-box: var(--sg-text-color, var(--theme-code-foreground, var(--jp-content-font-color1, black)));\n",
       "  --sklearn-color-icon: #696969;\n",
       "\n",
       "  @media (prefers-color-scheme: dark) {\n",
       "    /* Redefinition of color scheme for dark theme */\n",
       "    --sklearn-color-text-on-default-background: var(--sg-text-color, var(--theme-code-foreground, var(--jp-content-font-color1, white)));\n",
       "    --sklearn-color-background: var(--sg-background-color, var(--theme-background, var(--jp-layout-color0, #111)));\n",
       "    --sklearn-color-border-box: var(--sg-text-color, var(--theme-code-foreground, var(--jp-content-font-color1, white)));\n",
       "    --sklearn-color-icon: #878787;\n",
       "  }\n",
       "}\n",
       "\n",
       "#sk-container-id-1 {\n",
       "  color: var(--sklearn-color-text);\n",
       "}\n",
       "\n",
       "#sk-container-id-1 pre {\n",
       "  padding: 0;\n",
       "}\n",
       "\n",
       "#sk-container-id-1 input.sk-hidden--visually {\n",
       "  border: 0;\n",
       "  clip: rect(1px 1px 1px 1px);\n",
       "  clip: rect(1px, 1px, 1px, 1px);\n",
       "  height: 1px;\n",
       "  margin: -1px;\n",
       "  overflow: hidden;\n",
       "  padding: 0;\n",
       "  position: absolute;\n",
       "  width: 1px;\n",
       "}\n",
       "\n",
       "#sk-container-id-1 div.sk-dashed-wrapped {\n",
       "  border: 1px dashed var(--sklearn-color-line);\n",
       "  margin: 0 0.4em 0.5em 0.4em;\n",
       "  box-sizing: border-box;\n",
       "  padding-bottom: 0.4em;\n",
       "  background-color: var(--sklearn-color-background);\n",
       "}\n",
       "\n",
       "#sk-container-id-1 div.sk-container {\n",
       "  /* jupyter's `normalize.less` sets `[hidden] { display: none; }`\n",
       "     but bootstrap.min.css set `[hidden] { display: none !important; }`\n",
       "     so we also need the `!important` here to be able to override the\n",
       "     default hidden behavior on the sphinx rendered scikit-learn.org.\n",
       "     See: https://github.com/scikit-learn/scikit-learn/issues/21755 */\n",
       "  display: inline-block !important;\n",
       "  position: relative;\n",
       "}\n",
       "\n",
       "#sk-container-id-1 div.sk-text-repr-fallback {\n",
       "  display: none;\n",
       "}\n",
       "\n",
       "div.sk-parallel-item,\n",
       "div.sk-serial,\n",
       "div.sk-item {\n",
       "  /* draw centered vertical line to link estimators */\n",
       "  background-image: linear-gradient(var(--sklearn-color-text-on-default-background), var(--sklearn-color-text-on-default-background));\n",
       "  background-size: 2px 100%;\n",
       "  background-repeat: no-repeat;\n",
       "  background-position: center center;\n",
       "}\n",
       "\n",
       "/* Parallel-specific style estimator block */\n",
       "\n",
       "#sk-container-id-1 div.sk-parallel-item::after {\n",
       "  content: \"\";\n",
       "  width: 100%;\n",
       "  border-bottom: 2px solid var(--sklearn-color-text-on-default-background);\n",
       "  flex-grow: 1;\n",
       "}\n",
       "\n",
       "#sk-container-id-1 div.sk-parallel {\n",
       "  display: flex;\n",
       "  align-items: stretch;\n",
       "  justify-content: center;\n",
       "  background-color: var(--sklearn-color-background);\n",
       "  position: relative;\n",
       "}\n",
       "\n",
       "#sk-container-id-1 div.sk-parallel-item {\n",
       "  display: flex;\n",
       "  flex-direction: column;\n",
       "}\n",
       "\n",
       "#sk-container-id-1 div.sk-parallel-item:first-child::after {\n",
       "  align-self: flex-end;\n",
       "  width: 50%;\n",
       "}\n",
       "\n",
       "#sk-container-id-1 div.sk-parallel-item:last-child::after {\n",
       "  align-self: flex-start;\n",
       "  width: 50%;\n",
       "}\n",
       "\n",
       "#sk-container-id-1 div.sk-parallel-item:only-child::after {\n",
       "  width: 0;\n",
       "}\n",
       "\n",
       "/* Serial-specific style estimator block */\n",
       "\n",
       "#sk-container-id-1 div.sk-serial {\n",
       "  display: flex;\n",
       "  flex-direction: column;\n",
       "  align-items: center;\n",
       "  background-color: var(--sklearn-color-background);\n",
       "  padding-right: 1em;\n",
       "  padding-left: 1em;\n",
       "}\n",
       "\n",
       "\n",
       "/* Toggleable style: style used for estimator/Pipeline/ColumnTransformer box that is\n",
       "clickable and can be expanded/collapsed.\n",
       "- Pipeline and ColumnTransformer use this feature and define the default style\n",
       "- Estimators will overwrite some part of the style using the `sk-estimator` class\n",
       "*/\n",
       "\n",
       "/* Pipeline and ColumnTransformer style (default) */\n",
       "\n",
       "#sk-container-id-1 div.sk-toggleable {\n",
       "  /* Default theme specific background. It is overwritten whether we have a\n",
       "  specific estimator or a Pipeline/ColumnTransformer */\n",
       "  background-color: var(--sklearn-color-background);\n",
       "}\n",
       "\n",
       "/* Toggleable label */\n",
       "#sk-container-id-1 label.sk-toggleable__label {\n",
       "  cursor: pointer;\n",
       "  display: block;\n",
       "  width: 100%;\n",
       "  margin-bottom: 0;\n",
       "  padding: 0.5em;\n",
       "  box-sizing: border-box;\n",
       "  text-align: center;\n",
       "}\n",
       "\n",
       "#sk-container-id-1 label.sk-toggleable__label-arrow:before {\n",
       "  /* Arrow on the left of the label */\n",
       "  content: \"▸\";\n",
       "  float: left;\n",
       "  margin-right: 0.25em;\n",
       "  color: var(--sklearn-color-icon);\n",
       "}\n",
       "\n",
       "#sk-container-id-1 label.sk-toggleable__label-arrow:hover:before {\n",
       "  color: var(--sklearn-color-text);\n",
       "}\n",
       "\n",
       "/* Toggleable content - dropdown */\n",
       "\n",
       "#sk-container-id-1 div.sk-toggleable__content {\n",
       "  max-height: 0;\n",
       "  max-width: 0;\n",
       "  overflow: hidden;\n",
       "  text-align: left;\n",
       "  /* unfitted */\n",
       "  background-color: var(--sklearn-color-unfitted-level-0);\n",
       "}\n",
       "\n",
       "#sk-container-id-1 div.sk-toggleable__content.fitted {\n",
       "  /* fitted */\n",
       "  background-color: var(--sklearn-color-fitted-level-0);\n",
       "}\n",
       "\n",
       "#sk-container-id-1 div.sk-toggleable__content pre {\n",
       "  margin: 0.2em;\n",
       "  border-radius: 0.25em;\n",
       "  color: var(--sklearn-color-text);\n",
       "  /* unfitted */\n",
       "  background-color: var(--sklearn-color-unfitted-level-0);\n",
       "}\n",
       "\n",
       "#sk-container-id-1 div.sk-toggleable__content.fitted pre {\n",
       "  /* unfitted */\n",
       "  background-color: var(--sklearn-color-fitted-level-0);\n",
       "}\n",
       "\n",
       "#sk-container-id-1 input.sk-toggleable__control:checked~div.sk-toggleable__content {\n",
       "  /* Expand drop-down */\n",
       "  max-height: 200px;\n",
       "  max-width: 100%;\n",
       "  overflow: auto;\n",
       "}\n",
       "\n",
       "#sk-container-id-1 input.sk-toggleable__control:checked~label.sk-toggleable__label-arrow:before {\n",
       "  content: \"▾\";\n",
       "}\n",
       "\n",
       "/* Pipeline/ColumnTransformer-specific style */\n",
       "\n",
       "#sk-container-id-1 div.sk-label input.sk-toggleable__control:checked~label.sk-toggleable__label {\n",
       "  color: var(--sklearn-color-text);\n",
       "  background-color: var(--sklearn-color-unfitted-level-2);\n",
       "}\n",
       "\n",
       "#sk-container-id-1 div.sk-label.fitted input.sk-toggleable__control:checked~label.sk-toggleable__label {\n",
       "  background-color: var(--sklearn-color-fitted-level-2);\n",
       "}\n",
       "\n",
       "/* Estimator-specific style */\n",
       "\n",
       "/* Colorize estimator box */\n",
       "#sk-container-id-1 div.sk-estimator input.sk-toggleable__control:checked~label.sk-toggleable__label {\n",
       "  /* unfitted */\n",
       "  background-color: var(--sklearn-color-unfitted-level-2);\n",
       "}\n",
       "\n",
       "#sk-container-id-1 div.sk-estimator.fitted input.sk-toggleable__control:checked~label.sk-toggleable__label {\n",
       "  /* fitted */\n",
       "  background-color: var(--sklearn-color-fitted-level-2);\n",
       "}\n",
       "\n",
       "#sk-container-id-1 div.sk-label label.sk-toggleable__label,\n",
       "#sk-container-id-1 div.sk-label label {\n",
       "  /* The background is the default theme color */\n",
       "  color: var(--sklearn-color-text-on-default-background);\n",
       "}\n",
       "\n",
       "/* On hover, darken the color of the background */\n",
       "#sk-container-id-1 div.sk-label:hover label.sk-toggleable__label {\n",
       "  color: var(--sklearn-color-text);\n",
       "  background-color: var(--sklearn-color-unfitted-level-2);\n",
       "}\n",
       "\n",
       "/* Label box, darken color on hover, fitted */\n",
       "#sk-container-id-1 div.sk-label.fitted:hover label.sk-toggleable__label.fitted {\n",
       "  color: var(--sklearn-color-text);\n",
       "  background-color: var(--sklearn-color-fitted-level-2);\n",
       "}\n",
       "\n",
       "/* Estimator label */\n",
       "\n",
       "#sk-container-id-1 div.sk-label label {\n",
       "  font-family: monospace;\n",
       "  font-weight: bold;\n",
       "  display: inline-block;\n",
       "  line-height: 1.2em;\n",
       "}\n",
       "\n",
       "#sk-container-id-1 div.sk-label-container {\n",
       "  text-align: center;\n",
       "}\n",
       "\n",
       "/* Estimator-specific */\n",
       "#sk-container-id-1 div.sk-estimator {\n",
       "  font-family: monospace;\n",
       "  border: 1px dotted var(--sklearn-color-border-box);\n",
       "  border-radius: 0.25em;\n",
       "  box-sizing: border-box;\n",
       "  margin-bottom: 0.5em;\n",
       "  /* unfitted */\n",
       "  background-color: var(--sklearn-color-unfitted-level-0);\n",
       "}\n",
       "\n",
       "#sk-container-id-1 div.sk-estimator.fitted {\n",
       "  /* fitted */\n",
       "  background-color: var(--sklearn-color-fitted-level-0);\n",
       "}\n",
       "\n",
       "/* on hover */\n",
       "#sk-container-id-1 div.sk-estimator:hover {\n",
       "  /* unfitted */\n",
       "  background-color: var(--sklearn-color-unfitted-level-2);\n",
       "}\n",
       "\n",
       "#sk-container-id-1 div.sk-estimator.fitted:hover {\n",
       "  /* fitted */\n",
       "  background-color: var(--sklearn-color-fitted-level-2);\n",
       "}\n",
       "\n",
       "/* Specification for estimator info (e.g. \"i\" and \"?\") */\n",
       "\n",
       "/* Common style for \"i\" and \"?\" */\n",
       "\n",
       ".sk-estimator-doc-link,\n",
       "a:link.sk-estimator-doc-link,\n",
       "a:visited.sk-estimator-doc-link {\n",
       "  float: right;\n",
       "  font-size: smaller;\n",
       "  line-height: 1em;\n",
       "  font-family: monospace;\n",
       "  background-color: var(--sklearn-color-background);\n",
       "  border-radius: 1em;\n",
       "  height: 1em;\n",
       "  width: 1em;\n",
       "  text-decoration: none !important;\n",
       "  margin-left: 1ex;\n",
       "  /* unfitted */\n",
       "  border: var(--sklearn-color-unfitted-level-1) 1pt solid;\n",
       "  color: var(--sklearn-color-unfitted-level-1);\n",
       "}\n",
       "\n",
       ".sk-estimator-doc-link.fitted,\n",
       "a:link.sk-estimator-doc-link.fitted,\n",
       "a:visited.sk-estimator-doc-link.fitted {\n",
       "  /* fitted */\n",
       "  border: var(--sklearn-color-fitted-level-1) 1pt solid;\n",
       "  color: var(--sklearn-color-fitted-level-1);\n",
       "}\n",
       "\n",
       "/* On hover */\n",
       "div.sk-estimator:hover .sk-estimator-doc-link:hover,\n",
       ".sk-estimator-doc-link:hover,\n",
       "div.sk-label-container:hover .sk-estimator-doc-link:hover,\n",
       ".sk-estimator-doc-link:hover {\n",
       "  /* unfitted */\n",
       "  background-color: var(--sklearn-color-unfitted-level-3);\n",
       "  color: var(--sklearn-color-background);\n",
       "  text-decoration: none;\n",
       "}\n",
       "\n",
       "div.sk-estimator.fitted:hover .sk-estimator-doc-link.fitted:hover,\n",
       ".sk-estimator-doc-link.fitted:hover,\n",
       "div.sk-label-container:hover .sk-estimator-doc-link.fitted:hover,\n",
       ".sk-estimator-doc-link.fitted:hover {\n",
       "  /* fitted */\n",
       "  background-color: var(--sklearn-color-fitted-level-3);\n",
       "  color: var(--sklearn-color-background);\n",
       "  text-decoration: none;\n",
       "}\n",
       "\n",
       "/* Span, style for the box shown on hovering the info icon */\n",
       ".sk-estimator-doc-link span {\n",
       "  display: none;\n",
       "  z-index: 9999;\n",
       "  position: relative;\n",
       "  font-weight: normal;\n",
       "  right: .2ex;\n",
       "  padding: .5ex;\n",
       "  margin: .5ex;\n",
       "  width: min-content;\n",
       "  min-width: 20ex;\n",
       "  max-width: 50ex;\n",
       "  color: var(--sklearn-color-text);\n",
       "  box-shadow: 2pt 2pt 4pt #999;\n",
       "  /* unfitted */\n",
       "  background: var(--sklearn-color-unfitted-level-0);\n",
       "  border: .5pt solid var(--sklearn-color-unfitted-level-3);\n",
       "}\n",
       "\n",
       ".sk-estimator-doc-link.fitted span {\n",
       "  /* fitted */\n",
       "  background: var(--sklearn-color-fitted-level-0);\n",
       "  border: var(--sklearn-color-fitted-level-3);\n",
       "}\n",
       "\n",
       ".sk-estimator-doc-link:hover span {\n",
       "  display: block;\n",
       "}\n",
       "\n",
       "/* \"?\"-specific style due to the `<a>` HTML tag */\n",
       "\n",
       "#sk-container-id-1 a.estimator_doc_link {\n",
       "  float: right;\n",
       "  font-size: 1rem;\n",
       "  line-height: 1em;\n",
       "  font-family: monospace;\n",
       "  background-color: var(--sklearn-color-background);\n",
       "  border-radius: 1rem;\n",
       "  height: 1rem;\n",
       "  width: 1rem;\n",
       "  text-decoration: none;\n",
       "  /* unfitted */\n",
       "  color: var(--sklearn-color-unfitted-level-1);\n",
       "  border: var(--sklearn-color-unfitted-level-1) 1pt solid;\n",
       "}\n",
       "\n",
       "#sk-container-id-1 a.estimator_doc_link.fitted {\n",
       "  /* fitted */\n",
       "  border: var(--sklearn-color-fitted-level-1) 1pt solid;\n",
       "  color: var(--sklearn-color-fitted-level-1);\n",
       "}\n",
       "\n",
       "/* On hover */\n",
       "#sk-container-id-1 a.estimator_doc_link:hover {\n",
       "  /* unfitted */\n",
       "  background-color: var(--sklearn-color-unfitted-level-3);\n",
       "  color: var(--sklearn-color-background);\n",
       "  text-decoration: none;\n",
       "}\n",
       "\n",
       "#sk-container-id-1 a.estimator_doc_link.fitted:hover {\n",
       "  /* fitted */\n",
       "  background-color: var(--sklearn-color-fitted-level-3);\n",
       "}\n",
       "</style><div id=\"sk-container-id-1\" class=\"sk-top-container\"><div class=\"sk-text-repr-fallback\"><pre>DecisionTreeClassifier(max_depth=2)</pre><b>In a Jupyter environment, please rerun this cell to show the HTML representation or trust the notebook. <br />On GitHub, the HTML representation is unable to render, please try loading this page with nbviewer.org.</b></div><div class=\"sk-container\" hidden><div class=\"sk-item\"><div class=\"sk-estimator fitted sk-toggleable\"><input class=\"sk-toggleable__control sk-hidden--visually\" id=\"sk-estimator-id-1\" type=\"checkbox\" checked><label for=\"sk-estimator-id-1\" class=\"sk-toggleable__label fitted sk-toggleable__label-arrow fitted\">&nbsp;&nbsp;DecisionTreeClassifier<a class=\"sk-estimator-doc-link fitted\" rel=\"noreferrer\" target=\"_blank\" href=\"https://scikit-learn.org/1.4/modules/generated/sklearn.tree.DecisionTreeClassifier.html\">?<span>Documentation for DecisionTreeClassifier</span></a><span class=\"sk-estimator-doc-link fitted\">i<span>Fitted</span></span></label><div class=\"sk-toggleable__content fitted\"><pre>DecisionTreeClassifier(max_depth=2)</pre></div> </div></div></div></div>"
      ],
      "text/plain": [
       "DecisionTreeClassifier(max_depth=2)"
      ]
     },
     "execution_count": 122,
     "metadata": {},
     "output_type": "execute_result"
    }
   ],
   "source": [
    "X = df_ML.drop(columns=['Violent crime','Safe City'])\n",
    "Y = df_ML['Safe City']\n",
    "dt.fit(X,Y)"
   ]
  },
  {
   "cell_type": "code",
   "execution_count": 123,
   "metadata": {},
   "outputs": [
    {
     "data": {
      "image/png": "[encoded data removed]",
      "text/plain": [
       "<IPython.core.display.Image object>"
      ]
     },
     "execution_count": 123,
     "metadata": {},
     "output_type": "execute_result"
    }
   ],
   "source": [
    "# This code will visualize a decision tree dt, trained with the attributes in X and the class labels in Y\n",
    "dt_feature_names = list(X.columns)\n",
    "dt_target_names = [str(s) for s in Y.unique()]\n",
    "tree.export_graphviz(dt, out_file='tree.dot', \n",
    "    feature_names=dt_feature_names, class_names=dt_target_names, filled=True)\n",
    "graph = pydotplus.graph_from_dot_file('tree.dot')\n",
    "Image(graph.create_png())"
   ]
  },
  {
   "attachments": {},
   "cell_type": "markdown",
   "metadata": {},
   "source": [
    "#### Q6.1.2:  Conclusion:\n",
    "Node 1(the leftmost), For a city with Aggravated assault <= 290 and Robbery <= 220.5, then it is likely to be a Safe City\n",
    "\n",
    "Node 2(the 2nd from left), For a city with Aggravated assault <= 290 and Robbery > 220.5, then it is likely to be NOT a Safe City\n",
    "\n",
    "Node 3(the 2nd from right), For a city with Aggravated assault > 290 and Robbery <= 76, then it is likely to be a Safe City \n",
    "\n",
    "Node 4(the rightmost), For a city with Aggravated assault > 290 and Robbery > 76, then it is likely to be NOT a Safe City"
   ]
  },
  {
   "cell_type": "markdown",
   "metadata": {},
   "source": [
    "### Q6.2, Use two bar charts to prove the DecisionTree made a good choice on selecting those criterias. Provide a oneliner conclusion for each graph. (5 pts)\n",
    "\n",
    "Hint: Use discretization."
   ]
  },
  {
   "cell_type": "code",
   "execution_count": 126,
   "metadata": {},
   "outputs": [
    {
     "data": {
      "text/plain": [
       "7366"
      ]
     },
     "execution_count": 126,
     "metadata": {},
     "output_type": "execute_result"
    },
    {
     "data": {
      "text/plain": [
       "14834"
      ]
     },
     "execution_count": 126,
     "metadata": {},
     "output_type": "execute_result"
    }
   ],
   "source": [
    "df_ML.Robbery.max()\n",
    "df_ML['Aggravated assault'].max()"
   ]
  },
  {
   "cell_type": "markdown",
   "metadata": {},
   "source": [
    "#### Graph 1, Focus on  *Aggravated assult* only.  (2.5 pts)"
   ]
  },
  {
   "cell_type": "code",
   "execution_count": 128,
   "metadata": {},
   "outputs": [],
   "source": [
    "df_ML['Binned_Aggravated_assult'] = pd.cut(df_ML['Aggravated assault'],\\\n",
    "                        bins=[0,290,15000])"
   ]
  },
  {
   "cell_type": "code",
   "execution_count": 129,
   "metadata": {},
   "outputs": [
    {
     "data": {
      "text/plain": [
       "<seaborn.axisgrid.FacetGrid at 0x144ab1d00>"
      ]
     },
     "execution_count": 129,
     "metadata": {},
     "output_type": "execute_result"
    },
    {
     "data": {
      "image/png": "[encoded data removed]",
      "text/plain": [
       "<Figure size 511.111x500 with 1 Axes>"
      ]
     },
     "metadata": {},
     "output_type": "display_data"
    }
   ],
   "source": [
    "sns.catplot(x='Binned_Aggravated_assult',y='Safe City',data=df_ML,kind='bar')"
   ]
  },
  {
   "cell_type": "markdown",
   "metadata": {},
   "source": [
    "**Conclusion 1**: From above graph, we see if aggravated assault is lower than 290, then the chances of being a 'Safe City' is close to 100%. But if the number is higher than 290, then the chances of being a 'Safe City' is very low in single digit."
   ]
  },
  {
   "cell_type": "markdown",
   "metadata": {},
   "source": [
    "### Graph 2, Focus on *Robbery* only. (2.5 pts)"
   ]
  },
  {
   "cell_type": "code",
   "execution_count": 132,
   "metadata": {},
   "outputs": [],
   "source": [
    "df_ML['Binned_Robbery'] = pd.cut(df_ML['Robbery'], bins=[0,76,220.5,8000])"
   ]
  },
  {
   "cell_type": "code",
   "execution_count": 133,
   "metadata": {},
   "outputs": [
    {
     "data": {
      "text/plain": [
       "<seaborn.axisgrid.FacetGrid at 0x142dd2660>"
      ]
     },
     "execution_count": 133,
     "metadata": {},
     "output_type": "execute_result"
    },
    {
     "data": {
      "image/png": "[encoded data removed]",
      "text/plain": [
       "<Figure size 511.111x500 with 1 Axes>"
      ]
     },
     "metadata": {},
     "output_type": "display_data"
    }
   ],
   "source": [
    "sns.catplot(x='Binned_Robbery',y='Safe City',data=df_ML,kind='bar')"
   ]
  },
  {
   "cell_type": "markdown",
   "metadata": {},
   "source": [
    "**Conclusion 2:** From above graph, we can see if robbery number are lower than 76, then 100%  are 'Safe City'. If the robbery are from 76 to 220.5, then it is still about 70% chances are 'Safe City'. For robbery more than 220.5, then it has no chance of being a 'Safe City'."
   ]
  },
  {
   "cell_type": "code",
   "execution_count": null,
   "metadata": {},
   "outputs": [],
   "source": []
  }
 ],
 "metadata": {
  "kernelspec": {
   "display_name": "Python 3 (ipykernel)",
   "language": "python",
   "name": "python3"
  },
  "language_info": {
   "codemirror_mode": {
    "name": "ipython",
    "version": 3
   },
   "file_extension": ".py",
   "mimetype": "text/x-python",
   "name": "python",
   "nbconvert_exporter": "python",
   "pygments_lexer": "ipython3",
   "version": "3.12.2"
  }
 },
 "nbformat": 4,
 "nbformat_minor": 4
}
