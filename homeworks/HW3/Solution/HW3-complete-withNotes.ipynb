{
 "cells": [
  {
   "cell_type": "markdown",
   "metadata": {},
   "source": [
    "# HW3"
   ]
  },
  {
   "cell_type": "markdown",
   "metadata": {},
   "source": [
    "<b>Instructions:</b> Write your answers in the empty code cells below."
   ]
  },
  {
   "cell_type": "markdown",
   "metadata": {},
   "source": [
    "<b>Penalties:</b> You will incur penalties if:\n",
    "<ul>\n",
    "<li>Your code is wrong</li>\n",
    "<li>Your code does not work on different data</li>\n",
    "<li>You use for loops (unless explicitly permitted)</li>\n",
    "</ul>"
   ]
  },
  {
   "cell_type": "markdown",
   "metadata": {},
   "source": [
    "## Problem"
   ]
  },
  {
   "cell_type": "markdown",
   "metadata": {},
   "source": [
    "Start by executing the following code, which creates a Series object <b>stock</b> of share prices of Nvidia. "
   ]
  },
  {
   "cell_type": "code",
   "execution_count": 6,
   "metadata": {},
   "outputs": [],
   "source": [
    "import pandas as pd\n",
    "import numpy as np\n",
    "#data = pd.read_csv('NVDA.csv',index_col=0, parse_dates=True)\n",
    "data = pd.read_csv('NVDA.csv',index_col=0)\n",
    "data.index=data.index.astype('datetime64[ns]')\n",
    "\n",
    "stock = data['Close']"
   ]
  },
  {
   "cell_type": "code",
   "execution_count": 7,
   "metadata": {},
   "outputs": [],
   "source": [
    "# print all the outputs in a cell\n",
    "from IPython.core.interactiveshell import InteractiveShell\n",
    "InteractiveShell.ast_node_interactivity = \"all\""
   ]
  },
  {
   "cell_type": "code",
   "execution_count": 8,
   "metadata": {},
   "outputs": [],
   "source": [
    "# Set to 2 decimal places, and display all columns (and up to 300 rows)\n",
    "# pd.set_option('display.float_format', lambda x: '%.2f' % x)\n",
    "pd.set_option('display.max_columns', None)\n",
    "#pd.set_option('display.max_rows', 300)"
   ]
  },
  {
   "cell_type": "code",
   "execution_count": 9,
   "metadata": {},
   "outputs": [
    {
     "name": "stdout",
     "output_type": "stream",
     "text": [
      "%pylab is deprecated, use %matplotlib inline and import the required libraries.\n",
      "Populating the interactive namespace from numpy and matplotlib\n"
     ]
    },
    {
     "data": {
      "text/plain": [
       "<Axes: xlabel='Date'>"
      ]
     },
     "execution_count": 9,
     "metadata": {},
     "output_type": "execute_result"
    },
    {
     "data": {
      "image/png": "[encoded data removed]",
      "text/plain": [
       "<Figure size 640x480 with 1 Axes>"
      ]
     },
     "metadata": {},
     "output_type": "display_data"
    }
   ],
   "source": [
    "%pylab inline\n",
    "stock.plot()"
   ]
  },
  {
   "cell_type": "code",
   "execution_count": 10,
   "metadata": {},
   "outputs": [
    {
     "data": {
      "text/plain": [
       "Date\n",
       "1999-01-22    0.041016\n",
       "1999-01-25    0.045312\n",
       "1999-01-26    0.041797\n",
       "1999-01-27    0.041667\n",
       "1999-01-28    0.041536\n",
       "Name: Close, dtype: float64"
      ]
     },
     "execution_count": 10,
     "metadata": {},
     "output_type": "execute_result"
    },
    {
     "data": {
      "text/plain": [
       "Date\n",
       "2024-10-07    127.72\n",
       "2024-10-08    132.89\n",
       "2024-10-09    132.65\n",
       "2024-10-10    134.81\n",
       "2024-10-11    134.80\n",
       "Name: Close, dtype: float64"
      ]
     },
     "execution_count": 10,
     "metadata": {},
     "output_type": "execute_result"
    }
   ],
   "source": [
    "stock.head()\n",
    "stock.tail()"
   ]
  },
  {
   "cell_type": "markdown",
   "metadata": {},
   "source": [
    "Use the Series <i>stock</i> to answer the following questions."
   ]
  },
  {
   "cell_type": "markdown",
   "metadata": {},
   "source": [
    "## Question 1"
   ]
  },
  {
   "cell_type": "markdown",
   "metadata": {},
   "source": [
    "### Q1.1, When is the first date this stock closed at more than 33 dollars? (pick the closest date in Camino)"
   ]
  },
  {
   "cell_type": "code",
   "execution_count": 14,
   "metadata": {},
   "outputs": [
    {
     "data": {
      "text/plain": [
       "Timestamp('2021-11-29 00:00:00')"
      ]
     },
     "execution_count": 14,
     "metadata": {},
     "output_type": "execute_result"
    }
   ],
   "source": [
    "stock[stock.values > 33].index[0]"
   ]
  },
  {
   "cell_type": "markdown",
   "metadata": {},
   "source": [
    "### Q1.2, After stock price hit 33 dollar, how many trading days and how many calendar days it took to reach the same value? (pick the closest number of days in Camino)"
   ]
  },
  {
   "cell_type": "code",
   "execution_count": 16,
   "metadata": {},
   "outputs": [
    {
     "data": {
      "text/plain": [
       "Timestamp('2021-11-29 00:00:00')"
      ]
     },
     "execution_count": 16,
     "metadata": {},
     "output_type": "execute_result"
    }
   ],
   "source": [
    "FirstDay_hit33 = stock[stock.values >= 33].index[0]\n",
    "FirstDay_hit33"
   ]
  },
  {
   "cell_type": "code",
   "execution_count": 17,
   "metadata": {},
   "outputs": [
    {
     "data": {
      "text/plain": [
       "Timestamp('2023-05-25 00:00:00')"
      ]
     },
     "execution_count": 17,
     "metadata": {},
     "output_type": "execute_result"
    }
   ],
   "source": [
    "Date_hit_33_again = stock[stock.values >= 33].index[1]\n",
    "Date_hit_33_again"
   ]
  },
  {
   "cell_type": "code",
   "execution_count": 18,
   "metadata": {},
   "outputs": [
    {
     "data": {
      "text/plain": [
       "Date\n",
       "2021-11-29    33.376001\n",
       "Name: Close, dtype: float64"
      ]
     },
     "execution_count": 18,
     "metadata": {},
     "output_type": "execute_result"
    },
    {
     "data": {
      "text/plain": [
       "Date\n",
       "2023-05-25    37.979999\n",
       "Name: Close, dtype: float64"
      ]
     },
     "execution_count": 18,
     "metadata": {},
     "output_type": "execute_result"
    }
   ],
   "source": [
    "stock_33_33Again = stock[FirstDay_hit33 : Date_hit_33_again]\n",
    "stock_33_33Again.head(1)\n",
    "stock_33_33Again.tail(1)"
   ]
  },
  {
   "cell_type": "code",
   "execution_count": 19,
   "metadata": {},
   "outputs": [
    {
     "data": {
      "text/plain": [
       "375"
      ]
     },
     "execution_count": 19,
     "metadata": {},
     "output_type": "execute_result"
    }
   ],
   "source": [
    "#Trading days it took to hit that value again\n",
    "len(stock_33_33Again)"
   ]
  },
  {
   "cell_type": "code",
   "execution_count": 20,
   "metadata": {},
   "outputs": [
    {
     "data": {
      "text/plain": [
       "Timedelta('542 days 00:00:00')"
      ]
     },
     "execution_count": 20,
     "metadata": {},
     "output_type": "execute_result"
    }
   ],
   "source": [
    "#Calendar days it took to hit that value again\n",
    "Date_hit_33_again - FirstDay_hit33"
   ]
  },
  {
   "cell_type": "markdown",
   "metadata": {},
   "source": [
    "### Question 2"
   ]
  },
  {
   "cell_type": "markdown",
   "metadata": {},
   "source": [
    "### If we calculate the stock price based on 30 days rolling window. When is the first day the price hit over 80 ? (pick the closest date in Camino)"
   ]
  },
  {
   "cell_type": "code",
   "execution_count": 23,
   "metadata": {},
   "outputs": [],
   "source": [
    "rolling_30_mean = stock.rolling(30).mean()"
   ]
  },
  {
   "cell_type": "code",
   "execution_count": 24,
   "metadata": {},
   "outputs": [
    {
     "data": {
      "text/plain": [
       "Timestamp('2024-03-20 00:00:00')"
      ]
     },
     "execution_count": 24,
     "metadata": {},
     "output_type": "execute_result"
    }
   ],
   "source": [
    "rolling_30_mean[rolling_30_mean > 80].index[0]"
   ]
  },
  {
   "cell_type": "markdown",
   "metadata": {},
   "source": [
    "## Question 3"
   ]
  },
  {
   "cell_type": "markdown",
   "metadata": {},
   "source": [
    "###  With following investment strategy: buy on day 1(day x), sell on day 3(day x+2). If based on this strategy, what's the most dollars amount you can **lose** in one trading?  Also report the buying and selling date for that particular trade. ( pick the closest dollar amount it dropped in Camino)"
   ]
  },
  {
   "cell_type": "code",
   "execution_count": 27,
   "metadata": {},
   "outputs": [
    {
     "data": {
      "text/plain": [
       "Date\n",
       "1999-01-22    0.041016\n",
       "1999-01-25    0.045312\n",
       "1999-01-26    0.041797\n",
       "1999-01-27    0.041667\n",
       "1999-01-28    0.041536\n",
       "Name: Close, dtype: float64"
      ]
     },
     "execution_count": 27,
     "metadata": {},
     "output_type": "execute_result"
    },
    {
     "data": {
      "text/plain": [
       "Date\n",
       "1999-01-22    0.041797\n",
       "1999-01-25    0.041667\n",
       "1999-01-26    0.041536\n",
       "1999-01-27    0.039583\n",
       "1999-01-28    0.040365\n",
       "Name: Close, dtype: float64"
      ]
     },
     "execution_count": 27,
     "metadata": {},
     "output_type": "execute_result"
    }
   ],
   "source": [
    "stock.head()\n",
    "stock.shift(-2).head()"
   ]
  },
  {
   "cell_type": "code",
   "execution_count": 28,
   "metadata": {},
   "outputs": [
    {
     "data": {
      "text/plain": [
       "Date\n",
       "2024-08-30   -13.16\n",
       "2024-06-20   -12.67\n",
       "2024-08-27   -10.71\n",
       "2024-07-15   -10.45\n",
       "2024-07-23   -10.31\n",
       "Name: Close, dtype: float64"
      ]
     },
     "execution_count": 28,
     "metadata": {},
     "output_type": "execute_result"
    }
   ],
   "source": [
    "(stock.shift(-2) - stock).nsmallest()"
   ]
  },
  {
   "cell_type": "code",
   "execution_count": 29,
   "metadata": {},
   "outputs": [
    {
     "data": {
      "text/plain": [
       "-13.16000000000001"
      ]
     },
     "execution_count": 29,
     "metadata": {},
     "output_type": "execute_result"
    }
   ],
   "source": [
    "ThreeDays_drop_max = (stock.shift(-2) - stock).nsmallest(1).values[0]\n",
    "ThreeDays_drop_max"
   ]
  },
  {
   "cell_type": "code",
   "execution_count": 30,
   "metadata": {},
   "outputs": [
    {
     "data": {
      "text/plain": [
       "Timestamp('2024-08-30 00:00:00')"
      ]
     },
     "execution_count": 30,
     "metadata": {},
     "output_type": "execute_result"
    }
   ],
   "source": [
    "FirstDay = (stock.shift(-2)-stock).nsmallest(1).index[0]\n",
    "FirstDay"
   ]
  },
  {
   "cell_type": "code",
   "execution_count": 31,
   "metadata": {},
   "outputs": [
    {
     "data": {
      "text/plain": [
       "Date\n",
       "2024-08-30    119.37\n",
       "2024-09-03    108.00\n",
       "2024-09-04    106.21\n",
       "2024-09-05    107.21\n",
       "2024-09-06    102.83\n",
       "Name: Close, dtype: float64"
      ]
     },
     "execution_count": 31,
     "metadata": {},
     "output_type": "execute_result"
    }
   ],
   "source": [
    "stock[stock.index >= FirstDay].head()"
   ]
  },
  {
   "cell_type": "code",
   "execution_count": 32,
   "metadata": {},
   "outputs": [
    {
     "data": {
      "text/plain": [
       "Timestamp('2024-09-04 00:00:00')"
      ]
     },
     "execution_count": 32,
     "metadata": {},
     "output_type": "execute_result"
    }
   ],
   "source": [
    "ThirdDay = stock[stock.index >= FirstDay].index[2]\n",
    "ThirdDay"
   ]
  },
  {
   "cell_type": "code",
   "execution_count": 33,
   "metadata": {},
   "outputs": [
    {
     "name": "stdout",
     "output_type": "stream",
     "text": [
      "The buying date is 2024-08-30 00:00:00\n",
      "The selling date is 2024-09-04 00:00:00\n",
      "Total dollar lost is $13.16000000000001\n"
     ]
    }
   ],
   "source": [
    "print(\"The buying date is \" + str(FirstDay))\n",
    "print(\"The selling date is \" + str(ThirdDay) )\n",
    "print(\"Total dollar lost is $\" + str(abs(ThreeDays_drop_max)) )"
   ]
  },
  {
   "cell_type": "markdown",
   "metadata": {},
   "source": [
    "Manually verify the stock price close to those 3 days"
   ]
  },
  {
   "cell_type": "code",
   "execution_count": 35,
   "metadata": {},
   "outputs": [
    {
     "data": {
      "text/plain": [
       "Date\n",
       "2024-08-30    119.37\n",
       "2024-09-03    108.00\n",
       "2024-09-04    106.21\n",
       "Name: Close, dtype: float64"
      ]
     },
     "execution_count": 35,
     "metadata": {},
     "output_type": "execute_result"
    }
   ],
   "source": [
    "stock[FirstDay:ThirdDay]"
   ]
  },
  {
   "cell_type": "markdown",
   "metadata": {},
   "source": [
    "## Question 4"
   ]
  },
  {
   "cell_type": "markdown",
   "metadata": {},
   "source": [
    "### <b>Consider only the dates from 2020 till most recent</b>. In which day did we observe that the price has increased of more than 50% within the 20 preceding trading days? What's the date and what's the actual gain % ? (pls verify it)\n",
    "#### *Hint:* use a **rolling** minimum. Today + 19 more days -> use rolling(20). (pick the closest date that has the highest gain ratio in Camino) "
   ]
  },
  {
   "cell_type": "code",
   "execution_count": 38,
   "metadata": {},
   "outputs": [],
   "source": [
    "stock_2020_now = stock[stock.index >= '2020']"
   ]
  },
  {
   "cell_type": "code",
   "execution_count": 39,
   "metadata": {},
   "outputs": [
    {
     "data": {
      "text/plain": [
       "<Axes: xlabel='Date'>"
      ]
     },
     "execution_count": 39,
     "metadata": {},
     "output_type": "execute_result"
    },
    {
     "data": {
      "image/png": "[encoded data removed]",
      "text/plain": [
       "<Figure size 640x480 with 1 Axes>"
      ]
     },
     "metadata": {},
     "output_type": "display_data"
    }
   ],
   "source": [
    "stock_2020_now.plot()"
   ]
  },
  {
   "cell_type": "markdown",
   "metadata": {},
   "source": [
    "<div class=\"alert alert-block alert-success\"> Solution Note </div>"
   ]
  },
  {
   "cell_type": "markdown",
   "metadata": {},
   "source": [
    "**Solution Note:** Today + 19 more days -> use rolling(20).  Use stock.rolling(20).min() to find the lowest point within that 20 days windows(rol_min). Price increase is -> (everyday price - rol_min), for increase ratio, need to divided based on the lowest price so it is (everyday price - rol_min)/rol_min. \n",
    "\n",
    "Create a boolean mask which satisfy the 50% increase, then bring the boolean mask back to the increase % formula."
   ]
  },
  {
   "cell_type": "code",
   "execution_count": 42,
   "metadata": {},
   "outputs": [],
   "source": [
    "rol_min=stock_2020_now.rolling(20).min()"
   ]
  },
  {
   "cell_type": "code",
   "execution_count": 43,
   "metadata": {},
   "outputs": [],
   "source": [
    "gain_boolean_mask = ((stock_2020_now - rol_min)/rol_min) > 0.5"
   ]
  },
  {
   "cell_type": "code",
   "execution_count": 44,
   "metadata": {},
   "outputs": [
    {
     "data": {
      "text/plain": [
       "1"
      ]
     },
     "execution_count": 44,
     "metadata": {},
     "output_type": "execute_result"
    }
   ],
   "source": [
    "(gain_boolean_mask).sum()"
   ]
  },
  {
   "cell_type": "code",
   "execution_count": 45,
   "metadata": {},
   "outputs": [
    {
     "data": {
      "text/plain": [
       "Date\n",
       "2023-02-02    21.709\n",
       "Name: Close, dtype: float64"
      ]
     },
     "execution_count": 45,
     "metadata": {},
     "output_type": "execute_result"
    }
   ],
   "source": [
    "#the date the the value of this more than 50% gain happened\n",
    "stock_2020_now[gain_boolean_mask]"
   ]
  },
  {
   "cell_type": "code",
   "execution_count": 46,
   "metadata": {},
   "outputs": [
    {
     "data": {
      "text/plain": [
       "14.2649994"
      ]
     },
     "execution_count": 46,
     "metadata": {},
     "output_type": "execute_result"
    }
   ],
   "source": [
    "#the minimal value in that period of time\n",
    "rol_min[gain_boolean_mask].values[0]"
   ]
  },
  {
   "cell_type": "code",
   "execution_count": 47,
   "metadata": {},
   "outputs": [
    {
     "data": {
      "text/plain": [
       "Date\n",
       "2023-01-05    14.264999\n",
       "Name: Close, dtype: float64"
      ]
     },
     "execution_count": 47,
     "metadata": {},
     "output_type": "execute_result"
    }
   ],
   "source": [
    "# find the date has this value\n",
    "stock_2020_now[stock_2020_now == rol_min[gain_boolean_mask].values[0]]"
   ]
  },
  {
   "cell_type": "code",
   "execution_count": 48,
   "metadata": {},
   "outputs": [],
   "source": [
    "#verify\n",
    "stock_gain_50_percent = stock_2020_now[(stock_2020_now.index >='2023-01-05') & (stock_2020_now.index <= '2023-02-02')]"
   ]
  },
  {
   "cell_type": "code",
   "execution_count": 49,
   "metadata": {},
   "outputs": [
    {
     "data": {
      "text/plain": [
       "Date\n",
       "2023-01-05    14.264999\n",
       "2023-01-06    14.859000\n",
       "2023-01-09    15.628000\n",
       "2023-01-10    15.909000\n",
       "2023-01-11    16.000999\n",
       "2023-01-12    16.511000\n",
       "2023-01-13    16.899000\n",
       "2023-01-17    17.702000\n",
       "2023-01-18    17.377000\n",
       "2023-01-19    16.764999\n",
       "2023-01-20    17.839000\n",
       "2023-01-23    19.192999\n",
       "2023-01-24    19.264999\n",
       "2023-01-25    19.323000\n",
       "2023-01-26    19.802000\n",
       "2023-01-27    20.364999\n",
       "2023-01-30    19.162000\n",
       "2023-01-31    19.537000\n",
       "2023-02-01    20.942999\n",
       "2023-02-02    21.709000\n",
       "Name: Close, dtype: float64"
      ]
     },
     "execution_count": 49,
     "metadata": {},
     "output_type": "execute_result"
    }
   ],
   "source": [
    "stock_gain_50_percent"
   ]
  },
  {
   "cell_type": "code",
   "execution_count": 50,
   "metadata": {},
   "outputs": [
    {
     "data": {
      "text/plain": [
       "21.7089996"
      ]
     },
     "execution_count": 50,
     "metadata": {},
     "output_type": "execute_result"
    },
    {
     "data": {
      "text/plain": [
       "14.2649994"
      ]
     },
     "execution_count": 50,
     "metadata": {},
     "output_type": "execute_result"
    }
   ],
   "source": [
    "selling_price = stock_gain_50_percent.tail(1).values[0]\n",
    "selling_price\n",
    "buying_price = stock_gain_50_percent.head(1).values[0]\n",
    "buying_price"
   ]
  },
  {
   "cell_type": "code",
   "execution_count": 51,
   "metadata": {},
   "outputs": [
    {
     "data": {
      "text/plain": [
       "0.5218366991308809"
      ]
     },
     "execution_count": 51,
     "metadata": {},
     "output_type": "execute_result"
    }
   ],
   "source": [
    "profit_ratio = (selling_price - buying_price) / buying_price\n",
    "profit_ratio"
   ]
  },
  {
   "cell_type": "code",
   "execution_count": 52,
   "metadata": {},
   "outputs": [
    {
     "name": "stdout",
     "output_type": "stream",
     "text": [
      "If you buy on 2023-01-05 00:00:00\n",
      "\n",
      "and sell on 2023-02-02 00:00:00\n",
      "\n",
      "then you made 52.183669913088096% profit\n"
     ]
    }
   ],
   "source": [
    "print('If you buy on ' + str(stock_gain_50_percent.head(1).index[0]) + '\\n')\n",
    "print('and sell on ' + str(stock_gain_50_percent.tail(1).index[0]) + '\\n')\n",
    "print('then you made ' + str(profit_ratio * 100) + '%' + ' profit')"
   ]
  },
  {
   "cell_type": "markdown",
   "metadata": {},
   "source": [
    "## Question 5"
   ]
  },
  {
   "cell_type": "markdown",
   "metadata": {},
   "source": [
    "### <b>Consider only the dates from 2020 till most recent</b>. What was the **worst** possible \"buy&sell\" operation? Find the two days x and y so that the % loss resulting from buying in x and selling in y (with y after x) is maximized. Your code should work for any data. \n",
    "#### *Hint:* Use method cummax() or method cummin(). *Cummax/Cummin* returns the maximum/minimum value encountered so far. Make sure to return the trading days x and y, as well as the % loss resulting from buying in x and selling in y.\n",
    "\n",
    "#### (Fill in blank for the buying and selling dates in Camino with the format 'buying-date/selling-date' (for example, for example, 2021-01-01/2022-01-31)"
   ]
  },
  {
   "cell_type": "markdown",
   "metadata": {},
   "source": [
    "<div class=\"alert alert-block alert-success\"> Solution Note </div>"
   ]
  },
  {
   "cell_type": "markdown",
   "metadata": {},
   "source": [
    "**Solution Note** . Need to 'buy'(high) first, then 'sell'(low) later. High need to be historic high. .cummax will hold the highest price history, So the cummax will be the buying date and current be the selling date. When use .cummax, should be (cummax - current)/current if take .nlargest(1), then that's our selling date info."
   ]
  },
  {
   "cell_type": "markdown",
   "metadata": {},
   "source": [
    "### Use cummax()"
   ]
  },
  {
   "cell_type": "markdown",
   "metadata": {},
   "source": [
    "Need to buy high then sell low. Buy need to happen first. High need to be historic high, so use cummax() without flipping the date."
   ]
  },
  {
   "cell_type": "code",
   "execution_count": 59,
   "metadata": {},
   "outputs": [
    {
     "data": {
      "text/plain": [
       "Date\n",
       "2020-01-02    5.99775\n",
       "2020-01-03    5.90175\n",
       "2020-01-06    5.92650\n",
       "2020-01-07    5.99825\n",
       "2020-01-08    6.00950\n",
       "2020-01-09    6.07550\n",
       "2020-01-10    6.10800\n",
       "2020-01-13    6.29950\n",
       "2020-01-14    6.18200\n",
       "2020-01-15    6.13925\n",
       "Name: Close, dtype: float64"
      ]
     },
     "execution_count": 59,
     "metadata": {},
     "output_type": "execute_result"
    },
    {
     "data": {
      "text/plain": [
       "Date\n",
       "2020-01-02    5.99775\n",
       "2020-01-03    5.99775\n",
       "2020-01-06    5.99775\n",
       "2020-01-07    5.99825\n",
       "2020-01-08    6.00950\n",
       "2020-01-09    6.07550\n",
       "2020-01-10    6.10800\n",
       "2020-01-13    6.29950\n",
       "2020-01-14    6.29950\n",
       "2020-01-15    6.29950\n",
       "Name: Close, dtype: float64"
      ]
     },
     "execution_count": 59,
     "metadata": {},
     "output_type": "execute_result"
    }
   ],
   "source": [
    "stock_2020_now[:10]\n",
    "stock_2020_now.cummax()[:10]"
   ]
  },
  {
   "cell_type": "code",
   "execution_count": 60,
   "metadata": {},
   "outputs": [],
   "source": [
    "max_from_now = stock_2020_now.cummax()"
   ]
  },
  {
   "cell_type": "markdown",
   "metadata": {},
   "source": [
    "To get the selling date y1 .."
   ]
  },
  {
   "cell_type": "code",
   "execution_count": 62,
   "metadata": {},
   "outputs": [
    {
     "data": {
      "text/plain": [
       "Timestamp('2022-10-14 00:00:00')"
      ]
     },
     "execution_count": 62,
     "metadata": {},
     "output_type": "execute_result"
    }
   ],
   "source": [
    "y1 = ((max_from_now - stock_2020_now)/ stock_2020_now).nlargest(1).index[0]\n",
    "y1"
   ]
  },
  {
   "cell_type": "markdown",
   "metadata": {},
   "source": [
    "Or .."
   ]
  },
  {
   "cell_type": "code",
   "execution_count": 64,
   "metadata": {},
   "outputs": [
    {
     "data": {
      "text/plain": [
       "Timestamp('2022-10-14 00:00:00')"
      ]
     },
     "execution_count": 64,
     "metadata": {},
     "output_type": "execute_result"
    },
    {
     "data": {
      "text/plain": [
       "11.2269997"
      ]
     },
     "execution_count": 64,
     "metadata": {},
     "output_type": "execute_result"
    }
   ],
   "source": [
    "y1 = ((stock_2020_now - max_from_now)/ stock_2020_now).nsmallest(1).index[0]\n",
    "y1\n",
    "stock_2020_now[y1]"
   ]
  },
  {
   "cell_type": "markdown",
   "metadata": {},
   "source": [
    "To get the buying date x1 .."
   ]
  },
  {
   "cell_type": "code",
   "execution_count": 66,
   "metadata": {},
   "outputs": [
    {
     "data": {
      "text/plain": [
       "Timestamp('2021-11-29 00:00:00')"
      ]
     },
     "execution_count": 66,
     "metadata": {},
     "output_type": "execute_result"
    },
    {
     "data": {
      "text/plain": [
       "33.376001"
      ]
     },
     "execution_count": 66,
     "metadata": {},
     "output_type": "execute_result"
    }
   ],
   "source": [
    "x1 = stock_2020_now[stock_2020_now == max_from_now[y1]].index[0]\n",
    "x1\n",
    "stock_2020_now[x1]"
   ]
  },
  {
   "cell_type": "code",
   "execution_count": 67,
   "metadata": {},
   "outputs": [
    {
     "name": "stdout",
     "output_type": "stream",
     "text": [
      "The worst buy & sell combination is:\n",
      "\n",
      "First buy on 2021-11-29 00:00:00, when the price was 33.376001\n",
      "Then sell on 2022-10-14 00:00:00, when the price was 11.2269997\n",
      "The loss is 66.36205847429115%\n"
     ]
    }
   ],
   "source": [
    "print('The worst buy & sell combination is:\\n')\n",
    "print('First buy on ' + str(x1) +', when the price was ' + \n",
    "      str(stock_2020_now[x1]))\n",
    "print('Then sell on ' + str(y1) +', when the price was ' +\n",
    "      str(stock_2020_now[y1]))\n",
    "print('The loss is ' + str((stock_2020_now[x1] - stock_2020_now[y1]) * 100 / stock_2020_now[x1]) + \n",
    "      '%')"
   ]
  },
  {
   "cell_type": "markdown",
   "metadata": {},
   "source": [
    "### Use cummin()"
   ]
  },
  {
   "cell_type": "markdown",
   "metadata": {},
   "source": [
    "<div class=\"alert alert-block alert-success\"> Solution Note </div>"
   ]
  },
  {
   "cell_type": "markdown",
   "metadata": {},
   "source": [
    "**Solution Notes**: Buy high then sell low.\n",
    "If use .cummin(). Need to know lowest in the future, so need to flip the stock, most recent dated first. If don't flip, .cummin() will return the 'history' low, which is not helpful.\n",
    "\n",
    "After know the future low, so \"(current-future low)/current\" will be the delta, then take .nlargest(1), that will be our buying date. "
   ]
  },
  {
   "cell_type": "markdown",
   "metadata": {},
   "source": [
    "Sort from the last day to the first, and for each day compute cummin: in this way, for each trading day x we compute the minimum price on or after day x"
   ]
  },
  {
   "cell_type": "code",
   "execution_count": 72,
   "metadata": {},
   "outputs": [],
   "source": [
    "minimum_from_now_on = stock_2020_now.sort_index(ascending=False).cummin()"
   ]
  },
  {
   "cell_type": "code",
   "execution_count": 73,
   "metadata": {},
   "outputs": [
    {
     "data": {
      "text/plain": [
       "Date\n",
       "2024-10-11    134.80\n",
       "2024-10-10    134.81\n",
       "2024-10-09    132.65\n",
       "2024-10-08    132.89\n",
       "2024-10-07    127.72\n",
       "2024-10-04    124.92\n",
       "2024-10-03    122.85\n",
       "2024-10-02    118.85\n",
       "2024-10-01    117.00\n",
       "2024-09-30    121.44\n",
       "Name: Close, dtype: float64"
      ]
     },
     "execution_count": 73,
     "metadata": {},
     "output_type": "execute_result"
    }
   ],
   "source": [
    "stock_2020_now.sort_index(ascending=False)[:10]"
   ]
  },
  {
   "cell_type": "code",
   "execution_count": 74,
   "metadata": {},
   "outputs": [
    {
     "data": {
      "text/plain": [
       "Date\n",
       "2024-10-11    134.80\n",
       "2024-10-10    134.80\n",
       "2024-10-09    132.65\n",
       "2024-10-08    132.65\n",
       "2024-10-07    127.72\n",
       "2024-10-04    124.92\n",
       "2024-10-03    122.85\n",
       "2024-10-02    118.85\n",
       "2024-10-01    117.00\n",
       "2024-09-30    117.00\n",
       "Name: Close, dtype: float64"
      ]
     },
     "execution_count": 74,
     "metadata": {},
     "output_type": "execute_result"
    }
   ],
   "source": [
    "minimum_from_now_on[:10]"
   ]
  },
  {
   "cell_type": "markdown",
   "metadata": {},
   "source": [
    "Find the trading day x where buying in x and selling at the worst future day maximimizes the loss"
   ]
  },
  {
   "cell_type": "code",
   "execution_count": 76,
   "metadata": {},
   "outputs": [
    {
     "data": {
      "text/plain": [
       "Timestamp('2021-11-29 00:00:00')"
      ]
     },
     "execution_count": 76,
     "metadata": {},
     "output_type": "execute_result"
    },
    {
     "data": {
      "text/plain": [
       "33.376001"
      ]
     },
     "execution_count": 76,
     "metadata": {},
     "output_type": "execute_result"
    }
   ],
   "source": [
    "x = ((stock_2020_now - minimum_from_now_on) / stock_2020_now).nlargest(1).index[0]\n",
    "x\n",
    "stock_2020_now[x]"
   ]
  },
  {
   "cell_type": "markdown",
   "metadata": {},
   "source": [
    "Find the trading day y when to sell"
   ]
  },
  {
   "cell_type": "code",
   "execution_count": 78,
   "metadata": {},
   "outputs": [
    {
     "data": {
      "text/plain": [
       "Timestamp('2022-10-14 00:00:00')"
      ]
     },
     "execution_count": 78,
     "metadata": {},
     "output_type": "execute_result"
    },
    {
     "data": {
      "text/plain": [
       "11.2269997"
      ]
     },
     "execution_count": 78,
     "metadata": {},
     "output_type": "execute_result"
    }
   ],
   "source": [
    "y = stock_2020_now[stock_2020_now == minimum_from_now_on[x]].index[0]\n",
    "y\n",
    "stock_2020_now[y]"
   ]
  },
  {
   "cell_type": "code",
   "execution_count": 79,
   "metadata": {},
   "outputs": [
    {
     "name": "stdout",
     "output_type": "stream",
     "text": [
      "The worst buy & sell combination is:\n",
      "\n",
      "First buy on 2021-11-29 00:00:00, when the price was 33.376001\n",
      "Then sell on 2022-10-14 00:00:00, when the price was 11.2269997\n",
      "The loss is 66.36205847429115%\n"
     ]
    }
   ],
   "source": [
    "print('The worst buy & sell combination is:\\n')\n",
    "print('First buy on ' + str(x) +', when the price was ' + \n",
    "          str(stock[x]))\n",
    "print('Then sell on ' + str(y) +', when the price was ' + \n",
    "          str(stock[y]))\n",
    "print('The loss is ' + str((stock[x] - stock[y]) * 100 / stock[x]) + '%')"
   ]
  },
  {
   "cell_type": "code",
   "execution_count": null,
   "metadata": {},
   "outputs": [],
   "source": []
  }
 ],
 "metadata": {
  "kernelspec": {
   "display_name": "Python 3 (ipykernel)",
   "language": "python",
   "name": "python3"
  },
  "language_info": {
   "codemirror_mode": {
    "name": "ipython",
    "version": 3
   },
   "file_extension": ".py",
   "mimetype": "text/x-python",
   "name": "python",
   "nbconvert_exporter": "python",
   "pygments_lexer": "ipython3",
   "version": "3.12.2"
  }
 },
 "nbformat": 4,
 "nbformat_minor": 4
}
