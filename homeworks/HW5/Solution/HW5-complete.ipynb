{
 "cells": [
  {
   "cell_type": "markdown",
   "metadata": {},
   "source": [
    "# Data Analytics w/Python\n",
    "\n",
    "# HW5"
   ]
  },
  {
   "cell_type": "markdown",
   "metadata": {},
   "source": [
    "<b>Penalties:</b> You will incur penalties if:\n",
    "<ul>\n",
    "<li>Your code is wrong</li>\n",
    "<li>Your code would not work on different data</li>\n",
    "<li>Your code is unnecessarily slow (you use a for loop, or you use DataFrame.apply unnecessarily, etc)\n",
    "<li>You answer is composed of more than one output, unless explicitly permitted\n",
    "</ul>"
   ]
  },
  {
   "cell_type": "code",
   "execution_count": 1,
   "metadata": {},
   "outputs": [],
   "source": [
    "import pandas as pd\n",
    "import seaborn as sns\n",
    "import numpy as np\n",
    "import warnings\n",
    "warnings.filterwarnings('ignore')"
   ]
  },
  {
   "cell_type": "code",
   "execution_count": 2,
   "metadata": {},
   "outputs": [],
   "source": [
    "# print all the outputs in a cell\n",
    "from IPython.core.interactiveshell import InteractiveShell\n",
    "InteractiveShell.ast_node_interactivity = \"all\""
   ]
  },
  {
   "cell_type": "markdown",
   "metadata": {},
   "source": [
    "# Data Set Description"
   ]
  },
  {
   "cell_type": "markdown",
   "metadata": {},
   "source": [
    "## USA.gov Data from Bitly"
   ]
  },
  {
   "cell_type": "markdown",
   "metadata": {},
   "source": [
    "In 2011, URL shortening service Bitly *Bitly.com* partnered with the US goverment website *USA.gov* to provide a feed of anonymous data gathered from users who shorten links ending with *.gov* or *.mil*.  This service is shut down at 2017. "
   ]
  },
  {
   "cell_type": "markdown",
   "metadata": {},
   "source": [
    "In this database, each line contains a common form of web data known as **JSON**, which stands for *JavaScript Object Notation* . Python has both built-in and 3rd party libraries for converting a JSON string into a Python dictionary object. Then we can use *pd.DataFrame* convert dictionary object into Dataframe for our analysis."
   ]
  },
  {
   "cell_type": "markdown",
   "metadata": {},
   "source": [
    "each line has a number of identifying attributes.\n",
    "\n",
    "In [18]: records[0] <br>\n",
    "Out[18]: <br>\n",
    "{'a': 'Mozilla/5.0 (Windows NT 6.1; WOW64) AppleWebKit/535.11 (KHTML, like Gecko)\n",
    "Chrome/17.0.963.78 Safari/535.11', <br>\n",
    " 'al': 'en-US,en;q=0.8', <br>\n",
    " 'c': 'US',<br>\n",
    " 'cy': 'Danvers',<br>\n",
    " 'g': 'A6qOVH',<br>\n",
    " 'gr': 'MA',<br>\n",
    " 'h': 'wfLQtf',<br>\n",
    " 'hc': 1331822918,<br>\n",
    " 'hh': '1.usa.gov',<br>\n",
    " 'l': 'orofrog',<br>\n",
    " 'll': [42.576698, -70.954903],<br>\n",
    " 'nk': 1,<br>\n",
    " 'r': 'http://www.facebook.com/l/7AQEFzjSi/1.usa.gov/wfLQtf',<br>\n",
    " 't': 1331923247,<br>\n",
    " 'tz': 'America/New_York',<br>\n",
    " 'u': 'http://www.ncbi.nlm.nih.gov/pubmed/22415991'}<br>\n",
    " "
   ]
  },
  {
   "cell_type": "code",
   "execution_count": 10,
   "metadata": {},
   "outputs": [],
   "source": [
    "import json\n",
    "file_name = 'bitly_usagov_example.txt'\n",
    "records = [json.loads(line) for line in open(file_name)]"
   ]
  },
  {
   "cell_type": "code",
   "execution_count": 12,
   "metadata": {},
   "outputs": [
    {
     "data": {
      "text/plain": [
       "[{'a': 'Mozilla/5.0 (Windows NT 6.1; WOW64) AppleWebKit/535.11 (KHTML, like Gecko) Chrome/17.0.963.78 Safari/535.11',\n",
       "  'c': 'US',\n",
       "  'nk': 1,\n",
       "  'tz': 'America/New_York',\n",
       "  'gr': 'MA',\n",
       "  'g': 'A6qOVH',\n",
       "  'h': 'wfLQtf',\n",
       "  'l': 'orofrog',\n",
       "  'al': 'en-US,en;q=0.8',\n",
       "  'hh': '1.usa.gov',\n",
       "  'r': 'http://www.facebook.com/l/7AQEFzjSi/1.usa.gov/wfLQtf',\n",
       "  'u': 'http://www.ncbi.nlm.nih.gov/pubmed/22415991',\n",
       "  't': 1331923247,\n",
       "  'hc': 1331822918,\n",
       "  'cy': 'Danvers',\n",
       "  'll': [42.576698, -70.954903]},\n",
       " {'a': 'GoogleMaps/RochesterNY',\n",
       "  'c': 'US',\n",
       "  'nk': 0,\n",
       "  'tz': 'America/Denver',\n",
       "  'gr': 'UT',\n",
       "  'g': 'mwszkS',\n",
       "  'h': 'mwszkS',\n",
       "  'l': 'bitly',\n",
       "  'hh': 'j.mp',\n",
       "  'r': 'http://www.AwareMap.com/',\n",
       "  'u': 'http://www.monroecounty.gov/etc/911/rss.php',\n",
       "  't': 1331923249,\n",
       "  'hc': 1308262393,\n",
       "  'cy': 'Provo',\n",
       "  'll': [40.218102, -111.613297]}]"
      ]
     },
     "execution_count": 12,
     "metadata": {},
     "output_type": "execute_result"
    }
   ],
   "source": [
    "records[0:2]"
   ]
  },
  {
   "cell_type": "markdown",
   "metadata": {},
   "source": [
    "* **a**: info. about browser, device or application used to perform the URL shortening. \n",
    "* **c**: country\n",
    "* **cy**: city\n",
    "* **gr**: state\n",
    "* **ll**: longitude and latitude\n",
    "* **tz**: TimeZone\n",
    "* **u**: original URL being shorted"
   ]
  },
  {
   "cell_type": "code",
   "execution_count": 15,
   "metadata": {},
   "outputs": [
    {
     "data": {
      "text/plain": [
       "list"
      ]
     },
     "execution_count": 15,
     "metadata": {},
     "output_type": "execute_result"
    }
   ],
   "source": [
    "type(records)"
   ]
  },
  {
   "cell_type": "code",
   "execution_count": 17,
   "metadata": {},
   "outputs": [
    {
     "data": {
      "text/plain": [
       "dict"
      ]
     },
     "execution_count": 17,
     "metadata": {},
     "output_type": "execute_result"
    }
   ],
   "source": [
    "type(records[0])"
   ]
  },
  {
   "cell_type": "markdown",
   "metadata": {},
   "source": [
    "## Convert this dictionary *records* into DataFrame. (find out which method to use yourself)"
   ]
  },
  {
   "cell_type": "code",
   "execution_count": 20,
   "metadata": {},
   "outputs": [],
   "source": [
    "df = pd.DataFrame.from_dict(records)"
   ]
  },
  {
   "cell_type": "code",
   "execution_count": 22,
   "metadata": {},
   "outputs": [
    {
     "data": {
      "text/html": [
       "<div>\n",
       "<style scoped>\n",
       "    .dataframe tbody tr th:only-of-type {\n",
       "        vertical-align: middle;\n",
       "    }\n",
       "\n",
       "    .dataframe tbody tr th {\n",
       "        vertical-align: top;\n",
       "    }\n",
       "\n",
       "    .dataframe thead th {\n",
       "        text-align: right;\n",
       "    }\n",
       "</style>\n",
       "<table border=\"1\" class=\"dataframe\">\n",
       "  <thead>\n",
       "    <tr style=\"text-align: right;\">\n",
       "      <th></th>\n",
       "      <th>a</th>\n",
       "      <th>c</th>\n",
       "      <th>nk</th>\n",
       "      <th>tz</th>\n",
       "      <th>gr</th>\n",
       "      <th>g</th>\n",
       "      <th>h</th>\n",
       "      <th>l</th>\n",
       "      <th>al</th>\n",
       "      <th>hh</th>\n",
       "      <th>r</th>\n",
       "      <th>u</th>\n",
       "      <th>t</th>\n",
       "      <th>hc</th>\n",
       "      <th>cy</th>\n",
       "      <th>ll</th>\n",
       "      <th>_heartbeat_</th>\n",
       "      <th>kw</th>\n",
       "    </tr>\n",
       "  </thead>\n",
       "  <tbody>\n",
       "    <tr>\n",
       "      <th>0</th>\n",
       "      <td>Mozilla/5.0 (Windows NT 6.1; WOW64) AppleWebKi...</td>\n",
       "      <td>US</td>\n",
       "      <td>1.0</td>\n",
       "      <td>America/New_York</td>\n",
       "      <td>MA</td>\n",
       "      <td>A6qOVH</td>\n",
       "      <td>wfLQtf</td>\n",
       "      <td>orofrog</td>\n",
       "      <td>en-US,en;q=0.8</td>\n",
       "      <td>1.usa.gov</td>\n",
       "      <td>http://www.facebook.com/l/7AQEFzjSi/1.usa.gov/...</td>\n",
       "      <td>http://www.ncbi.nlm.nih.gov/pubmed/22415991</td>\n",
       "      <td>1.331923e+09</td>\n",
       "      <td>1.331823e+09</td>\n",
       "      <td>Danvers</td>\n",
       "      <td>[42.576698, -70.954903]</td>\n",
       "      <td>NaN</td>\n",
       "      <td>NaN</td>\n",
       "    </tr>\n",
       "    <tr>\n",
       "      <th>1</th>\n",
       "      <td>GoogleMaps/RochesterNY</td>\n",
       "      <td>US</td>\n",
       "      <td>0.0</td>\n",
       "      <td>America/Denver</td>\n",
       "      <td>UT</td>\n",
       "      <td>mwszkS</td>\n",
       "      <td>mwszkS</td>\n",
       "      <td>bitly</td>\n",
       "      <td>NaN</td>\n",
       "      <td>j.mp</td>\n",
       "      <td>http://www.AwareMap.com/</td>\n",
       "      <td>http://www.monroecounty.gov/etc/911/rss.php</td>\n",
       "      <td>1.331923e+09</td>\n",
       "      <td>1.308262e+09</td>\n",
       "      <td>Provo</td>\n",
       "      <td>[40.218102, -111.613297]</td>\n",
       "      <td>NaN</td>\n",
       "      <td>NaN</td>\n",
       "    </tr>\n",
       "    <tr>\n",
       "      <th>2</th>\n",
       "      <td>Mozilla/4.0 (compatible; MSIE 8.0; Windows NT ...</td>\n",
       "      <td>US</td>\n",
       "      <td>1.0</td>\n",
       "      <td>America/New_York</td>\n",
       "      <td>DC</td>\n",
       "      <td>xxr3Qb</td>\n",
       "      <td>xxr3Qb</td>\n",
       "      <td>bitly</td>\n",
       "      <td>en-US</td>\n",
       "      <td>1.usa.gov</td>\n",
       "      <td>http://t.co/03elZC4Q</td>\n",
       "      <td>http://boxer.senate.gov/en/press/releases/0316...</td>\n",
       "      <td>1.331923e+09</td>\n",
       "      <td>1.331920e+09</td>\n",
       "      <td>Washington</td>\n",
       "      <td>[38.9007, -77.043098]</td>\n",
       "      <td>NaN</td>\n",
       "      <td>NaN</td>\n",
       "    </tr>\n",
       "    <tr>\n",
       "      <th>3</th>\n",
       "      <td>Mozilla/5.0 (Macintosh; Intel Mac OS X 10_6_8)...</td>\n",
       "      <td>BR</td>\n",
       "      <td>0.0</td>\n",
       "      <td>America/Sao_Paulo</td>\n",
       "      <td>27</td>\n",
       "      <td>zCaLwp</td>\n",
       "      <td>zUtuOu</td>\n",
       "      <td>alelex88</td>\n",
       "      <td>pt-br</td>\n",
       "      <td>1.usa.gov</td>\n",
       "      <td>direct</td>\n",
       "      <td>http://apod.nasa.gov/apod/ap120312.html</td>\n",
       "      <td>1.331923e+09</td>\n",
       "      <td>1.331923e+09</td>\n",
       "      <td>Braz</td>\n",
       "      <td>[-23.549999, -46.616699]</td>\n",
       "      <td>NaN</td>\n",
       "      <td>NaN</td>\n",
       "    </tr>\n",
       "    <tr>\n",
       "      <th>4</th>\n",
       "      <td>Mozilla/5.0 (Windows NT 6.1; WOW64) AppleWebKi...</td>\n",
       "      <td>US</td>\n",
       "      <td>0.0</td>\n",
       "      <td>America/New_York</td>\n",
       "      <td>MA</td>\n",
       "      <td>9b6kNl</td>\n",
       "      <td>9b6kNl</td>\n",
       "      <td>bitly</td>\n",
       "      <td>en-US,en;q=0.8</td>\n",
       "      <td>bit.ly</td>\n",
       "      <td>http://www.shrewsbury-ma.gov/selco/</td>\n",
       "      <td>http://www.shrewsbury-ma.gov/egov/gallery/1341...</td>\n",
       "      <td>1.331923e+09</td>\n",
       "      <td>1.273672e+09</td>\n",
       "      <td>Shrewsbury</td>\n",
       "      <td>[42.286499, -71.714699]</td>\n",
       "      <td>NaN</td>\n",
       "      <td>NaN</td>\n",
       "    </tr>\n",
       "  </tbody>\n",
       "</table>\n",
       "</div>"
      ],
      "text/plain": [
       "                                                   a   c   nk  \\\n",
       "0  Mozilla/5.0 (Windows NT 6.1; WOW64) AppleWebKi...  US  1.0   \n",
       "1                             GoogleMaps/RochesterNY  US  0.0   \n",
       "2  Mozilla/4.0 (compatible; MSIE 8.0; Windows NT ...  US  1.0   \n",
       "3  Mozilla/5.0 (Macintosh; Intel Mac OS X 10_6_8)...  BR  0.0   \n",
       "4  Mozilla/5.0 (Windows NT 6.1; WOW64) AppleWebKi...  US  0.0   \n",
       "\n",
       "                  tz  gr       g       h         l              al         hh  \\\n",
       "0   America/New_York  MA  A6qOVH  wfLQtf   orofrog  en-US,en;q=0.8  1.usa.gov   \n",
       "1     America/Denver  UT  mwszkS  mwszkS     bitly             NaN       j.mp   \n",
       "2   America/New_York  DC  xxr3Qb  xxr3Qb     bitly           en-US  1.usa.gov   \n",
       "3  America/Sao_Paulo  27  zCaLwp  zUtuOu  alelex88           pt-br  1.usa.gov   \n",
       "4   America/New_York  MA  9b6kNl  9b6kNl     bitly  en-US,en;q=0.8     bit.ly   \n",
       "\n",
       "                                                   r  \\\n",
       "0  http://www.facebook.com/l/7AQEFzjSi/1.usa.gov/...   \n",
       "1                           http://www.AwareMap.com/   \n",
       "2                               http://t.co/03elZC4Q   \n",
       "3                                             direct   \n",
       "4                http://www.shrewsbury-ma.gov/selco/   \n",
       "\n",
       "                                                   u             t  \\\n",
       "0        http://www.ncbi.nlm.nih.gov/pubmed/22415991  1.331923e+09   \n",
       "1        http://www.monroecounty.gov/etc/911/rss.php  1.331923e+09   \n",
       "2  http://boxer.senate.gov/en/press/releases/0316...  1.331923e+09   \n",
       "3            http://apod.nasa.gov/apod/ap120312.html  1.331923e+09   \n",
       "4  http://www.shrewsbury-ma.gov/egov/gallery/1341...  1.331923e+09   \n",
       "\n",
       "             hc          cy                        ll  _heartbeat_   kw  \n",
       "0  1.331823e+09     Danvers   [42.576698, -70.954903]          NaN  NaN  \n",
       "1  1.308262e+09       Provo  [40.218102, -111.613297]          NaN  NaN  \n",
       "2  1.331920e+09  Washington     [38.9007, -77.043098]          NaN  NaN  \n",
       "3  1.331923e+09        Braz  [-23.549999, -46.616699]          NaN  NaN  \n",
       "4  1.273672e+09  Shrewsbury   [42.286499, -71.714699]          NaN  NaN  "
      ]
     },
     "execution_count": 22,
     "metadata": {},
     "output_type": "execute_result"
    }
   ],
   "source": [
    "df.head()"
   ]
  },
  {
   "cell_type": "markdown",
   "metadata": {},
   "source": [
    "### Q1.1,   How many records are in the Dataframe? (In Camino, pick the right number)"
   ]
  },
  {
   "cell_type": "code",
   "execution_count": 25,
   "metadata": {},
   "outputs": [
    {
     "data": {
      "text/plain": [
       "3560"
      ]
     },
     "execution_count": 25,
     "metadata": {},
     "output_type": "execute_result"
    }
   ],
   "source": [
    "len(df)"
   ]
  },
  {
   "cell_type": "markdown",
   "metadata": {},
   "source": [
    "### Q1.2,   In column city('cy'), how many records are Nan? (In Camino, pick the right number)"
   ]
  },
  {
   "cell_type": "code",
   "execution_count": 28,
   "metadata": {},
   "outputs": [
    {
     "data": {
      "text/plain": [
       "641"
      ]
     },
     "execution_count": 28,
     "metadata": {},
     "output_type": "execute_result"
    }
   ],
   "source": [
    "len(df[df.cy.isna()])"
   ]
  },
  {
   "cell_type": "markdown",
   "metadata": {},
   "source": [
    "### Q1.3,   Exclude Nan, how many different countries this dataset include?  (In Camino, pick the right number)"
   ]
  },
  {
   "cell_type": "markdown",
   "metadata": {},
   "source": [
    "If include Nan or nan:"
   ]
  },
  {
   "cell_type": "code",
   "execution_count": 32,
   "metadata": {},
   "outputs": [
    {
     "data": {
      "text/plain": [
       "array(['US', 'BR', 'PL', None, nan, 'HK', 'IT', 'ES', 'MY', 'CY', 'GB',\n",
       "       'MT', 'PT', 'FR', 'DK', 'MX', 'IE', 'BE', 'CA', 'NL', 'CZ', 'SE',\n",
       "       'TH', 'DE', 'HU', 'JP', 'AT', 'IL', 'PK', 'CO', 'IN', 'MK', 'LB',\n",
       "       'AU', 'CL', 'SK', 'EG', 'TR', 'RU', 'BG', 'SI', 'FI', 'RO', 'CH',\n",
       "       'PR', 'GR', 'LV', 'AR', 'AE', 'NO', 'PH', 'VE', 'SA', 'UY', 'KR',\n",
       "       'UA', 'RS', 'CR', 'PE', 'ID', 'LT', 'NI', 'ZM', 'EC', 'CN', 'JO',\n",
       "       'ZA', 'KN', 'NZ', 'DO', 'BO', 'MA', 'HN'], dtype=object)"
      ]
     },
     "execution_count": 32,
     "metadata": {},
     "output_type": "execute_result"
    }
   ],
   "source": [
    "df.c.unique()"
   ]
  },
  {
   "cell_type": "code",
   "execution_count": 34,
   "metadata": {},
   "outputs": [
    {
     "data": {
      "text/plain": [
       "73"
      ]
     },
     "execution_count": 34,
     "metadata": {},
     "output_type": "execute_result"
    }
   ],
   "source": [
    "len(df.c.unique())"
   ]
  },
  {
   "cell_type": "markdown",
   "metadata": {},
   "source": [
    "First need to exclude country with Nan :"
   ]
  },
  {
   "cell_type": "code",
   "execution_count": 37,
   "metadata": {},
   "outputs": [
    {
     "data": {
      "text/plain": [
       "array(['US', 'BR', 'PL', 'HK', 'IT', 'ES', 'MY', 'CY', 'GB', 'MT', 'PT',\n",
       "       'FR', 'DK', 'MX', 'IE', 'BE', 'CA', 'NL', 'CZ', 'SE', 'TH', 'DE',\n",
       "       'HU', 'JP', 'AT', 'IL', 'PK', 'CO', 'IN', 'MK', 'LB', 'AU', 'CL',\n",
       "       'SK', 'EG', 'TR', 'RU', 'BG', 'SI', 'FI', 'RO', 'CH', 'PR', 'GR',\n",
       "       'LV', 'AR', 'AE', 'NO', 'PH', 'VE', 'SA', 'UY', 'KR', 'UA', 'RS',\n",
       "       'CR', 'PE', 'ID', 'LT', 'NI', 'ZM', 'EC', 'CN', 'JO', 'ZA', 'KN',\n",
       "       'NZ', 'DO', 'BO', 'MA', 'HN'], dtype=object)"
      ]
     },
     "execution_count": 37,
     "metadata": {},
     "output_type": "execute_result"
    }
   ],
   "source": [
    "df[df.c.notna()].c.unique()"
   ]
  },
  {
   "cell_type": "code",
   "execution_count": 39,
   "metadata": {},
   "outputs": [
    {
     "data": {
      "text/plain": [
       "71"
      ]
     },
     "execution_count": 39,
     "metadata": {},
     "output_type": "execute_result"
    }
   ],
   "source": [
    "len(df[df.c.notna()].c.unique())"
   ]
  },
  {
   "cell_type": "markdown",
   "metadata": {},
   "source": [
    "### Q1.4, Outside of US, what's the top 5 cities use this Bitly service? (In Camino, choose the  city name with the most usage)"
   ]
  },
  {
   "cell_type": "code",
   "execution_count": 42,
   "metadata": {
    "scrolled": true
   },
   "outputs": [
    {
     "data": {
      "text/plain": [
       "cy\n",
       "Nogata    29\n",
       "London    16\n",
       "Madrid    13\n",
       "Mexico    12\n",
       "SPaulo    11\n",
       "dtype: int64"
      ]
     },
     "execution_count": 42,
     "metadata": {},
     "output_type": "execute_result"
    }
   ],
   "source": [
    "df[df.c!='US'].groupby('cy').size().nlargest()"
   ]
  },
  {
   "cell_type": "markdown",
   "metadata": {},
   "source": [
    "## Q2"
   ]
  },
  {
   "cell_type": "markdown",
   "metadata": {},
   "source": [
    "### Q2.1, How many records are from Russia?  (In Camino, pick the right number)"
   ]
  },
  {
   "cell_type": "code",
   "execution_count": 46,
   "metadata": {},
   "outputs": [
    {
     "data": {
      "text/plain": [
       "13"
      ]
     },
     "execution_count": 46,
     "metadata": {},
     "output_type": "execute_result"
    }
   ],
   "source": [
    "df_RU =df[df.c=='RU']\n",
    "len(df_RU)"
   ]
  },
  {
   "cell_type": "markdown",
   "metadata": {},
   "source": [
    "### Q2.2, In those records, which city has the highest usage count ?  (In Camino, pick the right city name)"
   ]
  },
  {
   "cell_type": "code",
   "execution_count": 49,
   "metadata": {},
   "outputs": [
    {
     "data": {
      "text/plain": [
       "cy\n",
       "Kirov               1\n",
       "Krasnodar           1\n",
       "Moscow              8\n",
       "Novosibirsk         1\n",
       "Saint Petersburg    2\n",
       "dtype: int64"
      ]
     },
     "execution_count": 49,
     "metadata": {},
     "output_type": "execute_result"
    }
   ],
   "source": [
    "df_RU.groupby('cy').size()"
   ]
  },
  {
   "cell_type": "code",
   "execution_count": 51,
   "metadata": {},
   "outputs": [
    {
     "data": {
      "text/plain": [
       "'Moscow'"
      ]
     },
     "execution_count": 51,
     "metadata": {},
     "output_type": "execute_result"
    }
   ],
   "source": [
    "df_RU.groupby('cy').size().idxmax()"
   ]
  },
  {
   "cell_type": "markdown",
   "metadata": {},
   "source": [
    "### Q2.3, In those records, how many access to cia.gov  (In Camino, pick the right number) "
   ]
  },
  {
   "cell_type": "code",
   "execution_count": 54,
   "metadata": {
    "scrolled": true
   },
   "outputs": [
    {
     "data": {
      "text/plain": [
       "498     http://www.nasa.gov/multimedia/imagegallery/im...\n",
       "555     http://www.nasa.gov/mission_pages/nustar/main/...\n",
       "764     https://www.cia.gov/library/publications/world...\n",
       "777                          http://www.nps.gov/getaways/\n",
       "1137    http://www.nasa.gov/mission_pages/nustar/main/...\n",
       "1239    http://www.state.gov/r/pa/ei/bgn?utm_source=tw...\n",
       "2637    http://www.nasa.gov/multimedia/imagegallery/im...\n",
       "2998    http://www.nasa.gov/mission_pages/nustar/main/...\n",
       "3033    http://www.nasa.gov/mission_pages/nustar/main/...\n",
       "3117    http://www.nasa.gov/mission_pages/station/mult...\n",
       "3159    http://www.nasa.gov/home/hqnews/2012/mar/HQ_M1...\n",
       "3360    http://www.dol.gov/opa/media/press/ofccp/OFCCP...\n",
       "3463    https://www.cia.gov/library/publications/the-w...\n",
       "Name: u, dtype: object"
      ]
     },
     "execution_count": 54,
     "metadata": {},
     "output_type": "execute_result"
    }
   ],
   "source": [
    "df_RU.u"
   ]
  },
  {
   "cell_type": "code",
   "execution_count": 56,
   "metadata": {
    "scrolled": true
   },
   "outputs": [
    {
     "data": {
      "text/plain": [
       "2"
      ]
     },
     "execution_count": 56,
     "metadata": {},
     "output_type": "execute_result"
    }
   ],
   "source": [
    "(df_RU.u.str.contains('cia.gov')).sum()"
   ]
  },
  {
   "cell_type": "code",
   "execution_count": 58,
   "metadata": {
    "scrolled": true
   },
   "outputs": [
    {
     "data": {
      "text/plain": [
       "764     https://www.cia.gov/library/publications/world...\n",
       "3463    https://www.cia.gov/library/publications/the-w...\n",
       "Name: u, dtype: object"
      ]
     },
     "execution_count": 58,
     "metadata": {},
     "output_type": "execute_result"
    }
   ],
   "source": [
    "df_RU[df_RU.u.str.contains('cia.gov')].u"
   ]
  },
  {
   "cell_type": "markdown",
   "metadata": {},
   "source": [
    "## Q3 We are interested in time zones in this data set (the **tz** field). "
   ]
  },
  {
   "cell_type": "markdown",
   "metadata": {},
   "source": [
    "### Q3.1, Let's clean the tz field. If it is empty, filled with 'Unknown'. If it is NaN, filled with 'Missing'.  After cleaning, how many tz field are in 'Missing' state and how many are in 'Unknown' state?  (In Camino, fill in these two numbers in the format of 'Missing'/'Unknown')"
   ]
  },
  {
   "cell_type": "code",
   "execution_count": 62,
   "metadata": {},
   "outputs": [
    {
     "data": {
      "text/plain": [
       "0     America/New_York\n",
       "1       America/Denver\n",
       "2     America/New_York\n",
       "3    America/Sao_Paulo\n",
       "4     America/New_York\n",
       "Name: tz, dtype: object"
      ]
     },
     "execution_count": 62,
     "metadata": {},
     "output_type": "execute_result"
    }
   ],
   "source": [
    "df.tz.head()"
   ]
  },
  {
   "cell_type": "code",
   "execution_count": 64,
   "metadata": {},
   "outputs": [],
   "source": [
    "df.tz.fillna(value='Missing',inplace=True)"
   ]
  },
  {
   "cell_type": "code",
   "execution_count": 66,
   "metadata": {},
   "outputs": [
    {
     "data": {
      "text/plain": [
       "120"
      ]
     },
     "execution_count": 66,
     "metadata": {},
     "output_type": "execute_result"
    }
   ],
   "source": [
    "Missing_count = (df.tz=='Missing').sum()\n",
    "Missing_count"
   ]
  },
  {
   "cell_type": "code",
   "execution_count": 68,
   "metadata": {},
   "outputs": [],
   "source": [
    "df.tz.replace(to_replace='', value='Unknown', inplace=True)"
   ]
  },
  {
   "cell_type": "code",
   "execution_count": 70,
   "metadata": {},
   "outputs": [
    {
     "data": {
      "text/plain": [
       "521"
      ]
     },
     "execution_count": 70,
     "metadata": {},
     "output_type": "execute_result"
    }
   ],
   "source": [
    "Unknown_count = (df.tz=='Unknown').sum()\n",
    "Unknown_count"
   ]
  },
  {
   "cell_type": "code",
   "execution_count": 72,
   "metadata": {},
   "outputs": [
    {
     "name": "stdout",
     "output_type": "stream",
     "text": [
      "Missing count: 120 \n",
      "Unknown count: 521 \n"
     ]
    }
   ],
   "source": [
    "print ('Missing count: %d ' % Missing_count)\n",
    "print ('Unknown count: %d ' % Unknown_count)"
   ]
  },
  {
   "cell_type": "markdown",
   "metadata": {},
   "source": [
    "### Q3.2, What's the top 10 timezone in this data set? (exclude Unknown and Missing) (In Camino, pick the 10th place timezone)"
   ]
  },
  {
   "cell_type": "code",
   "execution_count": 75,
   "metadata": {},
   "outputs": [],
   "source": [
    "df_clean_tz = df[(df.tz!='Missing') & (df.tz!='Unknown')]"
   ]
  },
  {
   "cell_type": "code",
   "execution_count": 77,
   "metadata": {},
   "outputs": [
    {
     "data": {
      "text/plain": [
       "tz\n",
       "America/New_York       1251\n",
       "America/Chicago         400\n",
       "America/Los_Angeles     382\n",
       "America/Denver          191\n",
       "Europe/London            74\n",
       "Asia/Tokyo               37\n",
       "Pacific/Honolulu         36\n",
       "Europe/Madrid            35\n",
       "America/Sao_Paulo        33\n",
       "Europe/Berlin            28\n",
       "dtype: int64"
      ]
     },
     "execution_count": 77,
     "metadata": {},
     "output_type": "execute_result"
    }
   ],
   "source": [
    "df_clean_tz.groupby('tz').size().nlargest(10)"
   ]
  },
  {
   "cell_type": "code",
   "execution_count": 79,
   "metadata": {},
   "outputs": [
    {
     "data": {
      "text/plain": [
       "tz\n",
       "Europe/Berlin    28\n",
       "dtype: int64"
      ]
     },
     "execution_count": 79,
     "metadata": {},
     "output_type": "execute_result"
    }
   ],
   "source": [
    "df_clean_tz.groupby('tz').size().nlargest(10).tail(1)"
   ]
  },
  {
   "cell_type": "markdown",
   "metadata": {},
   "source": [
    "### Q3.3 Make a horizontal bar plot based on previous question. (Use tz as Y-axis).  (In Camino, select the cities in the first 3 timezone, multiple choices)"
   ]
  },
  {
   "cell_type": "code",
   "execution_count": 82,
   "metadata": {},
   "outputs": [],
   "source": [
    "subset_tz=df_clean_tz.groupby('tz').size().nlargest(10)"
   ]
  },
  {
   "cell_type": "code",
   "execution_count": 84,
   "metadata": {},
   "outputs": [
    {
     "data": {
      "text/plain": [
       "tz\n",
       "America/New_York       1251\n",
       "America/Chicago         400\n",
       "America/Los_Angeles     382\n",
       "America/Denver          191\n",
       "Europe/London            74\n",
       "Asia/Tokyo               37\n",
       "Pacific/Honolulu         36\n",
       "Europe/Madrid            35\n",
       "America/Sao_Paulo        33\n",
       "Europe/Berlin            28\n",
       "dtype: int64"
      ]
     },
     "execution_count": 84,
     "metadata": {},
     "output_type": "execute_result"
    }
   ],
   "source": [
    "subset_tz"
   ]
  },
  {
   "cell_type": "code",
   "execution_count": 86,
   "metadata": {},
   "outputs": [
    {
     "data": {
      "text/plain": [
       "<Axes: ylabel='tz'>"
      ]
     },
     "execution_count": 86,
     "metadata": {},
     "output_type": "execute_result"
    },
    {
     "data": {
      "image/png": "[encoded data removed]",
      "text/plain": [
       "<Figure size 640x480 with 1 Axes>"
      ]
     },
     "metadata": {},
     "output_type": "display_data"
    }
   ],
   "source": [
    "subset_tz.plot(kind='barh')"
   ]
  },
  {
   "cell_type": "markdown",
   "metadata": {},
   "source": [
    "### Q3.4,  If based on 'c' field (Country) and the 'America' keyword in 'tz' field, count how many records are from US ? (In Camino, fill in those two count numbers in format of count_by_c/count_by_tz )"
   ]
  },
  {
   "cell_type": "code",
   "execution_count": 89,
   "metadata": {},
   "outputs": [
    {
     "data": {
      "text/plain": [
       "array(['US', 'BR', 'PL', None, nan, 'HK', 'IT', 'ES', 'MY', 'CY', 'GB',\n",
       "       'MT', 'PT', 'FR', 'DK', 'MX', 'IE', 'BE', 'CA', 'NL', 'CZ', 'SE',\n",
       "       'TH', 'DE', 'HU', 'JP', 'AT', 'IL', 'PK', 'CO', 'IN', 'MK', 'LB',\n",
       "       'AU', 'CL', 'SK', 'EG', 'TR', 'RU', 'BG', 'SI', 'FI', 'RO', 'CH',\n",
       "       'PR', 'GR', 'LV', 'AR', 'AE', 'NO', 'PH', 'VE', 'SA', 'UY', 'KR',\n",
       "       'UA', 'RS', 'CR', 'PE', 'ID', 'LT', 'NI', 'ZM', 'EC', 'CN', 'JO',\n",
       "       'ZA', 'KN', 'NZ', 'DO', 'BO', 'MA', 'HN'], dtype=object)"
      ]
     },
     "execution_count": 89,
     "metadata": {},
     "output_type": "execute_result"
    }
   ],
   "source": [
    "df.c.unique()"
   ]
  },
  {
   "cell_type": "code",
   "execution_count": 91,
   "metadata": {},
   "outputs": [
    {
     "data": {
      "text/plain": [
       "array(['America/New_York', 'America/Denver', 'America/Sao_Paulo',\n",
       "       'Europe/Warsaw', 'Unknown', 'America/Los_Angeles', 'Missing',\n",
       "       'Asia/Hong_Kong', 'Europe/Rome', 'Africa/Ceuta'], dtype=object)"
      ]
     },
     "execution_count": 91,
     "metadata": {},
     "output_type": "execute_result"
    }
   ],
   "source": [
    "df.tz.unique()[0:10]"
   ]
  },
  {
   "cell_type": "code",
   "execution_count": 93,
   "metadata": {},
   "outputs": [
    {
     "data": {
      "text/plain": [
       "2305"
      ]
     },
     "execution_count": 93,
     "metadata": {},
     "output_type": "execute_result"
    }
   ],
   "source": [
    "count_US = (df.c=='US').sum()\n",
    "count_US"
   ]
  },
  {
   "cell_type": "code",
   "execution_count": 95,
   "metadata": {},
   "outputs": [
    {
     "data": {
      "text/plain": [
       "2412"
      ]
     },
     "execution_count": 95,
     "metadata": {},
     "output_type": "execute_result"
    }
   ],
   "source": [
    "count_America = (df.tz.str.contains('America')).sum()\n",
    "count_America"
   ]
  },
  {
   "cell_type": "markdown",
   "metadata": {},
   "source": [
    ">#### So counts from field 'tz' and field 'c' are NOT the same !"
   ]
  },
  {
   "cell_type": "markdown",
   "metadata": {},
   "source": [
    "### Q3.5,  Based on last question,  is both counts match ? If not, find out how many records are timezone with 'America' keyword but Country not in US? (In Camino, select the correct number)"
   ]
  },
  {
   "cell_type": "code",
   "execution_count": 99,
   "metadata": {},
   "outputs": [
    {
     "data": {
      "text/plain": [
       "143"
      ]
     },
     "execution_count": 99,
     "metadata": {},
     "output_type": "execute_result"
    }
   ],
   "source": [
    "Boolean_notUS_butAmerica = (df.c!='US')&(df.tz.str.contains('America'))\n",
    "Boolean_notUS_butAmerica.sum()"
   ]
  },
  {
   "cell_type": "code",
   "execution_count": 101,
   "metadata": {},
   "outputs": [
    {
     "data": {
      "text/html": [
       "<div>\n",
       "<style scoped>\n",
       "    .dataframe tbody tr th:only-of-type {\n",
       "        vertical-align: middle;\n",
       "    }\n",
       "\n",
       "    .dataframe tbody tr th {\n",
       "        vertical-align: top;\n",
       "    }\n",
       "\n",
       "    .dataframe thead th {\n",
       "        text-align: right;\n",
       "    }\n",
       "</style>\n",
       "<table border=\"1\" class=\"dataframe\">\n",
       "  <thead>\n",
       "    <tr style=\"text-align: right;\">\n",
       "      <th></th>\n",
       "      <th>c</th>\n",
       "      <th>tz</th>\n",
       "    </tr>\n",
       "  </thead>\n",
       "  <tbody>\n",
       "    <tr>\n",
       "      <th>3</th>\n",
       "      <td>BR</td>\n",
       "      <td>America/Sao_Paulo</td>\n",
       "    </tr>\n",
       "    <tr>\n",
       "      <th>27</th>\n",
       "      <td>BR</td>\n",
       "      <td>America/Sao_Paulo</td>\n",
       "    </tr>\n",
       "    <tr>\n",
       "      <th>56</th>\n",
       "      <td>BR</td>\n",
       "      <td>America/Sao_Paulo</td>\n",
       "    </tr>\n",
       "    <tr>\n",
       "      <th>86</th>\n",
       "      <td>MX</td>\n",
       "      <td>America/Mazatlan</td>\n",
       "    </tr>\n",
       "    <tr>\n",
       "      <th>97</th>\n",
       "      <td>BR</td>\n",
       "      <td>America/Sao_Paulo</td>\n",
       "    </tr>\n",
       "    <tr>\n",
       "      <th>99</th>\n",
       "      <td>CA</td>\n",
       "      <td>America/Vancouver</td>\n",
       "    </tr>\n",
       "    <tr>\n",
       "      <th>110</th>\n",
       "      <td>BR</td>\n",
       "      <td>America/Sao_Paulo</td>\n",
       "    </tr>\n",
       "    <tr>\n",
       "      <th>131</th>\n",
       "      <td>CA</td>\n",
       "      <td>America/Rainy_River</td>\n",
       "    </tr>\n",
       "    <tr>\n",
       "      <th>167</th>\n",
       "      <td>BR</td>\n",
       "      <td>America/Sao_Paulo</td>\n",
       "    </tr>\n",
       "    <tr>\n",
       "      <th>214</th>\n",
       "      <td>CA</td>\n",
       "      <td>America/Rainy_River</td>\n",
       "    </tr>\n",
       "  </tbody>\n",
       "</table>\n",
       "</div>"
      ],
      "text/plain": [
       "      c                   tz\n",
       "3    BR    America/Sao_Paulo\n",
       "27   BR    America/Sao_Paulo\n",
       "56   BR    America/Sao_Paulo\n",
       "86   MX     America/Mazatlan\n",
       "97   BR    America/Sao_Paulo\n",
       "99   CA    America/Vancouver\n",
       "110  BR    America/Sao_Paulo\n",
       "131  CA  America/Rainy_River\n",
       "167  BR    America/Sao_Paulo\n",
       "214  CA  America/Rainy_River"
      ]
     },
     "execution_count": 101,
     "metadata": {},
     "output_type": "execute_result"
    }
   ],
   "source": [
    "df[Boolean_notUS_butAmerica][['c','tz']][0:10]"
   ]
  },
  {
   "cell_type": "markdown",
   "metadata": {},
   "source": [
    "> #### Because there are other countries also has Timezone starts with 'America/...'"
   ]
  },
  {
   "cell_type": "code",
   "execution_count": null,
   "metadata": {},
   "outputs": [],
   "source": []
  }
 ],
 "metadata": {
  "kernelspec": {
   "display_name": "Python 3 (ipykernel)",
   "language": "python",
   "name": "python3"
  },
  "language_info": {
   "codemirror_mode": {
    "name": "ipython",
    "version": 3
   },
   "file_extension": ".py",
   "mimetype": "text/x-python",
   "name": "python",
   "nbconvert_exporter": "python",
   "pygments_lexer": "ipython3",
   "version": "3.12.2"
  }
 },
 "nbformat": 4,
 "nbformat_minor": 4
}
