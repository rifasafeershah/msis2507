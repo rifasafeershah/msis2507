{
 "cells": [
  {
   "cell_type": "markdown",
   "metadata": {},
   "source": [
    "# Midterm Practice"
   ]
  },
  {
   "cell_type": "markdown",
   "metadata": {},
   "source": [
    "<b>Penalties:</b> You will incur penalties if:\n",
    "<ul>\n",
    "<li>Your code is wrong</li>\n",
    "<li>Your code would not work on different data (no hard coding)</li>\n",
    "<li>Your code is unnecessarily slow (you use a for loop, or you use DataFrame.apply unnecessarily, etc)\n",
    "<li>You answer is composed of more than one output, unless explicitly permitted\n",
    "</ul>"
   ]
  },
  {
   "cell_type": "markdown",
   "metadata": {},
   "source": [
    "## Execute this code to read the data"
   ]
  },
  {
   "cell_type": "code",
   "execution_count": 1,
   "metadata": {},
   "outputs": [],
   "source": [
    "import pandas as pd\n",
    "# print all the outputs in a cell\n",
    "from IPython.core.interactiveshell import InteractiveShell\n",
    "InteractiveShell.ast_node_interactivity = \"all\"\n",
    "\n",
    "import pandas as pd\n",
    "import numpy as np\n",
    "\n",
    "df = pd.read_csv('pizzas.csv',index_col=0)\n",
    "df['pizza_description'] = df['pizza_description'].fillna('')\n",
    "df['restaurant_zipcode'] = df['restaurant_zipcode'].fillna('')\n",
    "df.dropna(subset=['pizza_price'], inplace=True)"
   ]
  },
  {
   "cell_type": "code",
   "execution_count": 3,
   "metadata": {},
   "outputs": [
    {
     "data": {
      "text/html": [
       "<div>\n",
       "<style scoped>\n",
       "    .dataframe tbody tr th:only-of-type {\n",
       "        vertical-align: middle;\n",
       "    }\n",
       "\n",
       "    .dataframe tbody tr th {\n",
       "        vertical-align: top;\n",
       "    }\n",
       "\n",
       "    .dataframe thead th {\n",
       "        text-align: right;\n",
       "    }\n",
       "</style>\n",
       "<table border=\"1\" class=\"dataframe\">\n",
       "  <thead>\n",
       "    <tr style=\"text-align: right;\">\n",
       "      <th></th>\n",
       "      <th>restaurant_id</th>\n",
       "      <th>restaurant_city</th>\n",
       "      <th>restaurant_zipcode</th>\n",
       "      <th>restaurant_province</th>\n",
       "      <th>pizza_id</th>\n",
       "      <th>pizza_price</th>\n",
       "      <th>pizza_name</th>\n",
       "      <th>pizza_description</th>\n",
       "    </tr>\n",
       "  </thead>\n",
       "  <tbody>\n",
       "    <tr>\n",
       "      <th>0</th>\n",
       "      <td>AVwc_6KEIN2L1WUfrKAH</td>\n",
       "      <td>Bend</td>\n",
       "      <td>97701</td>\n",
       "      <td>OR</td>\n",
       "      <td>0</td>\n",
       "      <td>15.50</td>\n",
       "      <td>Bianca Pizza</td>\n",
       "      <td></td>\n",
       "    </tr>\n",
       "    <tr>\n",
       "      <th>1</th>\n",
       "      <td>AVwc_6KEIN2L1WUfrKAH</td>\n",
       "      <td>Bend</td>\n",
       "      <td>97701</td>\n",
       "      <td>OR</td>\n",
       "      <td>1</td>\n",
       "      <td>18.95</td>\n",
       "      <td>Cheese Pizza</td>\n",
       "      <td></td>\n",
       "    </tr>\n",
       "    <tr>\n",
       "      <th>2</th>\n",
       "      <td>AVwc_6qRByjofQCxkcxw</td>\n",
       "      <td>Los Angeles</td>\n",
       "      <td>90049</td>\n",
       "      <td>Brentwood</td>\n",
       "      <td>2</td>\n",
       "      <td>12.00</td>\n",
       "      <td>Pizza, Margherita</td>\n",
       "      <td></td>\n",
       "    </tr>\n",
       "    <tr>\n",
       "      <th>3</th>\n",
       "      <td>AVwc_6qRByjofQCxkcxw</td>\n",
       "      <td>Los Angeles</td>\n",
       "      <td>90049</td>\n",
       "      <td>Brentwood</td>\n",
       "      <td>3</td>\n",
       "      <td>13.00</td>\n",
       "      <td>Pizza, Mushroom</td>\n",
       "      <td></td>\n",
       "    </tr>\n",
       "    <tr>\n",
       "      <th>4</th>\n",
       "      <td>AVwc_6qRByjofQCxkcxw</td>\n",
       "      <td>Los Angeles</td>\n",
       "      <td>90049</td>\n",
       "      <td>Brentwood</td>\n",
       "      <td>4</td>\n",
       "      <td>13.00</td>\n",
       "      <td>Pizza, Puttenesca</td>\n",
       "      <td>Olives, onions, capers, tomatoes</td>\n",
       "    </tr>\n",
       "    <tr>\n",
       "      <th>5</th>\n",
       "      <td>AVwc_6qRByjofQCxkcxw</td>\n",
       "      <td>Los Angeles</td>\n",
       "      <td>90049</td>\n",
       "      <td>Brentwood</td>\n",
       "      <td>5</td>\n",
       "      <td>15.00</td>\n",
       "      <td>Pizza, Salami Piccante</td>\n",
       "      <td></td>\n",
       "    </tr>\n",
       "    <tr>\n",
       "      <th>6</th>\n",
       "      <td>AVwc_6qRByjofQCxkcxw</td>\n",
       "      <td>Los Angeles</td>\n",
       "      <td>90049</td>\n",
       "      <td>Brentwood</td>\n",
       "      <td>6</td>\n",
       "      <td>15.00</td>\n",
       "      <td>Pizza, White Truffle Meat Sauce</td>\n",
       "      <td></td>\n",
       "    </tr>\n",
       "    <tr>\n",
       "      <th>7</th>\n",
       "      <td>AVwc_7d_IN2L1WUfrKNN</td>\n",
       "      <td>Los Angeles</td>\n",
       "      <td>90027</td>\n",
       "      <td>Los Feliz</td>\n",
       "      <td>7</td>\n",
       "      <td>7.99</td>\n",
       "      <td>Cheese Pizza</td>\n",
       "      <td>Choose a pizza size.</td>\n",
       "    </tr>\n",
       "    <tr>\n",
       "      <th>8</th>\n",
       "      <td>AVwc_7d_IN2L1WUfrKNN</td>\n",
       "      <td>Los Angeles</td>\n",
       "      <td>90027</td>\n",
       "      <td>Los Feliz</td>\n",
       "      <td>8</td>\n",
       "      <td>7.99</td>\n",
       "      <td>Hawaiian Pizza</td>\n",
       "      <td>Canadian bacon, pineapple.</td>\n",
       "    </tr>\n",
       "    <tr>\n",
       "      <th>9</th>\n",
       "      <td>AVwc_7d_IN2L1WUfrKNN</td>\n",
       "      <td>Los Angeles</td>\n",
       "      <td>90027</td>\n",
       "      <td>Los Feliz</td>\n",
       "      <td>9</td>\n",
       "      <td>11.99</td>\n",
       "      <td>Meat Lover Pizza</td>\n",
       "      <td></td>\n",
       "    </tr>\n",
       "    <tr>\n",
       "      <th>10</th>\n",
       "      <td>AVwc_7d_IN2L1WUfrKNN</td>\n",
       "      <td>Los Angeles</td>\n",
       "      <td>90027</td>\n",
       "      <td>Los Feliz</td>\n",
       "      <td>10</td>\n",
       "      <td>5.99</td>\n",
       "      <td>Pizza Sub</td>\n",
       "      <td></td>\n",
       "    </tr>\n",
       "    <tr>\n",
       "      <th>11</th>\n",
       "      <td>AVwc_7d_IN2L1WUfrKNN</td>\n",
       "      <td>Los Angeles</td>\n",
       "      <td>90027</td>\n",
       "      <td>Los Feliz</td>\n",
       "      <td>11</td>\n",
       "      <td>5.99</td>\n",
       "      <td>Super Pizza Sub</td>\n",
       "      <td></td>\n",
       "    </tr>\n",
       "    <tr>\n",
       "      <th>12</th>\n",
       "      <td>AVwc_7d_IN2L1WUfrKNN</td>\n",
       "      <td>Los Angeles</td>\n",
       "      <td>90027</td>\n",
       "      <td>Los Feliz</td>\n",
       "      <td>12</td>\n",
       "      <td>10.99</td>\n",
       "      <td>Veggie Pizza</td>\n",
       "      <td></td>\n",
       "    </tr>\n",
       "    <tr>\n",
       "      <th>13</th>\n",
       "      <td>AVwc_8WAByjofQCxkdDA</td>\n",
       "      <td>Houston</td>\n",
       "      <td>77003</td>\n",
       "      <td>TX</td>\n",
       "      <td>13</td>\n",
       "      <td>9.95</td>\n",
       "      <td>Create Your Own Pizza</td>\n",
       "      <td>Choose any of your own toppings to make it you...</td>\n",
       "    </tr>\n",
       "    <tr>\n",
       "      <th>14</th>\n",
       "      <td>AVwc_abAIN2L1WUfrEps</td>\n",
       "      <td>Hyannis</td>\n",
       "      <td>2601</td>\n",
       "      <td>MA</td>\n",
       "      <td>14</td>\n",
       "      <td>8.95</td>\n",
       "      <td>Cheese Pizza</td>\n",
       "      <td></td>\n",
       "    </tr>\n",
       "    <tr>\n",
       "      <th>15</th>\n",
       "      <td>AVwc_abAIN2L1WUfrEps</td>\n",
       "      <td>Hyannis</td>\n",
       "      <td>2601</td>\n",
       "      <td>MA</td>\n",
       "      <td>15</td>\n",
       "      <td>10.95</td>\n",
       "      <td>Pepperoni Pizza</td>\n",
       "      <td></td>\n",
       "    </tr>\n",
       "    <tr>\n",
       "      <th>17</th>\n",
       "      <td>AVwc_dHKkufWRAb51Kei</td>\n",
       "      <td>Provo</td>\n",
       "      <td>84602</td>\n",
       "      <td>UT</td>\n",
       "      <td>17</td>\n",
       "      <td>15.71</td>\n",
       "      <td>Mexican Pizza Dip</td>\n",
       "      <td>Seven layer bean dip</td>\n",
       "    </tr>\n",
       "    <tr>\n",
       "      <th>21</th>\n",
       "      <td>AVwc_h3pkufWRAb51LOO</td>\n",
       "      <td>Chicago</td>\n",
       "      <td>60611</td>\n",
       "      <td>Ontario Street</td>\n",
       "      <td>21</td>\n",
       "      <td>10.99</td>\n",
       "      <td>Pizza Margherita</td>\n",
       "      <td></td>\n",
       "    </tr>\n",
       "    <tr>\n",
       "      <th>22</th>\n",
       "      <td>AVwc_h3pkufWRAb51LOO</td>\n",
       "      <td>Chicago</td>\n",
       "      <td>60611</td>\n",
       "      <td>Ontario Street</td>\n",
       "      <td>22</td>\n",
       "      <td>10.99</td>\n",
       "      <td>Pizza Margherita</td>\n",
       "      <td></td>\n",
       "    </tr>\n",
       "    <tr>\n",
       "      <th>28</th>\n",
       "      <td>AVwc_jdF_7pvs4fz1IZm</td>\n",
       "      <td>West Chester</td>\n",
       "      <td>19380</td>\n",
       "      <td>PA</td>\n",
       "      <td>28</td>\n",
       "      <td>2.59</td>\n",
       "      <td>Pizza Bagel (plain)</td>\n",
       "      <td></td>\n",
       "    </tr>\n",
       "  </tbody>\n",
       "</table>\n",
       "</div>"
      ],
      "text/plain": [
       "           restaurant_id restaurant_city restaurant_zipcode  \\\n",
       "0   AVwc_6KEIN2L1WUfrKAH            Bend              97701   \n",
       "1   AVwc_6KEIN2L1WUfrKAH            Bend              97701   \n",
       "2   AVwc_6qRByjofQCxkcxw     Los Angeles              90049   \n",
       "3   AVwc_6qRByjofQCxkcxw     Los Angeles              90049   \n",
       "4   AVwc_6qRByjofQCxkcxw     Los Angeles              90049   \n",
       "5   AVwc_6qRByjofQCxkcxw     Los Angeles              90049   \n",
       "6   AVwc_6qRByjofQCxkcxw     Los Angeles              90049   \n",
       "7   AVwc_7d_IN2L1WUfrKNN     Los Angeles              90027   \n",
       "8   AVwc_7d_IN2L1WUfrKNN     Los Angeles              90027   \n",
       "9   AVwc_7d_IN2L1WUfrKNN     Los Angeles              90027   \n",
       "10  AVwc_7d_IN2L1WUfrKNN     Los Angeles              90027   \n",
       "11  AVwc_7d_IN2L1WUfrKNN     Los Angeles              90027   \n",
       "12  AVwc_7d_IN2L1WUfrKNN     Los Angeles              90027   \n",
       "13  AVwc_8WAByjofQCxkdDA         Houston              77003   \n",
       "14  AVwc_abAIN2L1WUfrEps         Hyannis               2601   \n",
       "15  AVwc_abAIN2L1WUfrEps         Hyannis               2601   \n",
       "17  AVwc_dHKkufWRAb51Kei           Provo              84602   \n",
       "21  AVwc_h3pkufWRAb51LOO         Chicago              60611   \n",
       "22  AVwc_h3pkufWRAb51LOO         Chicago              60611   \n",
       "28  AVwc_jdF_7pvs4fz1IZm    West Chester              19380   \n",
       "\n",
       "   restaurant_province  pizza_id  pizza_price  \\\n",
       "0                   OR         0        15.50   \n",
       "1                   OR         1        18.95   \n",
       "2            Brentwood         2        12.00   \n",
       "3            Brentwood         3        13.00   \n",
       "4            Brentwood         4        13.00   \n",
       "5            Brentwood         5        15.00   \n",
       "6            Brentwood         6        15.00   \n",
       "7            Los Feliz         7         7.99   \n",
       "8            Los Feliz         8         7.99   \n",
       "9            Los Feliz         9        11.99   \n",
       "10           Los Feliz        10         5.99   \n",
       "11           Los Feliz        11         5.99   \n",
       "12           Los Feliz        12        10.99   \n",
       "13                  TX        13         9.95   \n",
       "14                  MA        14         8.95   \n",
       "15                  MA        15        10.95   \n",
       "17                  UT        17        15.71   \n",
       "21      Ontario Street        21        10.99   \n",
       "22      Ontario Street        22        10.99   \n",
       "28                  PA        28         2.59   \n",
       "\n",
       "                         pizza_name  \\\n",
       "0                      Bianca Pizza   \n",
       "1                      Cheese Pizza   \n",
       "2                 Pizza, Margherita   \n",
       "3                   Pizza, Mushroom   \n",
       "4                 Pizza, Puttenesca   \n",
       "5            Pizza, Salami Piccante   \n",
       "6   Pizza, White Truffle Meat Sauce   \n",
       "7                      Cheese Pizza   \n",
       "8                    Hawaiian Pizza   \n",
       "9                  Meat Lover Pizza   \n",
       "10                        Pizza Sub   \n",
       "11                  Super Pizza Sub   \n",
       "12                     Veggie Pizza   \n",
       "13            Create Your Own Pizza   \n",
       "14                     Cheese Pizza   \n",
       "15                  Pepperoni Pizza   \n",
       "17                Mexican Pizza Dip   \n",
       "21                 Pizza Margherita   \n",
       "22                 Pizza Margherita   \n",
       "28              Pizza Bagel (plain)   \n",
       "\n",
       "                                    pizza_description  \n",
       "0                                                      \n",
       "1                                                      \n",
       "2                                                      \n",
       "3                                                      \n",
       "4                    Olives, onions, capers, tomatoes  \n",
       "5                                                      \n",
       "6                                                      \n",
       "7                                Choose a pizza size.  \n",
       "8                          Canadian bacon, pineapple.  \n",
       "9                                                      \n",
       "10                                                     \n",
       "11                                                     \n",
       "12                                                     \n",
       "13  Choose any of your own toppings to make it you...  \n",
       "14                                                     \n",
       "15                                                     \n",
       "17                               Seven layer bean dip  \n",
       "21                                                     \n",
       "22                                                     \n",
       "28                                                     "
      ]
     },
     "execution_count": 3,
     "metadata": {},
     "output_type": "execute_result"
    }
   ],
   "source": [
    "df.head(20)"
   ]
  },
  {
   "cell_type": "code",
   "execution_count": 5,
   "metadata": {
    "scrolled": true
   },
   "outputs": [
    {
     "data": {
      "text/plain": [
       "restaurant_id          False\n",
       "restaurant_city        False\n",
       "restaurant_zipcode     False\n",
       "restaurant_province    False\n",
       "pizza_id               False\n",
       "pizza_price            False\n",
       "pizza_name             False\n",
       "pizza_description      False\n",
       "dtype: bool"
      ]
     },
     "execution_count": 5,
     "metadata": {},
     "output_type": "execute_result"
    }
   ],
   "source": [
    "df.isna().any()"
   ]
  },
  {
   "cell_type": "code",
   "execution_count": 7,
   "metadata": {
    "scrolled": true
   },
   "outputs": [
    {
     "name": "stdout",
     "output_type": "stream",
     "text": [
      "<class 'pandas.core.frame.DataFrame'>\n",
      "Index: 2948 entries, 0 to 3508\n",
      "Data columns (total 8 columns):\n",
      " #   Column               Non-Null Count  Dtype  \n",
      "---  ------               --------------  -----  \n",
      " 0   restaurant_id        2948 non-null   object \n",
      " 1   restaurant_city      2948 non-null   object \n",
      " 2   restaurant_zipcode   2948 non-null   object \n",
      " 3   restaurant_province  2948 non-null   object \n",
      " 4   pizza_id             2948 non-null   int64  \n",
      " 5   pizza_price          2948 non-null   float64\n",
      " 6   pizza_name           2948 non-null   object \n",
      " 7   pizza_description    2948 non-null   object \n",
      "dtypes: float64(1), int64(1), object(6)\n",
      "memory usage: 207.3+ KB\n"
     ]
    }
   ],
   "source": [
    "df.info()"
   ]
  },
  {
   "cell_type": "markdown",
   "metadata": {},
   "source": [
    "## Data Description"
   ]
  },
  {
   "cell_type": "markdown",
   "metadata": {},
   "source": [
    "The data set reports information on menus of <b>pizzas made by restaurants</b> around the world. <br/>\n",
    "The data frame df has <b>several rows for each restaurant</b> -- each row corresponds to one pizza on the menu of a certain restaurant. For example, from the table above, the first restaurant (restaurant_id AVwc_6KEIN2L1WUfrKAH) has two pizzas on the menu (i.e., two rows on the table), called \"Bianca Pizza\" and \"Cheese Pizza\". The second restaurant (AVwc_6qRByjofQCxkcxw) has five pizzas on the menu.<br/>\n",
    "#### Columns:\n",
    "<ul>\n",
    "<li><b>restaurant_id</b>: identifier of a restaurant\n",
    "<li><b>restaurant_city</b>: city of the restaurant\n",
    "<li><b>restaurant_zipcode</b>: zipcode of the restaurant\n",
    "<li><b>restaurant_province</b>: the province, state, or area of a restaurant\n",
    "<li><b>pizza_id</b>: the identifier (unique throughout the data frame) of a pizza sold at a certain restaurant\n",
    "<li><b>pizza_price</b>: the price of the pizza \n",
    "<li><b>pizza_name</b>: the name of the pizza\n",
    "<li><b>pizza_description</b>: the pizza description\n",
    "</ul>"
   ]
  },
  {
   "cell_type": "markdown",
   "metadata": {},
   "source": [
    "#### Question 1"
   ]
  },
  {
   "cell_type": "markdown",
   "metadata": {},
   "source": [
    "How many pizzas are in the menu of restaurant_id AVwcr6qqByjofQCxhENy?"
   ]
  },
  {
   "cell_type": "code",
   "execution_count": null,
   "metadata": {},
   "outputs": [],
   "source": []
  },
  {
   "cell_type": "markdown",
   "metadata": {},
   "source": [
    "#### Question 2"
   ]
  },
  {
   "cell_type": "markdown",
   "metadata": {},
   "source": [
    "How many pizzas cost less than or equal to \\$2 ?\n",
    "\n",
    "\n",
    "How many pizzas cost more than \\$20 (\\$20 excluded)?"
   ]
  },
  {
   "cell_type": "code",
   "execution_count": null,
   "metadata": {},
   "outputs": [],
   "source": []
  },
  {
   "cell_type": "markdown",
   "metadata": {},
   "source": [
    "#### Question 3"
   ]
  },
  {
   "cell_type": "markdown",
   "metadata": {},
   "source": [
    "In which city you can use $0.99(exactly) to buy a pizza ? \n",
    "\n",
    "In which city you can buy the most expensive pizza? \n",
    "\n",
    "<u>Both question assume no ties. Return just one string with the city name (not a Series or a DataFrame).</u>"
   ]
  },
  {
   "cell_type": "code",
   "execution_count": null,
   "metadata": {},
   "outputs": [],
   "source": []
  },
  {
   "cell_type": "markdown",
   "metadata": {},
   "source": [
    "Most expensive pizza:"
   ]
  },
  {
   "cell_type": "code",
   "execution_count": null,
   "metadata": {},
   "outputs": [],
   "source": []
  },
  {
   "cell_type": "markdown",
   "metadata": {},
   "source": [
    "#### Question 4"
   ]
  },
  {
   "cell_type": "markdown",
   "metadata": {},
   "source": [
    "For each province, report the number of restaurants that sell at least one pizza for $100 or more. Report only the provinces with non zero count. "
   ]
  },
  {
   "cell_type": "code",
   "execution_count": null,
   "metadata": {},
   "outputs": [],
   "source": []
  },
  {
   "cell_type": "markdown",
   "metadata": {},
   "source": [
    "#### Question 5"
   ]
  },
  {
   "cell_type": "markdown",
   "metadata": {},
   "source": [
    "How many restaurants are located in the largest (i.e, maximum) zipcode? <u>You must return only one number</u>"
   ]
  },
  {
   "cell_type": "code",
   "execution_count": null,
   "metadata": {},
   "outputs": [],
   "source": []
  },
  {
   "cell_type": "markdown",
   "metadata": {},
   "source": [
    "#### Question 6"
   ]
  },
  {
   "cell_type": "markdown",
   "metadata": {},
   "source": [
    "The same pizza_name may be used in many restaurants. Find the top 5 most popular pizza_names in descending order."
   ]
  },
  {
   "cell_type": "code",
   "execution_count": null,
   "metadata": {},
   "outputs": [],
   "source": []
  },
  {
   "cell_type": "markdown",
   "metadata": {},
   "source": [
    "#### Question 7"
   ]
  },
  {
   "cell_type": "markdown",
   "metadata": {},
   "source": [
    "Find how many <u>distinct</u> pizza_names are sold in locations whose zipcode starts with \"95\". <i>Hint</i>: Series.unique() find the list of unique values in a Series."
   ]
  },
  {
   "cell_type": "code",
   "execution_count": null,
   "metadata": {},
   "outputs": [],
   "source": []
  },
  {
   "cell_type": "markdown",
   "metadata": {},
   "source": [
    "#### Question 8"
   ]
  },
  {
   "cell_type": "markdown",
   "metadata": {},
   "source": [
    "The same pizza_name may appear in different cities. For each pizza_name, find the city with that pizza_name appears most times in different restaurants. List the top 5 most commonly appear pizza names together with their city name."
   ]
  },
  {
   "cell_type": "code",
   "execution_count": null,
   "metadata": {},
   "outputs": [],
   "source": []
  },
  {
   "cell_type": "markdown",
   "metadata": {},
   "source": [
    "#### Question 9"
   ]
  },
  {
   "cell_type": "markdown",
   "metadata": {},
   "source": [
    "Let us define \"average pizza price of a city\" as the average price of all pizzas sold in that city. Find the cities whose average pizza price is at least $20 higher than the average pizza price (computed throughout the whole data set). Report both the city and its average pizza price."
   ]
  },
  {
   "cell_type": "code",
   "execution_count": null,
   "metadata": {},
   "outputs": [],
   "source": []
  },
  {
   "cell_type": "markdown",
   "metadata": {},
   "source": [
    "#### Question 10"
   ]
  },
  {
   "cell_type": "markdown",
   "metadata": {},
   "source": [
    "<p>The same pizza_name may be used in many restaurants, and may be sold for different prices. For a given pizza_name, let us define <i>spread</i> as the difference between the maximum and minimum price at which that pizza is sold. What are the <b>five</b> pizza names with the widest spread? Report both the pizza names and the spreads.</p>"
   ]
  },
  {
   "cell_type": "code",
   "execution_count": null,
   "metadata": {},
   "outputs": [],
   "source": []
  },
  {
   "cell_type": "markdown",
   "metadata": {},
   "source": [
    "#### Question 11 "
   ]
  },
  {
   "cell_type": "markdown",
   "metadata": {},
   "source": [
    "<p>The original Margherita pizza does NOT contain garlic. The purpose of this problem is to analyze which provinces violate the original recipe most.</p>\n",
    "<p>For each province, find the proportion of Margherita pizzas that contain garlic (i.e., among all Margherita pizzas, the proportion that contain garlic), <u>sorted by decreasing proportion</u>.</p>\n",
    "<p>Your code must return one entry for each province that sells Margherita pizzas. To identify Margherita pizzas, you must check whether pizza_name contains the word 'Margherita' (or 'margherita'); to identify whether a pizza contains garlic, you must check whether pizza_description contains the word 'garlic' (or 'Garlic'). <i>Hint</i>: make a copy of the original data frame before solving this problem.</p>"
   ]
  },
  {
   "cell_type": "code",
   "execution_count": null,
   "metadata": {},
   "outputs": [],
   "source": []
  }
 ],
 "metadata": {
  "kernelspec": {
   "display_name": "Python 3 (ipykernel)",
   "language": "python",
   "name": "python3"
  },
  "language_info": {
   "codemirror_mode": {
    "name": "ipython",
    "version": 3
   },
   "file_extension": ".py",
   "mimetype": "text/x-python",
   "name": "python",
   "nbconvert_exporter": "python",
   "pygments_lexer": "ipython3",
   "version": "3.12.2"
  }
 },
 "nbformat": 4,
 "nbformat_minor": 4
}
