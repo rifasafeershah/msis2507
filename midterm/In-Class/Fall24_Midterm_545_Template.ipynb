{
 "cells": [
  {
   "cell_type": "markdown",
   "metadata": {},
   "source": [
    "# 2024 Fall Data Analytics /w Python 545 Midterm "
   ]
  },
  {
   "cell_type": "markdown",
   "metadata": {},
   "source": [
    "<b>Penalties:</b> You will incur penalties if:\n",
    "<ul>\n",
    "<li>Your code is wrong</li>\n",
    "<li>Your code would not work on different data</li>\n",
    "</ul>\n",
    "\n",
    "### Any forms of cheating will lead to 0 pt for this test!"
   ]
  },
  {
   "cell_type": "markdown",
   "metadata": {},
   "source": [
    "### There are 3 data sets for this test. First two are related to stock index, which should be  used for Q1 to Q3. The 3rd data set is Boston area police interventions record, which should be use to answer the rest of the questions."
   ]
  },
  {
   "cell_type": "markdown",
   "metadata": {},
   "source": [
    "###  For Q1 to Q3:\n",
    "<b>Stock History info for NASDAQ and S&P500  for the last 5 years:</b>  NASDAQ_COMP_5Y.csv  and SP500_SPX_5Y.csv\n"
   ]
  },
  {
   "cell_type": "code",
   "execution_count": 5,
   "metadata": {},
   "outputs": [],
   "source": [
    "# print all the outputs in a cell\n",
    "from IPython.core.interactiveshell import InteractiveShell\n",
    "InteractiveShell.ast_node_interactivity = \"all\""
   ]
  },
  {
   "cell_type": "markdown",
   "metadata": {},
   "source": [
    "The following code creates a Series object <i>stock</i> based on GOOGL.csv file. Index is the date and the variable is the Google stock closing prices. "
   ]
  },
  {
   "cell_type": "code",
   "execution_count": 7,
   "metadata": {},
   "outputs": [],
   "source": [
    "import pandas as pd\n",
    "import numpy as np\n",
    "import matplotlib.pyplot as plt"
   ]
  },
  {
   "cell_type": "code",
   "execution_count": 8,
   "metadata": {},
   "outputs": [],
   "source": [
    "# Load NASDAQ\n",
    "data_NASDAQ = pd.read_csv('NASDAQ_COMP_5Y.csv',index_col=0)\n",
    "data_NASDAQ.index = data_NASDAQ.index.astype('datetime64[ns]')"
   ]
  },
  {
   "cell_type": "code",
   "execution_count": 9,
   "metadata": {},
   "outputs": [],
   "source": [
    "# Load S&P500\n",
    "data_SP500 = pd.read_csv('SP500_SPX_5Y.csv',index_col=0)\n",
    "data_SP500.index = data_SP500.index.astype('datetime64[ns]')"
   ]
  },
  {
   "cell_type": "code",
   "execution_count": 10,
   "metadata": {},
   "outputs": [
    {
     "data": {
      "text/html": [
       "<div>\n",
       "<style scoped>\n",
       "    .dataframe tbody tr th:only-of-type {\n",
       "        vertical-align: middle;\n",
       "    }\n",
       "\n",
       "    .dataframe tbody tr th {\n",
       "        vertical-align: top;\n",
       "    }\n",
       "\n",
       "    .dataframe thead th {\n",
       "        text-align: right;\n",
       "    }\n",
       "</style>\n",
       "<table border=\"1\" class=\"dataframe\">\n",
       "  <thead>\n",
       "    <tr style=\"text-align: right;\">\n",
       "      <th></th>\n",
       "      <th>Close/Last</th>\n",
       "      <th>Open</th>\n",
       "      <th>High</th>\n",
       "      <th>Low</th>\n",
       "    </tr>\n",
       "    <tr>\n",
       "      <th>Date</th>\n",
       "      <th></th>\n",
       "      <th></th>\n",
       "      <th></th>\n",
       "      <th></th>\n",
       "    </tr>\n",
       "  </thead>\n",
       "  <tbody>\n",
       "    <tr>\n",
       "      <th>2024-10-25</th>\n",
       "      <td>18518.61</td>\n",
       "      <td>18512.58</td>\n",
       "      <td>18690.01</td>\n",
       "      <td>18487.06</td>\n",
       "    </tr>\n",
       "    <tr>\n",
       "      <th>2024-10-24</th>\n",
       "      <td>18415.49</td>\n",
       "      <td>18384.15</td>\n",
       "      <td>18435.37</td>\n",
       "      <td>18305.42</td>\n",
       "    </tr>\n",
       "    <tr>\n",
       "      <th>2024-10-23</th>\n",
       "      <td>18276.65</td>\n",
       "      <td>18502.06</td>\n",
       "      <td>18509.19</td>\n",
       "      <td>18146.61</td>\n",
       "    </tr>\n",
       "    <tr>\n",
       "      <th>2024-10-22</th>\n",
       "      <td>18573.13</td>\n",
       "      <td>18451.86</td>\n",
       "      <td>18620.71</td>\n",
       "      <td>18413.47</td>\n",
       "    </tr>\n",
       "    <tr>\n",
       "      <th>2024-10-21</th>\n",
       "      <td>18540.00</td>\n",
       "      <td>18456.48</td>\n",
       "      <td>18543.58</td>\n",
       "      <td>18377.62</td>\n",
       "    </tr>\n",
       "  </tbody>\n",
       "</table>\n",
       "</div>"
      ],
      "text/plain": [
       "            Close/Last      Open      High       Low\n",
       "Date                                                \n",
       "2024-10-25    18518.61  18512.58  18690.01  18487.06\n",
       "2024-10-24    18415.49  18384.15  18435.37  18305.42\n",
       "2024-10-23    18276.65  18502.06  18509.19  18146.61\n",
       "2024-10-22    18573.13  18451.86  18620.71  18413.47\n",
       "2024-10-21    18540.00  18456.48  18543.58  18377.62"
      ]
     },
     "execution_count": 10,
     "metadata": {},
     "output_type": "execute_result"
    },
    {
     "data": {
      "text/html": [
       "<div>\n",
       "<style scoped>\n",
       "    .dataframe tbody tr th:only-of-type {\n",
       "        vertical-align: middle;\n",
       "    }\n",
       "\n",
       "    .dataframe tbody tr th {\n",
       "        vertical-align: top;\n",
       "    }\n",
       "\n",
       "    .dataframe thead th {\n",
       "        text-align: right;\n",
       "    }\n",
       "</style>\n",
       "<table border=\"1\" class=\"dataframe\">\n",
       "  <thead>\n",
       "    <tr style=\"text-align: right;\">\n",
       "      <th></th>\n",
       "      <th>Close/Last</th>\n",
       "      <th>Open</th>\n",
       "      <th>High</th>\n",
       "      <th>Low</th>\n",
       "    </tr>\n",
       "    <tr>\n",
       "      <th>Date</th>\n",
       "      <th></th>\n",
       "      <th></th>\n",
       "      <th></th>\n",
       "      <th></th>\n",
       "    </tr>\n",
       "  </thead>\n",
       "  <tbody>\n",
       "    <tr>\n",
       "      <th>2019-11-01</th>\n",
       "      <td>8386.40</td>\n",
       "      <td>8335.05</td>\n",
       "      <td>8386.75</td>\n",
       "      <td>8326.56</td>\n",
       "    </tr>\n",
       "    <tr>\n",
       "      <th>2019-10-31</th>\n",
       "      <td>8292.36</td>\n",
       "      <td>8314.38</td>\n",
       "      <td>8321.80</td>\n",
       "      <td>8248.81</td>\n",
       "    </tr>\n",
       "    <tr>\n",
       "      <th>2019-10-30</th>\n",
       "      <td>8303.98</td>\n",
       "      <td>8284.28</td>\n",
       "      <td>8315.50</td>\n",
       "      <td>8241.70</td>\n",
       "    </tr>\n",
       "    <tr>\n",
       "      <th>2019-10-29</th>\n",
       "      <td>8276.85</td>\n",
       "      <td>8313.35</td>\n",
       "      <td>8319.29</td>\n",
       "      <td>8275.14</td>\n",
       "    </tr>\n",
       "    <tr>\n",
       "      <th>2019-10-28</th>\n",
       "      <td>8325.99</td>\n",
       "      <td>8285.77</td>\n",
       "      <td>8335.56</td>\n",
       "      <td>8285.27</td>\n",
       "    </tr>\n",
       "  </tbody>\n",
       "</table>\n",
       "</div>"
      ],
      "text/plain": [
       "            Close/Last     Open     High      Low\n",
       "Date                                             \n",
       "2019-11-01     8386.40  8335.05  8386.75  8326.56\n",
       "2019-10-31     8292.36  8314.38  8321.80  8248.81\n",
       "2019-10-30     8303.98  8284.28  8315.50  8241.70\n",
       "2019-10-29     8276.85  8313.35  8319.29  8275.14\n",
       "2019-10-28     8325.99  8285.77  8335.56  8285.27"
      ]
     },
     "execution_count": 10,
     "metadata": {},
     "output_type": "execute_result"
    }
   ],
   "source": [
    "data_NASDAQ.head()\n",
    "data_NASDAQ.tail()"
   ]
  },
  {
   "cell_type": "code",
   "execution_count": 11,
   "metadata": {},
   "outputs": [
    {
     "data": {
      "text/html": [
       "<div>\n",
       "<style scoped>\n",
       "    .dataframe tbody tr th:only-of-type {\n",
       "        vertical-align: middle;\n",
       "    }\n",
       "\n",
       "    .dataframe tbody tr th {\n",
       "        vertical-align: top;\n",
       "    }\n",
       "\n",
       "    .dataframe thead th {\n",
       "        text-align: right;\n",
       "    }\n",
       "</style>\n",
       "<table border=\"1\" class=\"dataframe\">\n",
       "  <thead>\n",
       "    <tr style=\"text-align: right;\">\n",
       "      <th></th>\n",
       "      <th>Close/Last</th>\n",
       "      <th>Open</th>\n",
       "      <th>High</th>\n",
       "      <th>Low</th>\n",
       "    </tr>\n",
       "    <tr>\n",
       "      <th>Date</th>\n",
       "      <th></th>\n",
       "      <th></th>\n",
       "      <th></th>\n",
       "      <th></th>\n",
       "    </tr>\n",
       "  </thead>\n",
       "  <tbody>\n",
       "    <tr>\n",
       "      <th>2024-10-25</th>\n",
       "      <td>5808.12</td>\n",
       "      <td>5826.75</td>\n",
       "      <td>5862.82</td>\n",
       "      <td>5799.98</td>\n",
       "    </tr>\n",
       "    <tr>\n",
       "      <th>2024-10-24</th>\n",
       "      <td>5809.86</td>\n",
       "      <td>5817.80</td>\n",
       "      <td>5817.80</td>\n",
       "      <td>5784.92</td>\n",
       "    </tr>\n",
       "    <tr>\n",
       "      <th>2024-10-23</th>\n",
       "      <td>5797.42</td>\n",
       "      <td>5834.50</td>\n",
       "      <td>5834.85</td>\n",
       "      <td>5762.41</td>\n",
       "    </tr>\n",
       "    <tr>\n",
       "      <th>2024-10-22</th>\n",
       "      <td>5851.20</td>\n",
       "      <td>5832.70</td>\n",
       "      <td>5863.04</td>\n",
       "      <td>5821.17</td>\n",
       "    </tr>\n",
       "    <tr>\n",
       "      <th>2024-10-21</th>\n",
       "      <td>5853.98</td>\n",
       "      <td>5857.82</td>\n",
       "      <td>5866.92</td>\n",
       "      <td>5824.79</td>\n",
       "    </tr>\n",
       "  </tbody>\n",
       "</table>\n",
       "</div>"
      ],
      "text/plain": [
       "            Close/Last     Open     High      Low\n",
       "Date                                             \n",
       "2024-10-25     5808.12  5826.75  5862.82  5799.98\n",
       "2024-10-24     5809.86  5817.80  5817.80  5784.92\n",
       "2024-10-23     5797.42  5834.50  5834.85  5762.41\n",
       "2024-10-22     5851.20  5832.70  5863.04  5821.17\n",
       "2024-10-21     5853.98  5857.82  5866.92  5824.79"
      ]
     },
     "execution_count": 11,
     "metadata": {},
     "output_type": "execute_result"
    },
    {
     "data": {
      "text/html": [
       "<div>\n",
       "<style scoped>\n",
       "    .dataframe tbody tr th:only-of-type {\n",
       "        vertical-align: middle;\n",
       "    }\n",
       "\n",
       "    .dataframe tbody tr th {\n",
       "        vertical-align: top;\n",
       "    }\n",
       "\n",
       "    .dataframe thead th {\n",
       "        text-align: right;\n",
       "    }\n",
       "</style>\n",
       "<table border=\"1\" class=\"dataframe\">\n",
       "  <thead>\n",
       "    <tr style=\"text-align: right;\">\n",
       "      <th></th>\n",
       "      <th>Close/Last</th>\n",
       "      <th>Open</th>\n",
       "      <th>High</th>\n",
       "      <th>Low</th>\n",
       "    </tr>\n",
       "    <tr>\n",
       "      <th>Date</th>\n",
       "      <th></th>\n",
       "      <th></th>\n",
       "      <th></th>\n",
       "      <th></th>\n",
       "    </tr>\n",
       "  </thead>\n",
       "  <tbody>\n",
       "    <tr>\n",
       "      <th>2019-11-01</th>\n",
       "      <td>3066.91</td>\n",
       "      <td>3050.72</td>\n",
       "      <td>3066.95</td>\n",
       "      <td>3050.72</td>\n",
       "    </tr>\n",
       "    <tr>\n",
       "      <th>2019-10-31</th>\n",
       "      <td>3037.56</td>\n",
       "      <td>3046.90</td>\n",
       "      <td>3046.90</td>\n",
       "      <td>3023.19</td>\n",
       "    </tr>\n",
       "    <tr>\n",
       "      <th>2019-10-30</th>\n",
       "      <td>3046.77</td>\n",
       "      <td>3039.74</td>\n",
       "      <td>3050.10</td>\n",
       "      <td>3025.96</td>\n",
       "    </tr>\n",
       "    <tr>\n",
       "      <th>2019-10-29</th>\n",
       "      <td>3036.89</td>\n",
       "      <td>3035.39</td>\n",
       "      <td>3047.87</td>\n",
       "      <td>3034.81</td>\n",
       "    </tr>\n",
       "    <tr>\n",
       "      <th>2019-10-28</th>\n",
       "      <td>3039.42</td>\n",
       "      <td>3032.12</td>\n",
       "      <td>3044.08</td>\n",
       "      <td>3032.12</td>\n",
       "    </tr>\n",
       "  </tbody>\n",
       "</table>\n",
       "</div>"
      ],
      "text/plain": [
       "            Close/Last     Open     High      Low\n",
       "Date                                             \n",
       "2019-11-01     3066.91  3050.72  3066.95  3050.72\n",
       "2019-10-31     3037.56  3046.90  3046.90  3023.19\n",
       "2019-10-30     3046.77  3039.74  3050.10  3025.96\n",
       "2019-10-29     3036.89  3035.39  3047.87  3034.81\n",
       "2019-10-28     3039.42  3032.12  3044.08  3032.12"
      ]
     },
     "execution_count": 11,
     "metadata": {},
     "output_type": "execute_result"
    }
   ],
   "source": [
    "data_SP500.head()\n",
    "data_SP500.tail()"
   ]
  },
  {
   "cell_type": "markdown",
   "metadata": {},
   "source": [
    "## Q1, General Investigations on NASDAQ"
   ]
  },
  {
   "cell_type": "markdown",
   "metadata": {},
   "source": [
    "### Q1.1, What's the highest Closing price for NASDAQ ? Show Date and the Closing price. (4 pts)"
   ]
  },
  {
   "cell_type": "code",
   "execution_count": null,
   "metadata": {},
   "outputs": [],
   "source": []
  },
  {
   "cell_type": "markdown",
   "metadata": {},
   "source": [
    "### Q1.2, Which day NASDAQ has the highest fluctuation within one trading day ? Show the date and the amount. (4 pts)\n",
    "Hint: fluctuation is the price change within one day"
   ]
  },
  {
   "cell_type": "code",
   "execution_count": null,
   "metadata": {},
   "outputs": [],
   "source": []
  },
  {
   "cell_type": "markdown",
   "metadata": {},
   "source": [
    "### Q1.3, How many trading days NASDAQ's *Close/Last* price are higher than *Open* price ? (4 pts)"
   ]
  },
  {
   "cell_type": "code",
   "execution_count": null,
   "metadata": {},
   "outputs": [],
   "source": []
  },
  {
   "cell_type": "markdown",
   "metadata": {},
   "source": [
    "### Q1.4, Consider only the data from 2023-01-01 to 2023-12-31(both included), total how many trading days in this window ? (4 pts)"
   ]
  },
  {
   "cell_type": "code",
   "execution_count": null,
   "metadata": {},
   "outputs": [],
   "source": []
  },
  {
   "cell_type": "markdown",
   "metadata": {},
   "source": [
    "## Q2, Stock Charts "
   ]
  },
  {
   "cell_type": "markdown",
   "metadata": {},
   "source": [
    "### Q2.1, Plot both NASDAQ and S&P500 two stocks' *Close/Last* price in one chart with proper legend and title. (5 pts)\n",
    "Note: Use blue for NASDAQ, red for SP500"
   ]
  },
  {
   "cell_type": "code",
   "execution_count": null,
   "metadata": {},
   "outputs": [],
   "source": []
  },
  {
   "cell_type": "markdown",
   "metadata": {},
   "source": [
    "### Q2.2, Normalize the values and plot these two stocks' Close/Last price in one chart again with proper legend and title. (5 pts)\n",
    "Hint: **Normalize** means all values divided by their initial value"
   ]
  },
  {
   "cell_type": "code",
   "execution_count": null,
   "metadata": {},
   "outputs": [],
   "source": []
  },
  {
   "cell_type": "markdown",
   "metadata": {},
   "source": [
    "## Q3, Investment Strategies"
   ]
  },
  {
   "cell_type": "markdown",
   "metadata": {},
   "source": [
    "### 3.1, Consider only the NASDAQ Stock, with this investment strategy: buy whenever the price goes above the 30-day moving average, and then sell after 10 trading sessions. How much profit ratio would we make on average? (5 pts)\n",
    "Hint: The initial value is the close price at the oldest date "
   ]
  },
  {
   "cell_type": "code",
   "execution_count": null,
   "metadata": {},
   "outputs": [],
   "source": []
  },
  {
   "cell_type": "markdown",
   "metadata": {},
   "source": [
    "### Q3.2, Use above question's profit ratio(no hard-coding). If we use $1000 to start with this investiment strategy, what will be the end profit in dollar amount ? (5 pts)"
   ]
  },
  {
   "cell_type": "code",
   "execution_count": null,
   "metadata": {},
   "outputs": [],
   "source": []
  },
  {
   "cell_type": "markdown",
   "metadata": {},
   "source": [
    "# Now let's work on the 2nd data set, Boston police intervention records."
   ]
  },
  {
   "cell_type": "code",
   "execution_count": 49,
   "metadata": {},
   "outputs": [],
   "source": [
    "df = pd.read_csv('Intervention-v1.csv',index_col='DATE')\n",
    "df.index = df.index.astype('datetime64[s]')"
   ]
  },
  {
   "cell_type": "code",
   "execution_count": 50,
   "metadata": {
    "scrolled": true
   },
   "outputs": [
    {
     "data": {
      "text/html": [
       "<div>\n",
       "<style scoped>\n",
       "    .dataframe tbody tr th:only-of-type {\n",
       "        vertical-align: middle;\n",
       "    }\n",
       "\n",
       "    .dataframe tbody tr th {\n",
       "        vertical-align: top;\n",
       "    }\n",
       "\n",
       "    .dataframe thead th {\n",
       "        text-align: right;\n",
       "    }\n",
       "</style>\n",
       "<table border=\"1\" class=\"dataframe\">\n",
       "  <thead>\n",
       "    <tr style=\"text-align: right;\">\n",
       "      <th></th>\n",
       "      <th>CITY</th>\n",
       "      <th>REASONS</th>\n",
       "      <th>SUBJECT_AGE</th>\n",
       "      <th>SUBJECT_VEHICLE</th>\n",
       "      <th>SUBJECT_GENDER</th>\n",
       "      <th>SUBJECT_ETHNICITY</th>\n",
       "      <th>SUBJECT_CLOTHING</th>\n",
       "      <th>OFFICER_ID</th>\n",
       "    </tr>\n",
       "    <tr>\n",
       "      <th>DATE</th>\n",
       "      <th></th>\n",
       "      <th></th>\n",
       "      <th></th>\n",
       "      <th></th>\n",
       "      <th></th>\n",
       "      <th></th>\n",
       "      <th></th>\n",
       "      <th></th>\n",
       "    </tr>\n",
       "  </thead>\n",
       "  <tbody>\n",
       "    <tr>\n",
       "      <th>2013-12-10</th>\n",
       "      <td>NaN</td>\n",
       "      <td>DRUGS, INVESTIGATION</td>\n",
       "      <td>59</td>\n",
       "      <td>NISSAN</td>\n",
       "      <td>MALE</td>\n",
       "      <td>B(Black)</td>\n",
       "      <td>blk jacket, blk shirt, blue jeans, wht sneakers</td>\n",
       "      <td>98656</td>\n",
       "    </tr>\n",
       "    <tr>\n",
       "      <th>2012-05-24</th>\n",
       "      <td>OTHER</td>\n",
       "      <td>DRUGS, POSSESSION</td>\n",
       "      <td>26</td>\n",
       "      <td>NO DATA ENTERED</td>\n",
       "      <td>MALE</td>\n",
       "      <td>W(White)</td>\n",
       "      <td>GRY. SWEATSHIRT, BLUE JEANS</td>\n",
       "      <td>9765</td>\n",
       "    </tr>\n",
       "    <tr>\n",
       "      <th>2012-06-04</th>\n",
       "      <td>NaN</td>\n",
       "      <td>INVESTIGATE, PERSON</td>\n",
       "      <td>18</td>\n",
       "      <td>NO DATA ENTERED</td>\n",
       "      <td>MALE</td>\n",
       "      <td>B(Black)</td>\n",
       "      <td>GRY SWEATSHIRT, GRY PANTS</td>\n",
       "      <td>83575</td>\n",
       "    </tr>\n",
       "    <tr>\n",
       "      <th>2014-06-21</th>\n",
       "      <td>Dorchester</td>\n",
       "      <td>ABDW</td>\n",
       "      <td>24</td>\n",
       "      <td>NO DATA ENTERED</td>\n",
       "      <td>MALE</td>\n",
       "      <td>B(Black)</td>\n",
       "      <td>lime green shirt, blue jeans</td>\n",
       "      <td>76146</td>\n",
       "    </tr>\n",
       "    <tr>\n",
       "      <th>2010-12-02</th>\n",
       "      <td>Dorchester</td>\n",
       "      <td>VAL</td>\n",
       "      <td>70</td>\n",
       "      <td>SATURN</td>\n",
       "      <td>MALE</td>\n",
       "      <td>B(Black)</td>\n",
       "      <td>BLU DOWN VEST BLU PANTS</td>\n",
       "      <td>107106</td>\n",
       "    </tr>\n",
       "  </tbody>\n",
       "</table>\n",
       "</div>"
      ],
      "text/plain": [
       "                  CITY               REASONS  SUBJECT_AGE  SUBJECT_VEHICLE  \\\n",
       "DATE                                                                         \n",
       "2013-12-10         NaN  DRUGS, INVESTIGATION           59           NISSAN   \n",
       "2012-05-24       OTHER     DRUGS, POSSESSION           26  NO DATA ENTERED   \n",
       "2012-06-04         NaN   INVESTIGATE, PERSON           18  NO DATA ENTERED   \n",
       "2014-06-21  Dorchester                  ABDW           24  NO DATA ENTERED   \n",
       "2010-12-02  Dorchester                   VAL           70           SATURN   \n",
       "\n",
       "           SUBJECT_GENDER SUBJECT_ETHNICITY  \\\n",
       "DATE                                          \n",
       "2013-12-10           MALE          B(Black)   \n",
       "2012-05-24           MALE          W(White)   \n",
       "2012-06-04           MALE          B(Black)   \n",
       "2014-06-21           MALE          B(Black)   \n",
       "2010-12-02           MALE          B(Black)   \n",
       "\n",
       "                                           SUBJECT_CLOTHING  OFFICER_ID  \n",
       "DATE                                                                     \n",
       "2013-12-10  blk jacket, blk shirt, blue jeans, wht sneakers       98656  \n",
       "2012-05-24                      GRY. SWEATSHIRT, BLUE JEANS        9765  \n",
       "2012-06-04                        GRY SWEATSHIRT, GRY PANTS       83575  \n",
       "2014-06-21                     lime green shirt, blue jeans       76146  \n",
       "2010-12-02                          BLU DOWN VEST BLU PANTS      107106  "
      ]
     },
     "execution_count": 50,
     "metadata": {},
     "output_type": "execute_result"
    }
   ],
   "source": [
    "df.head()"
   ]
  },
  {
   "cell_type": "markdown",
   "metadata": {},
   "source": [
    "## Data Description"
   ]
  },
  {
   "cell_type": "markdown",
   "metadata": {},
   "source": [
    "The data set reports information on police interventions near Boston (one intervention per row). During an intervention, a police officer (identified by an OFFICER_ID), records information on a subject suspected to be violating the law.\n",
    "\n",
    "#### Columns:\n",
    "<ul>\n",
    "<li><b>DATE</b>: the date of the intervention\n",
    "<li><b>CITY</b>: the city where the intervention occurred\n",
    "<li><b>REASONS</b>: a comma-separated list of reasons why the officer intervened\n",
    "<li><b>SUBJECT_AGE</b>: the age of the subject suspected to be violating the law\n",
    "<li><b>SUBJECT_VEHICLE</b>: the subject's vehicle's car maker\n",
    "<li><b>SUBJECT_GENDER</b>: the subject's gender\n",
    "<li><b>SUBJECT_ETHNICITY</b>: the subject's ethnicity\n",
    "<li><b>SUBJECT_CLOTHING</b>: a comma-separated list of clothes worn by the subject\n",
    "<li><b>OFFICER_ID</b>: the id of the officer performing the intevention\n",
    "</ul>"
   ]
  },
  {
   "cell_type": "markdown",
   "metadata": {},
   "source": [
    "## Question 4 - General Investigation"
   ]
  },
  {
   "cell_type": "markdown",
   "metadata": {},
   "source": [
    "### 4.1, How many interventions in this dats set? And how many interventions occurred in 'South Boston'? (4 pts)"
   ]
  },
  {
   "cell_type": "code",
   "execution_count": null,
   "metadata": {},
   "outputs": [],
   "source": []
  },
  {
   "cell_type": "markdown",
   "metadata": {},
   "source": [
    "### 4.2, How many different police officer in this data set ? (4 pts)"
   ]
  },
  {
   "cell_type": "code",
   "execution_count": null,
   "metadata": {},
   "outputs": [],
   "source": []
  },
  {
   "cell_type": "markdown",
   "metadata": {},
   "source": [
    "### 4.3, What's the top 5 cities which has the highest interventions? Show the city name and their interventions count in descending order. (4 pts)"
   ]
  },
  {
   "cell_type": "code",
   "execution_count": null,
   "metadata": {},
   "outputs": [],
   "source": []
  },
  {
   "cell_type": "markdown",
   "metadata": {},
   "source": [
    "## Question 5, General Investigation - cont."
   ]
  },
  {
   "cell_type": "markdown",
   "metadata": {},
   "source": [
    "### 5.1, Which column has the most Nan in it and how many Nan ? (4 pts)"
   ]
  },
  {
   "cell_type": "code",
   "execution_count": null,
   "metadata": {},
   "outputs": [],
   "source": []
  },
  {
   "cell_type": "markdown",
   "metadata": {},
   "source": [
    "### 5.2, There are some rows has incorrect date entry(the DATEs are in the future compare to today's date '2024-10-31'. How many rows has this type of error? (4 pts)"
   ]
  },
  {
   "cell_type": "code",
   "execution_count": null,
   "metadata": {},
   "outputs": [],
   "source": []
  },
  {
   "cell_type": "markdown",
   "metadata": {},
   "source": [
    "### 5.3, There are some rows' *SUBJECT_AGE* entry with age = -1 . How many rows has this type of error? replace those '-1' with '0' then report the total number of rows with *SUBJECT_AGE* = 0. (4 pts)"
   ]
  },
  {
   "cell_type": "code",
   "execution_count": null,
   "metadata": {},
   "outputs": [],
   "source": []
  },
  {
   "cell_type": "markdown",
   "metadata": {},
   "source": [
    "## Question 6, ETHNICITY Investigation"
   ]
  },
  {
   "cell_type": "markdown",
   "metadata": {},
   "source": [
    "### 6.1, For each *SUBJECT_ETHNICITY*, what the total interventions number? Show the ethnicity and their total intervention numbers in decending order. (5 pts)"
   ]
  },
  {
   "cell_type": "code",
   "execution_count": null,
   "metadata": {},
   "outputs": [],
   "source": []
  },
  {
   "cell_type": "markdown",
   "metadata": {},
   "source": [
    "### 6.2, What *SUBJECT_ETHNICITY* has the highest average *SUBJECT_AGE*? Report the ethnicity and its aveage age. (5 pts)"
   ]
  },
  {
   "cell_type": "code",
   "execution_count": null,
   "metadata": {},
   "outputs": [],
   "source": []
  },
  {
   "cell_type": "markdown",
   "metadata": {},
   "source": [
    "## Question 7, Intervention Reasons"
   ]
  },
  {
   "cell_type": "markdown",
   "metadata": {},
   "source": [
    "### 7.1, What's the top 5 reasons for police interventions ? (5 pts)"
   ]
  },
  {
   "cell_type": "code",
   "execution_count": null,
   "metadata": {},
   "outputs": [],
   "source": []
  },
  {
   "cell_type": "markdown",
   "metadata": {},
   "source": [
    "### 7.2, What is the proportion of interventions whose *REASONS* include FIREARM or DRUGS? You must only return one number between 0 and 1. Do not round it. (5 pts)"
   ]
  },
  {
   "cell_type": "code",
   "execution_count": null,
   "metadata": {},
   "outputs": [],
   "source": []
  },
  {
   "cell_type": "markdown",
   "metadata": {},
   "source": [
    "## Question 8, Gender and Age Investigation"
   ]
  },
  {
   "cell_type": "markdown",
   "metadata": {},
   "source": [
    "### Q8.1, Based on *SUBJECT_GENDER*,  consider only *SUBJECT_AGE* between 15 to 100(both 15 and 100 are included).Show each group's average age in one table(5 pts). "
   ]
  },
  {
   "cell_type": "code",
   "execution_count": null,
   "metadata": {},
   "outputs": [],
   "source": []
  },
  {
   "cell_type": "markdown",
   "metadata": {},
   "source": [
    "### Q8.2, Based on above queston, Show each group's age maximum, minimum and the gap between max and min(call that gap 'age_spread') in one table. (5 pts)"
   ]
  },
  {
   "cell_type": "code",
   "execution_count": null,
   "metadata": {},
   "outputs": [],
   "source": []
  },
  {
   "cell_type": "markdown",
   "metadata": {},
   "source": [
    "## Question 9, Vehicle Investigation"
   ]
  },
  {
   "cell_type": "markdown",
   "metadata": {},
   "source": [
    "### For each OFFICER_ID, find the number of interventions whose SUBJECT_VEHICLE is a HONDA or a BMW. Call these columns N_HONDA and N_BMW, respectively. Display the result table's first 5 rows based on N_HONDA in descending order. (10 pts)"
   ]
  },
  {
   "cell_type": "code",
   "execution_count": null,
   "metadata": {},
   "outputs": [],
   "source": []
  }
 ],
 "metadata": {
  "kernelspec": {
   "display_name": "Python 3 (ipykernel)",
   "language": "python",
   "name": "python3"
  },
  "language_info": {
   "codemirror_mode": {
    "name": "ipython",
    "version": 3
   },
   "file_extension": ".py",
   "mimetype": "text/x-python",
   "name": "python",
   "nbconvert_exporter": "python",
   "pygments_lexer": "ipython3",
   "version": "3.12.2"
  }
 },
 "nbformat": 4,
 "nbformat_minor": 4
}
