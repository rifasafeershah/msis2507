{
 "cells": [
  {
   "cell_type": "markdown",
   "metadata": {},
   "source": [
    "# 2024 Fall Data Analytics /w Python 545 Midterm "
   ]
  },
  {
   "cell_type": "markdown",
   "metadata": {},
   "source": [
    "<b>Penalties:</b> You will incur penalties if:\n",
    "<ul>\n",
    "<li>Your code is wrong</li>\n",
    "<li>Your code would not work on different data</li>\n",
    "</ul>\n",
    "\n",
    "### Any forms of cheating will lead to 0 pt for this test!"
   ]
  },
  {
   "cell_type": "markdown",
   "metadata": {},
   "source": [
    "### There are 3 data sets for this test. First two are related to stock index, which should be  used for Q1 to Q3. The 3rd data set is Boston area police interventions record, which should be use to answer the rest of the questions."
   ]
  },
  {
   "cell_type": "markdown",
   "metadata": {},
   "source": [
    "###  For Q1 to Q3:\n",
    "<b>Stock History info for NASDAQ and S&P500  for the last 5 years:</b>  NASDAQ_COMP_5Y.csv  and SP500_SPX_5Y.csv\n"
   ]
  },
  {
   "cell_type": "code",
   "execution_count": 5,
   "metadata": {},
   "outputs": [],
   "source": [
    "# print all the outputs in a cell\n",
    "from IPython.core.interactiveshell import InteractiveShell\n",
    "InteractiveShell.ast_node_interactivity = \"all\""
   ]
  },
  {
   "cell_type": "markdown",
   "metadata": {},
   "source": [
    "The following code creates a Series object <i>stock</i> based on GOOGL.csv file. Index is the date and the variable is the Google stock closing prices. "
   ]
  },
  {
   "cell_type": "code",
   "execution_count": 7,
   "metadata": {},
   "outputs": [],
   "source": [
    "import pandas as pd\n",
    "import numpy as np\n",
    "import matplotlib.pyplot as plt"
   ]
  },
  {
   "cell_type": "code",
   "execution_count": 8,
   "metadata": {},
   "outputs": [],
   "source": [
    "# Load NASDAQ\n",
    "data_NASDAQ = pd.read_csv('NASDAQ_COMP_5Y.csv',index_col=0)\n",
    "data_NASDAQ.index = data_NASDAQ.index.astype('datetime64[ns]')"
   ]
  },
  {
   "cell_type": "code",
   "execution_count": 9,
   "metadata": {},
   "outputs": [],
   "source": [
    "# Load S&P500\n",
    "data_SP500 = pd.read_csv('SP500_SPX_5Y.csv',index_col=0)\n",
    "data_SP500.index = data_SP500.index.astype('datetime64[ns]')"
   ]
  },
  {
   "cell_type": "code",
   "execution_count": 10,
   "metadata": {},
   "outputs": [
    {
     "data": {
      "text/html": [
       "<div>\n",
       "<style scoped>\n",
       "    .dataframe tbody tr th:only-of-type {\n",
       "        vertical-align: middle;\n",
       "    }\n",
       "\n",
       "    .dataframe tbody tr th {\n",
       "        vertical-align: top;\n",
       "    }\n",
       "\n",
       "    .dataframe thead th {\n",
       "        text-align: right;\n",
       "    }\n",
       "</style>\n",
       "<table border=\"1\" class=\"dataframe\">\n",
       "  <thead>\n",
       "    <tr style=\"text-align: right;\">\n",
       "      <th></th>\n",
       "      <th>Close/Last</th>\n",
       "      <th>Open</th>\n",
       "      <th>High</th>\n",
       "      <th>Low</th>\n",
       "    </tr>\n",
       "    <tr>\n",
       "      <th>Date</th>\n",
       "      <th></th>\n",
       "      <th></th>\n",
       "      <th></th>\n",
       "      <th></th>\n",
       "    </tr>\n",
       "  </thead>\n",
       "  <tbody>\n",
       "    <tr>\n",
       "      <th>2024-10-25</th>\n",
       "      <td>18518.61</td>\n",
       "      <td>18512.58</td>\n",
       "      <td>18690.01</td>\n",
       "      <td>18487.06</td>\n",
       "    </tr>\n",
       "    <tr>\n",
       "      <th>2024-10-24</th>\n",
       "      <td>18415.49</td>\n",
       "      <td>18384.15</td>\n",
       "      <td>18435.37</td>\n",
       "      <td>18305.42</td>\n",
       "    </tr>\n",
       "    <tr>\n",
       "      <th>2024-10-23</th>\n",
       "      <td>18276.65</td>\n",
       "      <td>18502.06</td>\n",
       "      <td>18509.19</td>\n",
       "      <td>18146.61</td>\n",
       "    </tr>\n",
       "    <tr>\n",
       "      <th>2024-10-22</th>\n",
       "      <td>18573.13</td>\n",
       "      <td>18451.86</td>\n",
       "      <td>18620.71</td>\n",
       "      <td>18413.47</td>\n",
       "    </tr>\n",
       "    <tr>\n",
       "      <th>2024-10-21</th>\n",
       "      <td>18540.00</td>\n",
       "      <td>18456.48</td>\n",
       "      <td>18543.58</td>\n",
       "      <td>18377.62</td>\n",
       "    </tr>\n",
       "  </tbody>\n",
       "</table>\n",
       "</div>"
      ],
      "text/plain": [
       "            Close/Last      Open      High       Low\n",
       "Date                                                \n",
       "2024-10-25    18518.61  18512.58  18690.01  18487.06\n",
       "2024-10-24    18415.49  18384.15  18435.37  18305.42\n",
       "2024-10-23    18276.65  18502.06  18509.19  18146.61\n",
       "2024-10-22    18573.13  18451.86  18620.71  18413.47\n",
       "2024-10-21    18540.00  18456.48  18543.58  18377.62"
      ]
     },
     "execution_count": 10,
     "metadata": {},
     "output_type": "execute_result"
    },
    {
     "data": {
      "text/html": [
       "<div>\n",
       "<style scoped>\n",
       "    .dataframe tbody tr th:only-of-type {\n",
       "        vertical-align: middle;\n",
       "    }\n",
       "\n",
       "    .dataframe tbody tr th {\n",
       "        vertical-align: top;\n",
       "    }\n",
       "\n",
       "    .dataframe thead th {\n",
       "        text-align: right;\n",
       "    }\n",
       "</style>\n",
       "<table border=\"1\" class=\"dataframe\">\n",
       "  <thead>\n",
       "    <tr style=\"text-align: right;\">\n",
       "      <th></th>\n",
       "      <th>Close/Last</th>\n",
       "      <th>Open</th>\n",
       "      <th>High</th>\n",
       "      <th>Low</th>\n",
       "    </tr>\n",
       "    <tr>\n",
       "      <th>Date</th>\n",
       "      <th></th>\n",
       "      <th></th>\n",
       "      <th></th>\n",
       "      <th></th>\n",
       "    </tr>\n",
       "  </thead>\n",
       "  <tbody>\n",
       "    <tr>\n",
       "      <th>2019-11-01</th>\n",
       "      <td>8386.40</td>\n",
       "      <td>8335.05</td>\n",
       "      <td>8386.75</td>\n",
       "      <td>8326.56</td>\n",
       "    </tr>\n",
       "    <tr>\n",
       "      <th>2019-10-31</th>\n",
       "      <td>8292.36</td>\n",
       "      <td>8314.38</td>\n",
       "      <td>8321.80</td>\n",
       "      <td>8248.81</td>\n",
       "    </tr>\n",
       "    <tr>\n",
       "      <th>2019-10-30</th>\n",
       "      <td>8303.98</td>\n",
       "      <td>8284.28</td>\n",
       "      <td>8315.50</td>\n",
       "      <td>8241.70</td>\n",
       "    </tr>\n",
       "    <tr>\n",
       "      <th>2019-10-29</th>\n",
       "      <td>8276.85</td>\n",
       "      <td>8313.35</td>\n",
       "      <td>8319.29</td>\n",
       "      <td>8275.14</td>\n",
       "    </tr>\n",
       "    <tr>\n",
       "      <th>2019-10-28</th>\n",
       "      <td>8325.99</td>\n",
       "      <td>8285.77</td>\n",
       "      <td>8335.56</td>\n",
       "      <td>8285.27</td>\n",
       "    </tr>\n",
       "  </tbody>\n",
       "</table>\n",
       "</div>"
      ],
      "text/plain": [
       "            Close/Last     Open     High      Low\n",
       "Date                                             \n",
       "2019-11-01     8386.40  8335.05  8386.75  8326.56\n",
       "2019-10-31     8292.36  8314.38  8321.80  8248.81\n",
       "2019-10-30     8303.98  8284.28  8315.50  8241.70\n",
       "2019-10-29     8276.85  8313.35  8319.29  8275.14\n",
       "2019-10-28     8325.99  8285.77  8335.56  8285.27"
      ]
     },
     "execution_count": 10,
     "metadata": {},
     "output_type": "execute_result"
    }
   ],
   "source": [
    "data_NASDAQ.head()\n",
    "data_NASDAQ.tail()"
   ]
  },
  {
   "cell_type": "code",
   "execution_count": 11,
   "metadata": {},
   "outputs": [
    {
     "data": {
      "text/html": [
       "<div>\n",
       "<style scoped>\n",
       "    .dataframe tbody tr th:only-of-type {\n",
       "        vertical-align: middle;\n",
       "    }\n",
       "\n",
       "    .dataframe tbody tr th {\n",
       "        vertical-align: top;\n",
       "    }\n",
       "\n",
       "    .dataframe thead th {\n",
       "        text-align: right;\n",
       "    }\n",
       "</style>\n",
       "<table border=\"1\" class=\"dataframe\">\n",
       "  <thead>\n",
       "    <tr style=\"text-align: right;\">\n",
       "      <th></th>\n",
       "      <th>Close/Last</th>\n",
       "      <th>Open</th>\n",
       "      <th>High</th>\n",
       "      <th>Low</th>\n",
       "    </tr>\n",
       "    <tr>\n",
       "      <th>Date</th>\n",
       "      <th></th>\n",
       "      <th></th>\n",
       "      <th></th>\n",
       "      <th></th>\n",
       "    </tr>\n",
       "  </thead>\n",
       "  <tbody>\n",
       "    <tr>\n",
       "      <th>2024-10-25</th>\n",
       "      <td>5808.12</td>\n",
       "      <td>5826.75</td>\n",
       "      <td>5862.82</td>\n",
       "      <td>5799.98</td>\n",
       "    </tr>\n",
       "    <tr>\n",
       "      <th>2024-10-24</th>\n",
       "      <td>5809.86</td>\n",
       "      <td>5817.80</td>\n",
       "      <td>5817.80</td>\n",
       "      <td>5784.92</td>\n",
       "    </tr>\n",
       "    <tr>\n",
       "      <th>2024-10-23</th>\n",
       "      <td>5797.42</td>\n",
       "      <td>5834.50</td>\n",
       "      <td>5834.85</td>\n",
       "      <td>5762.41</td>\n",
       "    </tr>\n",
       "    <tr>\n",
       "      <th>2024-10-22</th>\n",
       "      <td>5851.20</td>\n",
       "      <td>5832.70</td>\n",
       "      <td>5863.04</td>\n",
       "      <td>5821.17</td>\n",
       "    </tr>\n",
       "    <tr>\n",
       "      <th>2024-10-21</th>\n",
       "      <td>5853.98</td>\n",
       "      <td>5857.82</td>\n",
       "      <td>5866.92</td>\n",
       "      <td>5824.79</td>\n",
       "    </tr>\n",
       "  </tbody>\n",
       "</table>\n",
       "</div>"
      ],
      "text/plain": [
       "            Close/Last     Open     High      Low\n",
       "Date                                             \n",
       "2024-10-25     5808.12  5826.75  5862.82  5799.98\n",
       "2024-10-24     5809.86  5817.80  5817.80  5784.92\n",
       "2024-10-23     5797.42  5834.50  5834.85  5762.41\n",
       "2024-10-22     5851.20  5832.70  5863.04  5821.17\n",
       "2024-10-21     5853.98  5857.82  5866.92  5824.79"
      ]
     },
     "execution_count": 11,
     "metadata": {},
     "output_type": "execute_result"
    },
    {
     "data": {
      "text/html": [
       "<div>\n",
       "<style scoped>\n",
       "    .dataframe tbody tr th:only-of-type {\n",
       "        vertical-align: middle;\n",
       "    }\n",
       "\n",
       "    .dataframe tbody tr th {\n",
       "        vertical-align: top;\n",
       "    }\n",
       "\n",
       "    .dataframe thead th {\n",
       "        text-align: right;\n",
       "    }\n",
       "</style>\n",
       "<table border=\"1\" class=\"dataframe\">\n",
       "  <thead>\n",
       "    <tr style=\"text-align: right;\">\n",
       "      <th></th>\n",
       "      <th>Close/Last</th>\n",
       "      <th>Open</th>\n",
       "      <th>High</th>\n",
       "      <th>Low</th>\n",
       "    </tr>\n",
       "    <tr>\n",
       "      <th>Date</th>\n",
       "      <th></th>\n",
       "      <th></th>\n",
       "      <th></th>\n",
       "      <th></th>\n",
       "    </tr>\n",
       "  </thead>\n",
       "  <tbody>\n",
       "    <tr>\n",
       "      <th>2019-11-01</th>\n",
       "      <td>3066.91</td>\n",
       "      <td>3050.72</td>\n",
       "      <td>3066.95</td>\n",
       "      <td>3050.72</td>\n",
       "    </tr>\n",
       "    <tr>\n",
       "      <th>2019-10-31</th>\n",
       "      <td>3037.56</td>\n",
       "      <td>3046.90</td>\n",
       "      <td>3046.90</td>\n",
       "      <td>3023.19</td>\n",
       "    </tr>\n",
       "    <tr>\n",
       "      <th>2019-10-30</th>\n",
       "      <td>3046.77</td>\n",
       "      <td>3039.74</td>\n",
       "      <td>3050.10</td>\n",
       "      <td>3025.96</td>\n",
       "    </tr>\n",
       "    <tr>\n",
       "      <th>2019-10-29</th>\n",
       "      <td>3036.89</td>\n",
       "      <td>3035.39</td>\n",
       "      <td>3047.87</td>\n",
       "      <td>3034.81</td>\n",
       "    </tr>\n",
       "    <tr>\n",
       "      <th>2019-10-28</th>\n",
       "      <td>3039.42</td>\n",
       "      <td>3032.12</td>\n",
       "      <td>3044.08</td>\n",
       "      <td>3032.12</td>\n",
       "    </tr>\n",
       "  </tbody>\n",
       "</table>\n",
       "</div>"
      ],
      "text/plain": [
       "            Close/Last     Open     High      Low\n",
       "Date                                             \n",
       "2019-11-01     3066.91  3050.72  3066.95  3050.72\n",
       "2019-10-31     3037.56  3046.90  3046.90  3023.19\n",
       "2019-10-30     3046.77  3039.74  3050.10  3025.96\n",
       "2019-10-29     3036.89  3035.39  3047.87  3034.81\n",
       "2019-10-28     3039.42  3032.12  3044.08  3032.12"
      ]
     },
     "execution_count": 11,
     "metadata": {},
     "output_type": "execute_result"
    }
   ],
   "source": [
    "data_SP500.head()\n",
    "data_SP500.tail()"
   ]
  },
  {
   "cell_type": "markdown",
   "metadata": {},
   "source": [
    "## Q1, General Investigations on NASDAQ"
   ]
  },
  {
   "cell_type": "markdown",
   "metadata": {},
   "source": [
    "### Q1.1, What's the highest Closing price for NASDAQ ? Show Date and the Closing price. (4 pts)"
   ]
  },
  {
   "cell_type": "code",
   "execution_count": 14,
   "metadata": {},
   "outputs": [
    {
     "data": {
      "text/plain": [
       "Date\n",
       "2024-07-10    18647.45\n",
       "Name: Close/Last, dtype: float64"
      ]
     },
     "execution_count": 14,
     "metadata": {},
     "output_type": "execute_result"
    }
   ],
   "source": [
    "data_NASDAQ['Close/Last'].nlargest(1)"
   ]
  },
  {
   "cell_type": "markdown",
   "metadata": {},
   "source": [
    "### Q1.2, Which day NASDAQ has the highest fluctuation within one trading day ? Show the date and the amount. (4 pts)\n",
    "Hint: fluctuation is the price change within one day"
   ]
  },
  {
   "cell_type": "code",
   "execution_count": 16,
   "metadata": {},
   "outputs": [
    {
     "data": {
      "text/plain": [
       "Date\n",
       "2022-02-24    898.23\n",
       "dtype: float64"
      ]
     },
     "execution_count": 16,
     "metadata": {},
     "output_type": "execute_result"
    }
   ],
   "source": [
    "(data_NASDAQ['High'] - data_NASDAQ['Low']).nlargest(1)"
   ]
  },
  {
   "cell_type": "markdown",
   "metadata": {},
   "source": [
    "### Q1.3, How many trading days NASDAQ's *Close/Last* price are higher than *Open* price ? (4 pts)"
   ]
  },
  {
   "cell_type": "code",
   "execution_count": 18,
   "metadata": {},
   "outputs": [
    {
     "data": {
      "text/plain": [
       "687"
      ]
     },
     "execution_count": 18,
     "metadata": {},
     "output_type": "execute_result"
    }
   ],
   "source": [
    "len(data_NASDAQ[(data_NASDAQ['Close/Last'] - data_NASDAQ['Open']) > 0])"
   ]
  },
  {
   "cell_type": "markdown",
   "metadata": {},
   "source": [
    "or .."
   ]
  },
  {
   "cell_type": "code",
   "execution_count": 20,
   "metadata": {},
   "outputs": [
    {
     "data": {
      "text/plain": [
       "687"
      ]
     },
     "execution_count": 20,
     "metadata": {},
     "output_type": "execute_result"
    }
   ],
   "source": [
    "((data_NASDAQ['Close/Last'] - data_NASDAQ['Open']) > 0).sum()"
   ]
  },
  {
   "cell_type": "markdown",
   "metadata": {},
   "source": [
    "### Q1.4, Consider only the data from 2023-01-01 to 2023-12-31(both included), total how many trading days in this window ? (4 pts)"
   ]
  },
  {
   "cell_type": "code",
   "execution_count": 22,
   "metadata": {},
   "outputs": [
    {
     "data": {
      "text/plain": [
       "250"
      ]
     },
     "execution_count": 22,
     "metadata": {},
     "output_type": "execute_result"
    }
   ],
   "source": [
    "len(data_NASDAQ[(data_NASDAQ.index >= '2023-01-01') & (data_NASDAQ.index <='2023-12-31')])"
   ]
  },
  {
   "cell_type": "markdown",
   "metadata": {},
   "source": [
    "## Q2, Stock Charts "
   ]
  },
  {
   "cell_type": "markdown",
   "metadata": {},
   "source": [
    "### Q2.1, Plot both NASDAQ and S&P500 two stocks' *Close/Last* price in one chart with proper legend and title. (5 pts)\n",
    "Note: Use blue for NASDAQ, red for SP500"
   ]
  },
  {
   "cell_type": "code",
   "execution_count": 25,
   "metadata": {},
   "outputs": [],
   "source": [
    "NASDAQ_Close = data_NASDAQ['Close/Last']\n",
    "SP500_Close = data_SP500['Close/Last']"
   ]
  },
  {
   "cell_type": "code",
   "execution_count": 26,
   "metadata": {},
   "outputs": [
    {
     "data": {
      "text/plain": [
       "[<matplotlib.lines.Line2D at 0x13d6c4050>]"
      ]
     },
     "execution_count": 26,
     "metadata": {},
     "output_type": "execute_result"
    },
    {
     "data": {
      "text/plain": [
       "[<matplotlib.lines.Line2D at 0x13d6f0830>]"
      ]
     },
     "execution_count": 26,
     "metadata": {},
     "output_type": "execute_result"
    },
    {
     "data": {
      "text/plain": [
       "<matplotlib.legend.Legend at 0x13d695520>"
      ]
     },
     "execution_count": 26,
     "metadata": {},
     "output_type": "execute_result"
    },
    {
     "data": {
      "text/plain": [
       "Text(0.5, 1.0, 'NASDAQ vs SP500')"
      ]
     },
     "execution_count": 26,
     "metadata": {},
     "output_type": "execute_result"
    },
    {
     "data": {
      "image/png": "[encoded data removed]",
      "text/plain": [
       "<Figure size 640x480 with 1 Axes>"
      ]
     },
     "metadata": {},
     "output_type": "display_data"
    }
   ],
   "source": [
    "plt.plot(NASDAQ_Close,'b')  # b for \"blue\"\n",
    "plt.plot(SP500_Close,'r')   # r for \"red\" \n",
    "plt.legend(['NASDAQ','SP500'])\n",
    "plt.title('NASDAQ vs SP500')\n",
    "\n",
    "plt.show()"
   ]
  },
  {
   "cell_type": "markdown",
   "metadata": {},
   "source": [
    "### Q2.2, Normalize the values and plot these two stocks' Close/Last price in one chart again with proper legend and title. (5 pts)\n",
    "Hint: **Normalize** means all values divided by their initial value"
   ]
  },
  {
   "cell_type": "code",
   "execution_count": 28,
   "metadata": {},
   "outputs": [
    {
     "data": {
      "text/plain": [
       "Date\n",
       "2024-10-25    18518.61\n",
       "Name: Close/Last, dtype: float64"
      ]
     },
     "execution_count": 28,
     "metadata": {},
     "output_type": "execute_result"
    },
    {
     "data": {
      "text/plain": [
       "Date\n",
       "2019-10-28    8325.99\n",
       "Name: Close/Last, dtype: float64"
      ]
     },
     "execution_count": 28,
     "metadata": {},
     "output_type": "execute_result"
    }
   ],
   "source": [
    "NASDAQ_Close.head(1)\n",
    "NASDAQ_Close.tail(1)"
   ]
  },
  {
   "cell_type": "code",
   "execution_count": 29,
   "metadata": {},
   "outputs": [
    {
     "data": {
      "text/plain": [
       "Date\n",
       "2024-10-25    5808.12\n",
       "Name: Close/Last, dtype: float64"
      ]
     },
     "execution_count": 29,
     "metadata": {},
     "output_type": "execute_result"
    },
    {
     "data": {
      "text/plain": [
       "Date\n",
       "2019-10-28    3039.42\n",
       "Name: Close/Last, dtype: float64"
      ]
     },
     "execution_count": 29,
     "metadata": {},
     "output_type": "execute_result"
    }
   ],
   "source": [
    "SP500_Close.head(1)\n",
    "SP500_Close.tail(1)"
   ]
  },
  {
   "cell_type": "markdown",
   "metadata": {},
   "source": [
    "#### From the above data set, the **initial** value is at the last row position .iloc[-1]"
   ]
  },
  {
   "cell_type": "code",
   "execution_count": 31,
   "metadata": {},
   "outputs": [
    {
     "data": {
      "text/plain": [
       "Date\n",
       "2024-10-25    2.224193\n",
       "2024-10-24    2.211808\n",
       "2024-10-23    2.195132\n",
       "2024-10-22    2.230741\n",
       "2024-10-21    2.226762\n",
       "                ...   \n",
       "2019-11-01    1.007256\n",
       "2019-10-31    0.995961\n",
       "2019-10-30    0.997356\n",
       "2019-10-29    0.994098\n",
       "2019-10-28    1.000000\n",
       "Name: Close/Last, Length: 1258, dtype: float64"
      ]
     },
     "execution_count": 31,
     "metadata": {},
     "output_type": "execute_result"
    }
   ],
   "source": [
    "NASDAQ_Close / NASDAQ_Close.iloc[-1]"
   ]
  },
  {
   "cell_type": "code",
   "execution_count": 32,
   "metadata": {},
   "outputs": [
    {
     "data": {
      "text/plain": [
       "Date\n",
       "2024-10-25    1.910930\n",
       "2024-10-24    1.911503\n",
       "2024-10-23    1.907410\n",
       "2024-10-22    1.925104\n",
       "2024-10-21    1.926019\n",
       "                ...   \n",
       "2019-11-01    1.009044\n",
       "2019-10-31    0.999388\n",
       "2019-10-30    1.002418\n",
       "2019-10-29    0.999168\n",
       "2019-10-28    1.000000\n",
       "Name: Close/Last, Length: 1258, dtype: float64"
      ]
     },
     "execution_count": 32,
     "metadata": {},
     "output_type": "execute_result"
    }
   ],
   "source": [
    "SP500_Close / SP500_Close.iloc[-1]"
   ]
  },
  {
   "cell_type": "code",
   "execution_count": 33,
   "metadata": {},
   "outputs": [
    {
     "data": {
      "text/plain": [
       "[<matplotlib.lines.Line2D at 0x13d7618e0>]"
      ]
     },
     "execution_count": 33,
     "metadata": {},
     "output_type": "execute_result"
    },
    {
     "data": {
      "text/plain": [
       "[<matplotlib.lines.Line2D at 0x13d725640>]"
      ]
     },
     "execution_count": 33,
     "metadata": {},
     "output_type": "execute_result"
    },
    {
     "data": {
      "text/plain": [
       "<matplotlib.legend.Legend at 0x13d74db50>"
      ]
     },
     "execution_count": 33,
     "metadata": {},
     "output_type": "execute_result"
    },
    {
     "data": {
      "text/plain": [
       "Text(0.5, 1.0, 'Normalized NASDAQ vs SP500')"
      ]
     },
     "execution_count": 33,
     "metadata": {},
     "output_type": "execute_result"
    },
    {
     "data": {
      "image/png": "[encoded data removed]",
      "text/plain": [
       "<Figure size 640x480 with 1 Axes>"
      ]
     },
     "metadata": {},
     "output_type": "display_data"
    }
   ],
   "source": [
    "plt.plot(NASDAQ_Close / NASDAQ_Close.iloc[-1],'b')  # b for \"blue\"\n",
    "plt.plot(SP500_Close / SP500_Close.iloc[-1],'r')   # r for \"red\" \n",
    "plt.legend(['NASDAQ_Normalized','SP500_Normalized'])\n",
    "plt.title('Normalized NASDAQ vs SP500')\n",
    "\n",
    "plt.show()"
   ]
  },
  {
   "cell_type": "markdown",
   "metadata": {},
   "source": [
    "## Q3, Investment Strategies"
   ]
  },
  {
   "cell_type": "markdown",
   "metadata": {},
   "source": [
    "### 3.1, Consider only the NASDAQ Stock, with this investment strategy: buy whenever the price goes above the 30-day moving average, and then sell after 10 trading sessions. How much profit ratio would we make on average? (5 pts)\n",
    "Hint: The initial value is the close price at the oldest date "
   ]
  },
  {
   "cell_type": "code",
   "execution_count": 37,
   "metadata": {},
   "outputs": [],
   "source": [
    "#pd.set_option('display.min_rows', 70)\n",
    "#pd.set_option('display.max_rows', 70)"
   ]
  },
  {
   "cell_type": "markdown",
   "metadata": {},
   "source": [
    "Need to sort the series with initial date at front, latest date at end."
   ]
  },
  {
   "cell_type": "code",
   "execution_count": 39,
   "metadata": {},
   "outputs": [
    {
     "data": {
      "text/plain": [
       "Date\n",
       "2019-10-28    8325.99\n",
       "2019-10-29    8276.85\n",
       "2019-10-30    8303.98\n",
       "2019-10-31    8292.36\n",
       "2019-11-01    8386.40\n",
       "2019-11-04    8433.20\n",
       "2019-11-05    8434.68\n",
       "2019-11-06    8410.63\n",
       "2019-11-07    8434.52\n",
       "2019-11-08    8475.31\n",
       "2019-11-11    8464.28\n",
       "Name: Close/Last, dtype: float64"
      ]
     },
     "execution_count": 39,
     "metadata": {},
     "output_type": "execute_result"
    }
   ],
   "source": [
    "NASDAQ_Close_index_sorted = NASDAQ_Close.sort_index()\n",
    "NASDAQ_Close_index_sorted.head(11)"
   ]
  },
  {
   "cell_type": "markdown",
   "metadata": {},
   "source": [
    "Get the selling price by .shift(-10)"
   ]
  },
  {
   "cell_type": "code",
   "execution_count": 41,
   "metadata": {},
   "outputs": [
    {
     "data": {
      "text/plain": [
       "Date\n",
       "2019-10-28    8464.28\n",
       "Name: Close/Last, dtype: float64"
      ]
     },
     "execution_count": 41,
     "metadata": {},
     "output_type": "execute_result"
    }
   ],
   "source": [
    "NASDAQ_Close_index_sorted.shift(-10).head(1)"
   ]
  },
  {
   "cell_type": "code",
   "execution_count": 42,
   "metadata": {},
   "outputs": [],
   "source": [
    "movavg = NASDAQ_Close_index_sorted.rolling(30).mean()"
   ]
  },
  {
   "cell_type": "code",
   "execution_count": 43,
   "metadata": {},
   "outputs": [],
   "source": [
    "profit = (NASDAQ_Close_index_sorted.shift(-10) - NASDAQ_Close_index_sorted) / NASDAQ_Close_index_sorted"
   ]
  },
  {
   "cell_type": "code",
   "execution_count": 44,
   "metadata": {},
   "outputs": [
    {
     "data": {
      "text/plain": [
       "0.007271232242890075"
      ]
     },
     "execution_count": 44,
     "metadata": {},
     "output_type": "execute_result"
    }
   ],
   "source": [
    "profit_ratio = profit[NASDAQ_Close_index_sorted > movavg].mean() \n",
    "profit_ratio"
   ]
  },
  {
   "cell_type": "markdown",
   "metadata": {},
   "source": [
    "### Q3.2, Use above question's profit ratio(no hard-coding). If we use $1000 to start with this investiment strategy, what will be the end profit in dollar amount ? (5 pts)"
   ]
  },
  {
   "cell_type": "code",
   "execution_count": 46,
   "metadata": {},
   "outputs": [
    {
     "data": {
      "text/plain": [
       "810"
      ]
     },
     "execution_count": 46,
     "metadata": {},
     "output_type": "execute_result"
    }
   ],
   "source": [
    "trading_days = (NASDAQ_Close_index_sorted > movavg).sum()\n",
    "trading_days"
   ]
  },
  {
   "cell_type": "code",
   "execution_count": 47,
   "metadata": {},
   "outputs": [
    {
     "data": {
      "text/plain": [
       "5889.698116740961"
      ]
     },
     "execution_count": 47,
     "metadata": {},
     "output_type": "execute_result"
    }
   ],
   "source": [
    "1000 * trading_days * profit_ratio"
   ]
  },
  {
   "cell_type": "markdown",
   "metadata": {},
   "source": [
    "# Now let's work on the 2nd data set, Boston police intervention records."
   ]
  },
  {
   "cell_type": "code",
   "execution_count": 49,
   "metadata": {},
   "outputs": [],
   "source": [
    "df = pd.read_csv('Intervention-v1.csv',index_col='DATE')\n",
    "df.index = df.index.astype('datetime64[s]')"
   ]
  },
  {
   "cell_type": "code",
   "execution_count": 50,
   "metadata": {
    "scrolled": true
   },
   "outputs": [
    {
     "data": {
      "text/html": [
       "<div>\n",
       "<style scoped>\n",
       "    .dataframe tbody tr th:only-of-type {\n",
       "        vertical-align: middle;\n",
       "    }\n",
       "\n",
       "    .dataframe tbody tr th {\n",
       "        vertical-align: top;\n",
       "    }\n",
       "\n",
       "    .dataframe thead th {\n",
       "        text-align: right;\n",
       "    }\n",
       "</style>\n",
       "<table border=\"1\" class=\"dataframe\">\n",
       "  <thead>\n",
       "    <tr style=\"text-align: right;\">\n",
       "      <th></th>\n",
       "      <th>CITY</th>\n",
       "      <th>REASONS</th>\n",
       "      <th>SUBJECT_AGE</th>\n",
       "      <th>SUBJECT_VEHICLE</th>\n",
       "      <th>SUBJECT_GENDER</th>\n",
       "      <th>SUBJECT_ETHNICITY</th>\n",
       "      <th>SUBJECT_CLOTHING</th>\n",
       "      <th>OFFICER_ID</th>\n",
       "    </tr>\n",
       "    <tr>\n",
       "      <th>DATE</th>\n",
       "      <th></th>\n",
       "      <th></th>\n",
       "      <th></th>\n",
       "      <th></th>\n",
       "      <th></th>\n",
       "      <th></th>\n",
       "      <th></th>\n",
       "      <th></th>\n",
       "    </tr>\n",
       "  </thead>\n",
       "  <tbody>\n",
       "    <tr>\n",
       "      <th>2013-12-10</th>\n",
       "      <td>NaN</td>\n",
       "      <td>DRUGS, INVESTIGATION</td>\n",
       "      <td>59</td>\n",
       "      <td>NISSAN</td>\n",
       "      <td>MALE</td>\n",
       "      <td>B(Black)</td>\n",
       "      <td>blk jacket, blk shirt, blue jeans, wht sneakers</td>\n",
       "      <td>98656</td>\n",
       "    </tr>\n",
       "    <tr>\n",
       "      <th>2012-05-24</th>\n",
       "      <td>OTHER</td>\n",
       "      <td>DRUGS, POSSESSION</td>\n",
       "      <td>26</td>\n",
       "      <td>NO DATA ENTERED</td>\n",
       "      <td>MALE</td>\n",
       "      <td>W(White)</td>\n",
       "      <td>GRY. SWEATSHIRT, BLUE JEANS</td>\n",
       "      <td>9765</td>\n",
       "    </tr>\n",
       "    <tr>\n",
       "      <th>2012-06-04</th>\n",
       "      <td>NaN</td>\n",
       "      <td>INVESTIGATE, PERSON</td>\n",
       "      <td>18</td>\n",
       "      <td>NO DATA ENTERED</td>\n",
       "      <td>MALE</td>\n",
       "      <td>B(Black)</td>\n",
       "      <td>GRY SWEATSHIRT, GRY PANTS</td>\n",
       "      <td>83575</td>\n",
       "    </tr>\n",
       "    <tr>\n",
       "      <th>2014-06-21</th>\n",
       "      <td>Dorchester</td>\n",
       "      <td>ABDW</td>\n",
       "      <td>24</td>\n",
       "      <td>NO DATA ENTERED</td>\n",
       "      <td>MALE</td>\n",
       "      <td>B(Black)</td>\n",
       "      <td>lime green shirt, blue jeans</td>\n",
       "      <td>76146</td>\n",
       "    </tr>\n",
       "    <tr>\n",
       "      <th>2010-12-02</th>\n",
       "      <td>Dorchester</td>\n",
       "      <td>VAL</td>\n",
       "      <td>70</td>\n",
       "      <td>SATURN</td>\n",
       "      <td>MALE</td>\n",
       "      <td>B(Black)</td>\n",
       "      <td>BLU DOWN VEST BLU PANTS</td>\n",
       "      <td>107106</td>\n",
       "    </tr>\n",
       "  </tbody>\n",
       "</table>\n",
       "</div>"
      ],
      "text/plain": [
       "                  CITY               REASONS  SUBJECT_AGE  SUBJECT_VEHICLE  \\\n",
       "DATE                                                                         \n",
       "2013-12-10         NaN  DRUGS, INVESTIGATION           59           NISSAN   \n",
       "2012-05-24       OTHER     DRUGS, POSSESSION           26  NO DATA ENTERED   \n",
       "2012-06-04         NaN   INVESTIGATE, PERSON           18  NO DATA ENTERED   \n",
       "2014-06-21  Dorchester                  ABDW           24  NO DATA ENTERED   \n",
       "2010-12-02  Dorchester                   VAL           70           SATURN   \n",
       "\n",
       "           SUBJECT_GENDER SUBJECT_ETHNICITY  \\\n",
       "DATE                                          \n",
       "2013-12-10           MALE          B(Black)   \n",
       "2012-05-24           MALE          W(White)   \n",
       "2012-06-04           MALE          B(Black)   \n",
       "2014-06-21           MALE          B(Black)   \n",
       "2010-12-02           MALE          B(Black)   \n",
       "\n",
       "                                           SUBJECT_CLOTHING  OFFICER_ID  \n",
       "DATE                                                                     \n",
       "2013-12-10  blk jacket, blk shirt, blue jeans, wht sneakers       98656  \n",
       "2012-05-24                      GRY. SWEATSHIRT, BLUE JEANS        9765  \n",
       "2012-06-04                        GRY SWEATSHIRT, GRY PANTS       83575  \n",
       "2014-06-21                     lime green shirt, blue jeans       76146  \n",
       "2010-12-02                          BLU DOWN VEST BLU PANTS      107106  "
      ]
     },
     "execution_count": 50,
     "metadata": {},
     "output_type": "execute_result"
    }
   ],
   "source": [
    "df.head()"
   ]
  },
  {
   "cell_type": "markdown",
   "metadata": {},
   "source": [
    "## Data Description"
   ]
  },
  {
   "cell_type": "markdown",
   "metadata": {},
   "source": [
    "The data set reports information on police interventions near Boston (one intervention per row). During an intervention, a police officer (identified by an OFFICER_ID), records information on a subject suspected to be violating the law.\n",
    "\n",
    "#### Columns:\n",
    "<ul>\n",
    "<li><b>DATE</b>: the date of the intervention\n",
    "<li><b>CITY</b>: the city where the intervention occurred\n",
    "<li><b>REASONS</b>: a comma-separated list of reasons why the officer intervened\n",
    "<li><b>SUBJECT_AGE</b>: the age of the subject suspected to be violating the law\n",
    "<li><b>SUBJECT_VEHICLE</b>: the subject's vehicle's car maker\n",
    "<li><b>SUBJECT_GENDER</b>: the subject's gender\n",
    "<li><b>SUBJECT_ETHNICITY</b>: the subject's ethnicity\n",
    "<li><b>SUBJECT_CLOTHING</b>: a comma-separated list of clothes worn by the subject\n",
    "<li><b>OFFICER_ID</b>: the id of the officer performing the intevention\n",
    "</ul>"
   ]
  },
  {
   "cell_type": "markdown",
   "metadata": {},
   "source": [
    "## Question 4 - General Investigation"
   ]
  },
  {
   "cell_type": "markdown",
   "metadata": {},
   "source": [
    "### 4.1, How many interventions in this dats set? And how many interventions occurred in 'South Boston'? (4 pts)"
   ]
  },
  {
   "cell_type": "code",
   "execution_count": 55,
   "metadata": {},
   "outputs": [
    {
     "data": {
      "text/plain": [
       "50000"
      ]
     },
     "execution_count": 55,
     "metadata": {},
     "output_type": "execute_result"
    }
   ],
   "source": [
    "len(df)"
   ]
  },
  {
   "cell_type": "code",
   "execution_count": 56,
   "metadata": {},
   "outputs": [
    {
     "data": {
      "text/plain": [
       "1126"
      ]
     },
     "execution_count": 56,
     "metadata": {},
     "output_type": "execute_result"
    }
   ],
   "source": [
    "len(df[df.CITY=='South Boston'])"
   ]
  },
  {
   "cell_type": "markdown",
   "metadata": {},
   "source": [
    "### 4.2, How many different police officer in this data set ? (4 pts)"
   ]
  },
  {
   "cell_type": "code",
   "execution_count": 58,
   "metadata": {},
   "outputs": [
    {
     "data": {
      "text/plain": [
       "1443"
      ]
     },
     "execution_count": 58,
     "metadata": {},
     "output_type": "execute_result"
    }
   ],
   "source": [
    "len(df.OFFICER_ID.unique())"
   ]
  },
  {
   "cell_type": "markdown",
   "metadata": {},
   "source": [
    "or.."
   ]
  },
  {
   "cell_type": "code",
   "execution_count": 60,
   "metadata": {},
   "outputs": [
    {
     "data": {
      "text/plain": [
       "1443"
      ]
     },
     "execution_count": 60,
     "metadata": {},
     "output_type": "execute_result"
    }
   ],
   "source": [
    "df.OFFICER_ID.nunique()"
   ]
  },
  {
   "cell_type": "markdown",
   "metadata": {},
   "source": [
    "### 4.3, What's the top 5 cities which has the highest interventions? Show the city name and their interventions count in descending order. (4 pts)"
   ]
  },
  {
   "cell_type": "code",
   "execution_count": 62,
   "metadata": {},
   "outputs": [
    {
     "data": {
      "text/plain": [
       "CITY\n",
       "Dorchester     6487\n",
       "Boston         5766\n",
       "OTHER          4914\n",
       "Roxbury        2783\n",
       "East Boston    1195\n",
       "Name: CITY, dtype: int64"
      ]
     },
     "execution_count": 62,
     "metadata": {},
     "output_type": "execute_result"
    }
   ],
   "source": [
    "df.groupby('CITY')['CITY'].count().nlargest()"
   ]
  },
  {
   "cell_type": "markdown",
   "metadata": {},
   "source": [
    "## Question 5, General Investigation - cont."
   ]
  },
  {
   "cell_type": "markdown",
   "metadata": {},
   "source": [
    "### 5.1, Which column has the most Nan in it and how many Nan ? (4 pts)"
   ]
  },
  {
   "cell_type": "code",
   "execution_count": 65,
   "metadata": {},
   "outputs": [
    {
     "data": {
      "text/plain": [
       "CITY    22880\n",
       "dtype: int64"
      ]
     },
     "execution_count": 65,
     "metadata": {},
     "output_type": "execute_result"
    }
   ],
   "source": [
    "df.isna().sum().nlargest(1)"
   ]
  },
  {
   "cell_type": "markdown",
   "metadata": {},
   "source": [
    "### 5.2, There are some rows has incorrect date entry(the DATEs are in the future compare to today's date '2024-10-31'. How many rows has this type of error? (4 pts)"
   ]
  },
  {
   "cell_type": "code",
   "execution_count": 67,
   "metadata": {},
   "outputs": [
    {
     "data": {
      "text/plain": [
       "6"
      ]
     },
     "execution_count": 67,
     "metadata": {},
     "output_type": "execute_result"
    }
   ],
   "source": [
    "len(df[df.index > '2024-10-31'])"
   ]
  },
  {
   "cell_type": "markdown",
   "metadata": {},
   "source": [
    "### 5.3, There are some rows' *SUBJECT_AGE* entry with age = -1 . How many rows has this type of error? replace those '-1' with '0' then report the total number of rows with *SUBJECT_AGE* = 0. (4 pts)"
   ]
  },
  {
   "cell_type": "code",
   "execution_count": 69,
   "metadata": {},
   "outputs": [
    {
     "data": {
      "text/plain": [
       "1308"
      ]
     },
     "execution_count": 69,
     "metadata": {},
     "output_type": "execute_result"
    }
   ],
   "source": [
    "(df.SUBJECT_AGE == -1).sum()"
   ]
  },
  {
   "cell_type": "code",
   "execution_count": 70,
   "metadata": {},
   "outputs": [
    {
     "data": {
      "text/plain": [
       "56"
      ]
     },
     "execution_count": 70,
     "metadata": {},
     "output_type": "execute_result"
    }
   ],
   "source": [
    "(df.SUBJECT_AGE==0).sum()"
   ]
  },
  {
   "cell_type": "code",
   "execution_count": 71,
   "metadata": {},
   "outputs": [],
   "source": [
    "df.replace({'SUBJECT_AGE': {-1:0} }, inplace=True)"
   ]
  },
  {
   "cell_type": "code",
   "execution_count": 72,
   "metadata": {},
   "outputs": [
    {
     "data": {
      "text/plain": [
       "1364"
      ]
     },
     "execution_count": 72,
     "metadata": {},
     "output_type": "execute_result"
    }
   ],
   "source": [
    "(df.SUBJECT_AGE==0).sum()"
   ]
  },
  {
   "cell_type": "markdown",
   "metadata": {},
   "source": [
    "## Question 6, ETHNICITY Investigation"
   ]
  },
  {
   "cell_type": "markdown",
   "metadata": {},
   "source": [
    "### 6.1, For each *SUBJECT_ETHNICITY*, what the total interventions number? Show the ethnicity and their total intervention numbers in decending order. (5 pts)"
   ]
  },
  {
   "cell_type": "code",
   "execution_count": 75,
   "metadata": {},
   "outputs": [
    {
     "data": {
      "text/plain": [
       "SUBJECT_ETHNICITY\n",
       "B(Black)                                29367\n",
       "W(White)                                11237\n",
       "H(Hispanic)                              6597\n",
       "NO DATA ENTERED                          2002\n",
       "A(Asian or Pacific Islander)              393\n",
       "UNKNOWN                                   217\n",
       "M(Middle Eastern or East Indian)          162\n",
       "I(American Indian or Alaskan Native)       25\n",
       "dtype: int64"
      ]
     },
     "execution_count": 75,
     "metadata": {},
     "output_type": "execute_result"
    }
   ],
   "source": [
    "df.groupby('SUBJECT_ETHNICITY').size().sort_values(ascending=False)"
   ]
  },
  {
   "cell_type": "markdown",
   "metadata": {},
   "source": [
    "### 6.2, What *SUBJECT_ETHNICITY* has the highest average *SUBJECT_AGE*? Report the ethnicity and its aveage age. (5 pts)"
   ]
  },
  {
   "cell_type": "code",
   "execution_count": 77,
   "metadata": {},
   "outputs": [
    {
     "data": {
      "text/plain": [
       "SUBJECT_ETHNICITY\n",
       "W(White)    32.192845\n",
       "Name: SUBJECT_AGE, dtype: float64"
      ]
     },
     "execution_count": 77,
     "metadata": {},
     "output_type": "execute_result"
    }
   ],
   "source": [
    "df.groupby('SUBJECT_ETHNICITY')['SUBJECT_AGE'].mean().nlargest(1)"
   ]
  },
  {
   "cell_type": "markdown",
   "metadata": {},
   "source": [
    "## Question 7, Intervention Reasons"
   ]
  },
  {
   "cell_type": "markdown",
   "metadata": {},
   "source": [
    "### 7.1, What's the top 5 reasons for police interventions ? (5 pts)"
   ]
  },
  {
   "cell_type": "code",
   "execution_count": 80,
   "metadata": {},
   "outputs": [
    {
     "data": {
      "text/plain": [
       "REASONS\n",
       "INVESTIGATE, PERSON     30872\n",
       "VAL                      7057\n",
       "TRESPASSING              1540\n",
       "DRUGS, INVESTIGATION     1227\n",
       "INVESTIGATE, MV          1120\n",
       "dtype: int64"
      ]
     },
     "execution_count": 80,
     "metadata": {},
     "output_type": "execute_result"
    }
   ],
   "source": [
    "df.groupby('REASONS').size().nlargest()"
   ]
  },
  {
   "cell_type": "markdown",
   "metadata": {},
   "source": [
    "### 7.2, What is the proportion of interventions whose *REASONS* include FIREARM or DRUGS? You must only return one number between 0 and 1. Do not round it. (5 pts)"
   ]
  },
  {
   "cell_type": "code",
   "execution_count": 82,
   "metadata": {},
   "outputs": [
    {
     "data": {
      "text/plain": [
       "0.04458"
      ]
     },
     "execution_count": 82,
     "metadata": {},
     "output_type": "execute_result"
    }
   ],
   "source": [
    "df.REASONS.apply(lambda x: True if 'FIREARM' in x \\\n",
    "                                 or 'DRUGS' in x \\\n",
    "                                 else False).mean()"
   ]
  },
  {
   "cell_type": "markdown",
   "metadata": {},
   "source": [
    "or .."
   ]
  },
  {
   "cell_type": "code",
   "execution_count": 84,
   "metadata": {},
   "outputs": [
    {
     "data": {
      "text/plain": [
       "0.04458"
      ]
     },
     "execution_count": 84,
     "metadata": {},
     "output_type": "execute_result"
    }
   ],
   "source": [
    "(df.REASONS.str.contains('FIREARM') | df.REASONS.str.contains('DRUGS')).mean()"
   ]
  },
  {
   "cell_type": "markdown",
   "metadata": {},
   "source": [
    "## Question 8, Gender and Age Investigation"
   ]
  },
  {
   "cell_type": "markdown",
   "metadata": {},
   "source": [
    "### Q8.1, Based on *SUBJECT_GENDER*,  consider only *SUBJECT_AGE* between 15 to 100(both 15 and 100 are included).Show each group's average age in one table(5 pts). "
   ]
  },
  {
   "cell_type": "code",
   "execution_count": 87,
   "metadata": {},
   "outputs": [],
   "source": [
    "df_15_100= df[(df.SUBJECT_AGE >= 15) & (df.SUBJECT_AGE <= 100)]"
   ]
  },
  {
   "cell_type": "code",
   "execution_count": 88,
   "metadata": {},
   "outputs": [
    {
     "data": {
      "text/plain": [
       "SUBJECT_GENDER\n",
       "FEMALE     30.832264\n",
       "MALE       28.843986\n",
       "UNKNOWN    33.843373\n",
       "Name: SUBJECT_AGE, dtype: float64"
      ]
     },
     "execution_count": 88,
     "metadata": {},
     "output_type": "execute_result"
    }
   ],
   "source": [
    "df_15_100.groupby('SUBJECT_GENDER')['SUBJECT_AGE'].mean()"
   ]
  },
  {
   "cell_type": "markdown",
   "metadata": {},
   "source": [
    "### Q8.2, Based on above queston, Show each group's age maximum, minimum and the gap between max and min(call that gap 'age_spread') in one table. (5 pts)"
   ]
  },
  {
   "cell_type": "code",
   "execution_count": 90,
   "metadata": {},
   "outputs": [
    {
     "data": {
      "text/html": [
       "<div>\n",
       "<style scoped>\n",
       "    .dataframe tbody tr th:only-of-type {\n",
       "        vertical-align: middle;\n",
       "    }\n",
       "\n",
       "    .dataframe tbody tr th {\n",
       "        vertical-align: top;\n",
       "    }\n",
       "\n",
       "    .dataframe thead th {\n",
       "        text-align: right;\n",
       "    }\n",
       "</style>\n",
       "<table border=\"1\" class=\"dataframe\">\n",
       "  <thead>\n",
       "    <tr style=\"text-align: right;\">\n",
       "      <th></th>\n",
       "      <th>min</th>\n",
       "      <th>age_spread</th>\n",
       "      <th>max</th>\n",
       "    </tr>\n",
       "    <tr>\n",
       "      <th>SUBJECT_GENDER</th>\n",
       "      <th></th>\n",
       "      <th></th>\n",
       "      <th></th>\n",
       "    </tr>\n",
       "  </thead>\n",
       "  <tbody>\n",
       "    <tr>\n",
       "      <th>FEMALE</th>\n",
       "      <td>15</td>\n",
       "      <td>69</td>\n",
       "      <td>84</td>\n",
       "    </tr>\n",
       "    <tr>\n",
       "      <th>MALE</th>\n",
       "      <td>15</td>\n",
       "      <td>82</td>\n",
       "      <td>97</td>\n",
       "    </tr>\n",
       "    <tr>\n",
       "      <th>UNKNOWN</th>\n",
       "      <td>15</td>\n",
       "      <td>54</td>\n",
       "      <td>69</td>\n",
       "    </tr>\n",
       "  </tbody>\n",
       "</table>\n",
       "</div>"
      ],
      "text/plain": [
       "                min  age_spread  max\n",
       "SUBJECT_GENDER                      \n",
       "FEMALE           15          69   84\n",
       "MALE             15          82   97\n",
       "UNKNOWN          15          54   69"
      ]
     },
     "execution_count": 90,
     "metadata": {},
     "output_type": "execute_result"
    }
   ],
   "source": [
    "df_15_100.groupby('SUBJECT_GENDER')['SUBJECT_AGE'].\\\n",
    "        agg({'max','min',lambda x: x.max()-x.min()}).\\\n",
    "                rename(columns={'<lambda_0>':'age_spread'})"
   ]
  },
  {
   "cell_type": "markdown",
   "metadata": {},
   "source": [
    "## Question 9, Vehicle Investigation"
   ]
  },
  {
   "cell_type": "markdown",
   "metadata": {},
   "source": [
    "### For each OFFICER_ID, find the number of interventions whose SUBJECT_VEHICLE is a HONDA or a BMW. Call these columns N_HONDA and N_BMW, respectively. Display the result table's first 5 rows based on N_HONDA in descending order. (10 pts)"
   ]
  },
  {
   "cell_type": "code",
   "execution_count": 93,
   "metadata": {},
   "outputs": [],
   "source": [
    "df['N_HONDA'] = df.SUBJECT_VEHICLE=='HONDA'"
   ]
  },
  {
   "cell_type": "code",
   "execution_count": 94,
   "metadata": {},
   "outputs": [],
   "source": [
    "df['N_BMW'] = df.SUBJECT_VEHICLE=='BMW'"
   ]
  },
  {
   "cell_type": "code",
   "execution_count": 95,
   "metadata": {},
   "outputs": [
    {
     "data": {
      "text/html": [
       "<div>\n",
       "<style scoped>\n",
       "    .dataframe tbody tr th:only-of-type {\n",
       "        vertical-align: middle;\n",
       "    }\n",
       "\n",
       "    .dataframe tbody tr th {\n",
       "        vertical-align: top;\n",
       "    }\n",
       "\n",
       "    .dataframe thead th {\n",
       "        text-align: right;\n",
       "    }\n",
       "</style>\n",
       "<table border=\"1\" class=\"dataframe\">\n",
       "  <thead>\n",
       "    <tr style=\"text-align: right;\">\n",
       "      <th></th>\n",
       "      <th>N_HONDA</th>\n",
       "      <th>N_BMW</th>\n",
       "    </tr>\n",
       "    <tr>\n",
       "      <th>OFFICER_ID</th>\n",
       "      <th></th>\n",
       "      <th></th>\n",
       "    </tr>\n",
       "  </thead>\n",
       "  <tbody>\n",
       "    <tr>\n",
       "      <th>1</th>\n",
       "      <td>8</td>\n",
       "      <td>2</td>\n",
       "    </tr>\n",
       "    <tr>\n",
       "      <th>2</th>\n",
       "      <td>0</td>\n",
       "      <td>0</td>\n",
       "    </tr>\n",
       "    <tr>\n",
       "      <th>1070</th>\n",
       "      <td>0</td>\n",
       "      <td>1</td>\n",
       "    </tr>\n",
       "    <tr>\n",
       "      <th>1113</th>\n",
       "      <td>0</td>\n",
       "      <td>0</td>\n",
       "    </tr>\n",
       "    <tr>\n",
       "      <th>1144</th>\n",
       "      <td>0</td>\n",
       "      <td>0</td>\n",
       "    </tr>\n",
       "  </tbody>\n",
       "</table>\n",
       "</div>"
      ],
      "text/plain": [
       "            N_HONDA  N_BMW\n",
       "OFFICER_ID                \n",
       "1                 8      2\n",
       "2                 0      0\n",
       "1070              0      1\n",
       "1113              0      0\n",
       "1144              0      0"
      ]
     },
     "execution_count": 95,
     "metadata": {},
     "output_type": "execute_result"
    }
   ],
   "source": [
    "df.groupby('OFFICER_ID').agg({'N_HONDA':'sum','N_BMW':'sum'}).head()"
   ]
  },
  {
   "cell_type": "code",
   "execution_count": 96,
   "metadata": {
    "scrolled": true
   },
   "outputs": [
    {
     "data": {
      "text/html": [
       "<div>\n",
       "<style scoped>\n",
       "    .dataframe tbody tr th:only-of-type {\n",
       "        vertical-align: middle;\n",
       "    }\n",
       "\n",
       "    .dataframe tbody tr th {\n",
       "        vertical-align: top;\n",
       "    }\n",
       "\n",
       "    .dataframe thead th {\n",
       "        text-align: right;\n",
       "    }\n",
       "</style>\n",
       "<table border=\"1\" class=\"dataframe\">\n",
       "  <thead>\n",
       "    <tr style=\"text-align: right;\">\n",
       "      <th></th>\n",
       "      <th>N_HONDA</th>\n",
       "      <th>N_BMW</th>\n",
       "    </tr>\n",
       "    <tr>\n",
       "      <th>OFFICER_ID</th>\n",
       "      <th></th>\n",
       "      <th></th>\n",
       "    </tr>\n",
       "  </thead>\n",
       "  <tbody>\n",
       "    <tr>\n",
       "      <th>92675</th>\n",
       "      <td>52</td>\n",
       "      <td>4</td>\n",
       "    </tr>\n",
       "    <tr>\n",
       "      <th>83575</th>\n",
       "      <td>44</td>\n",
       "      <td>4</td>\n",
       "    </tr>\n",
       "    <tr>\n",
       "      <th>91908</th>\n",
       "      <td>39</td>\n",
       "      <td>5</td>\n",
       "    </tr>\n",
       "    <tr>\n",
       "      <th>107106</th>\n",
       "      <td>35</td>\n",
       "      <td>5</td>\n",
       "    </tr>\n",
       "    <tr>\n",
       "      <th>55238</th>\n",
       "      <td>35</td>\n",
       "      <td>1</td>\n",
       "    </tr>\n",
       "  </tbody>\n",
       "</table>\n",
       "</div>"
      ],
      "text/plain": [
       "            N_HONDA  N_BMW\n",
       "OFFICER_ID                \n",
       "92675            52      4\n",
       "83575            44      4\n",
       "91908            39      5\n",
       "107106           35      5\n",
       "55238            35      1"
      ]
     },
     "execution_count": 96,
     "metadata": {},
     "output_type": "execute_result"
    }
   ],
   "source": [
    "df.groupby('OFFICER_ID').agg({'N_HONDA':'sum','N_BMW':'sum'}).\\\n",
    "            sort_values(by='N_HONDA',ascending=False)[:5]"
   ]
  },
  {
   "cell_type": "code",
   "execution_count": null,
   "metadata": {},
   "outputs": [],
   "source": []
  }
 ],
 "metadata": {
  "kernelspec": {
   "display_name": "Python 3 (ipykernel)",
   "language": "python",
   "name": "python3"
  },
  "language_info": {
   "codemirror_mode": {
    "name": "ipython",
    "version": 3
   },
   "file_extension": ".py",
   "mimetype": "text/x-python",
   "name": "python",
   "nbconvert_exporter": "python",
   "pygments_lexer": "ipython3",
   "version": "3.12.2"
  }
 },
 "nbformat": 4,
 "nbformat_minor": 4
}
